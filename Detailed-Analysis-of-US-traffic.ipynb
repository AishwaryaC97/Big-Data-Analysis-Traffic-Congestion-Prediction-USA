{
 "cells": [
  {
   "cell_type": "markdown",
   "metadata": {},
   "source": [
    "#### load libraries "
   ]
  },
  {
   "cell_type": "code",
   "execution_count": 3,
   "metadata": {
    "execution": {
     "iopub.execute_input": "2021-09-20T23:05:54.838255Z",
     "iopub.status.busy": "2021-09-20T23:05:54.837953Z",
     "iopub.status.idle": "2021-09-20T23:05:54.859223Z",
     "shell.execute_reply": "2021-09-20T23:05:54.858387Z",
     "shell.execute_reply.started": "2021-09-20T23:05:54.838218Z"
    }
   },
   "outputs": [
    {
     "name": "stdout",
     "output_type": "stream",
     "text": [
      "data\\dot_traffic_stations_2015.txt\n",
      "data\\dot_traffic_US.txt\n"
     ]
    }
   ],
   "source": [
    "import numpy as np # linear algebra\n",
    "import pandas as pd # data processing, CSV file I/O (e.g. pd.read_csv)\n",
    "\n",
    "# Input data files are available in the read-only \"data\" directory\n",
    "# For example, running this (by clicking run or pressing Shift+Enter) will list all files under the input directory\n",
    "\n",
    "import os\n",
    "for dirname, _, filenames in os.walk('data'):\n",
    "    for filename in filenames:\n",
    "        print(os.path.join(dirname, filename))"
   ]
  },
  {
   "cell_type": "code",
   "execution_count": 7,
   "metadata": {},
   "outputs": [
    {
     "name": "stdout",
     "output_type": "stream",
     "text": [
      "Collecting graphviz\n",
      "  Downloading graphviz-0.17-py3-none-any.whl (18 kB)\n",
      "Installing collected packages: graphviz\n",
      "Successfully installed graphviz-0.17\n"
     ]
    }
   ],
   "source": [
    "# !pip install pydot\n",
    "# !pip install graphviz"
   ]
  },
  {
   "cell_type": "code",
   "execution_count": 4,
   "metadata": {
    "execution": {
     "iopub.execute_input": "2021-09-20T23:05:54.862088Z",
     "iopub.status.busy": "2021-09-20T23:05:54.861087Z",
     "iopub.status.idle": "2021-09-20T23:05:56.083736Z",
     "shell.execute_reply": "2021-09-20T23:05:56.082776Z",
     "shell.execute_reply.started": "2021-09-20T23:05:54.862032Z"
    },
    "id": "NLVeqpOOJVWc"
   },
   "outputs": [],
   "source": [
    "%matplotlib inline\n",
    "import matplotlib.pyplot as plt\n",
    "import seaborn as sns\n",
    "plt.style.use('ggplot')\n",
    "\n",
    "from scipy import stats\n",
    "import numpy as np\n",
    "import pandas as pd\n",
    "import pydot\n",
    "import os\n",
    "\n",
    "from sklearn.model_selection import train_test_split\n",
    "from sklearn.ensemble import RandomForestRegressor\n",
    "from sklearn.metrics import mean_squared_error\n",
    "from sklearn.metrics import r2_score\n",
    "from graphviz import Source\n",
    "from sklearn import tree\n",
    "\n",
    "# display warnings only the first time\n",
    "import warnings\n",
    "warnings.filterwarnings('ignore')"
   ]
  },
  {
   "cell_type": "code",
   "execution_count": 24,
   "metadata": {},
   "outputs": [
    {
     "data": {
      "text/html": [
       "\n",
       "            <div>\n",
       "                <p><b>SparkSession - in-memory</b></p>\n",
       "                \n",
       "        <div>\n",
       "            <p><b>SparkContext</b></p>\n",
       "\n",
       "            <p><a href=\"http://host.docker.internal:4040\">Spark UI</a></p>\n",
       "\n",
       "            <dl>\n",
       "              <dt>Version</dt>\n",
       "                <dd><code>v3.1.2</code></dd>\n",
       "              <dt>Master</dt>\n",
       "                <dd><code>local[*]</code></dd>\n",
       "              <dt>AppName</dt>\n",
       "                <dd><code>Dataframe</code></dd>\n",
       "            </dl>\n",
       "        </div>\n",
       "        \n",
       "            </div>\n",
       "        "
      ],
      "text/plain": [
       "<pyspark.sql.session.SparkSession at 0x1b701392d00>"
      ]
     },
     "execution_count": 24,
     "metadata": {},
     "output_type": "execute_result"
    }
   ],
   "source": [
    "### SPARK LIBRARIES\n",
    "from pyspark.sql import SparkSession\n",
    "spark=SparkSession.builder.appName('Dataframe').getOrCreate()\n",
    "spark"
   ]
  },
  {
   "cell_type": "code",
   "execution_count": 25,
   "metadata": {},
   "outputs": [],
   "source": [
    "## read the dataset\n",
    "# df_pyspark=spark.read.option('header','true').csv('data/dot_traffic_stations_2015.txt',inferSchema=True)"
   ]
  },
  {
   "cell_type": "code",
   "execution_count": 26,
   "metadata": {},
   "outputs": [
    {
     "name": "stdout",
     "output_type": "stream",
     "text": [
      "root\n",
      " |-- algorithm_of_vehicle_classification: string (nullable = true)\n",
      " |-- algorithm_of_vehicle_classification_name: string (nullable = true)\n",
      " |-- calibration_of_weighing_system: string (nullable = true)\n",
      " |-- calibration_of_weighing_system_name: string (nullable = true)\n",
      " |-- classification_system_for_vehicle_classification: integer (nullable = true)\n",
      " |-- concurrent_route_signing: integer (nullable = true)\n",
      " |-- concurrent_signed_route_number: string (nullable = true)\n",
      " |-- direction_of_travel: integer (nullable = true)\n",
      " |-- direction_of_travel_name: string (nullable = true)\n",
      " |-- fips_county_code: integer (nullable = true)\n",
      " |-- fips_state_code: integer (nullable = true)\n",
      " |-- functional_classification: string (nullable = true)\n",
      " |-- functional_classification_name: string (nullable = true)\n",
      " |-- hpms_sample_identifier: string (nullable = true)\n",
      " |-- hpms_sample_type: string (nullable = true)\n",
      " |-- lane_of_travel: integer (nullable = true)\n",
      " |-- lane_of_travel_name: string (nullable = true)\n",
      " |-- latitude: double (nullable = true)\n",
      " |-- longitude: double (nullable = true)\n",
      " |-- lrs_identification: string (nullable = true)\n",
      " |-- lrs_location_point: integer (nullable = true)\n",
      " |-- method_of_data_retrieval: integer (nullable = true)\n",
      " |-- method_of_data_retrieval_name: string (nullable = true)\n",
      " |-- method_of_traffic_volume_counting: integer (nullable = true)\n",
      " |-- method_of_traffic_volume_counting_name: string (nullable = true)\n",
      " |-- method_of_truck_weighing: integer (nullable = true)\n",
      " |-- method_of_truck_weighing_name: string (nullable = true)\n",
      " |-- method_of_vehicle_classification: integer (nullable = true)\n",
      " |-- method_of_vehicle_classification_name: string (nullable = true)\n",
      " |-- national_highway_system: string (nullable = true)\n",
      " |-- number_of_lanes_in_direction_indicated: integer (nullable = true)\n",
      " |-- number_of_lanes_monitored_for_traffic_volume: integer (nullable = true)\n",
      " |-- number_of_lanes_monitored_for_truck_weight: integer (nullable = true)\n",
      " |-- number_of_lanes_monitored_for_vehicle_class: integer (nullable = true)\n",
      " |-- posted_route_signing: integer (nullable = true)\n",
      " |-- posted_signed_route_number: string (nullable = true)\n",
      " |-- previous_station_id: string (nullable = true)\n",
      " |-- primary_purpose: string (nullable = true)\n",
      " |-- primary_purpose_name: string (nullable = true)\n",
      " |-- record_type: string (nullable = true)\n",
      " |-- sample_type_for_traffic_volume: string (nullable = true)\n",
      " |-- sample_type_for_traffic_volume_name: string (nullable = true)\n",
      " |-- sample_type_for_truck_weight: string (nullable = true)\n",
      " |-- sample_type_for_truck_weight_name: string (nullable = true)\n",
      " |-- sample_type_for_vehicle_classification: string (nullable = true)\n",
      " |-- sample_type_for_vehicle_classification_name: string (nullable = true)\n",
      " |-- second_type_of_sensor: string (nullable = true)\n",
      " |-- shrp_site_identification: string (nullable = true)\n",
      " |-- station_id: string (nullable = true)\n",
      " |-- station_location: string (nullable = true)\n",
      " |-- type_of_sensor: string (nullable = true)\n",
      " |-- type_of_sensor_name: string (nullable = true)\n",
      " |-- year_of_data: integer (nullable = true)\n",
      " |-- year_station_discontinued: integer (nullable = true)\n",
      " |-- year_station_established: integer (nullable = true)\n",
      "\n"
     ]
    }
   ],
   "source": [
    "### Check the schema\n",
    "# df_pyspark.printSchema()"
   ]
  },
  {
   "cell_type": "code",
   "execution_count": 27,
   "metadata": {},
   "outputs": [],
   "source": [
    "# traffic_station_df = df_pyspark.toPandas()"
   ]
  },
  {
   "cell_type": "markdown",
   "metadata": {
    "id": "-j7dpgjcQNvN"
   },
   "source": [
    "Importing both the datasets"
   ]
  },
  {
   "cell_type": "code",
   "execution_count": 6,
   "metadata": {
    "execution": {
     "iopub.execute_input": "2021-09-20T23:05:56.086208Z",
     "iopub.status.busy": "2021-09-20T23:05:56.085895Z",
     "iopub.status.idle": "2021-09-20T23:07:00.787168Z",
     "shell.execute_reply": "2021-09-20T23:07:00.786111Z",
     "shell.execute_reply.started": "2021-09-20T23:05:56.086166Z"
    },
    "id": "RdSxhGQfJVWd"
   },
   "outputs": [],
   "source": [
    "# traffic station characteristics\n",
    "\n",
    "# # change the path name of the dataset according to the location of data on your device.\n",
    "traffic_station_df = pd.read_csv(\"data/dot_traffic_stations_2015.txt\",\n",
    "                                 header=0, sep=',', quotechar='\"')\n",
    "\n",
    "# # traffic volume metrics associated to each traffic station\n",
    "\n",
    "# # change the path name of the dataset according to the location of data on your device.\n",
    "traffic_df = pd.read_csv(\"data/dot_traffic_US.txt\",\n",
    "                         header=0, sep=',', quotechar='\"')\n",
    "\n",
    "# rename long feature names\n",
    "traffic_station_df.rename(columns = {\"number_of_lanes_in_direction_indicated\": \"lane_count\"}, inplace = True)"
   ]
  },
  {
   "cell_type": "markdown",
   "metadata": {
    "id": "rD4Xh-hoJVWe"
   },
   "source": [
    "# **CLEANING DATA - TRAFFIC DATA**"
   ]
  },
  {
   "cell_type": "code",
   "execution_count": 7,
   "metadata": {
    "execution": {
     "iopub.execute_input": "2021-09-20T23:07:00.789553Z",
     "iopub.status.busy": "2021-09-20T23:07:00.789184Z",
     "iopub.status.idle": "2021-09-20T23:07:00.825829Z",
     "shell.execute_reply": "2021-09-20T23:07:00.824503Z",
     "shell.execute_reply.started": "2021-09-20T23:07:00.789508Z"
    },
    "id": "sZ7uPesVJVWg",
    "outputId": "eef8b95c-e941-4204-f157-a281fbe38f79"
   },
   "outputs": [
    {
     "name": "stdout",
     "output_type": "stream",
     "text": [
      "Traffic data:\n"
     ]
    },
    {
     "data": {
      "text/html": [
       "<div>\n",
       "<style scoped>\n",
       "    .dataframe tbody tr th:only-of-type {\n",
       "        vertical-align: middle;\n",
       "    }\n",
       "\n",
       "    .dataframe tbody tr th {\n",
       "        vertical-align: top;\n",
       "    }\n",
       "\n",
       "    .dataframe thead th {\n",
       "        text-align: right;\n",
       "    }\n",
       "</style>\n",
       "<table border=\"1\" class=\"dataframe\">\n",
       "  <thead>\n",
       "    <tr style=\"text-align: right;\">\n",
       "      <th></th>\n",
       "      <th>date</th>\n",
       "      <th>day_of_data</th>\n",
       "      <th>day_of_week</th>\n",
       "      <th>direction_of_travel</th>\n",
       "      <th>direction_of_travel_name</th>\n",
       "      <th>fips_state_code</th>\n",
       "      <th>functional_classification</th>\n",
       "      <th>functional_classification_name</th>\n",
       "      <th>lane_of_travel</th>\n",
       "      <th>month_of_data</th>\n",
       "      <th>...</th>\n",
       "      <th>traffic_volume_counted_after_1500_to_1600</th>\n",
       "      <th>traffic_volume_counted_after_1600_to_1700</th>\n",
       "      <th>traffic_volume_counted_after_1700_to_1800</th>\n",
       "      <th>traffic_volume_counted_after_1800_to_1900</th>\n",
       "      <th>traffic_volume_counted_after_1900_to_2000</th>\n",
       "      <th>traffic_volume_counted_after_2000_to_2100</th>\n",
       "      <th>traffic_volume_counted_after_2100_to_2200</th>\n",
       "      <th>traffic_volume_counted_after_2200_to_2300</th>\n",
       "      <th>traffic_volume_counted_after_2300_to_2400</th>\n",
       "      <th>year_of_data</th>\n",
       "    </tr>\n",
       "  </thead>\n",
       "  <tbody>\n",
       "    <tr>\n",
       "      <th>0</th>\n",
       "      <td>2015-04-07</td>\n",
       "      <td>7</td>\n",
       "      <td>3</td>\n",
       "      <td>1</td>\n",
       "      <td>North</td>\n",
       "      <td>56</td>\n",
       "      <td>3R</td>\n",
       "      <td>Rural: Principal Arterial - Other</td>\n",
       "      <td>1</td>\n",
       "      <td>4</td>\n",
       "      <td>...</td>\n",
       "      <td>89</td>\n",
       "      <td>122</td>\n",
       "      <td>124</td>\n",
       "      <td>110</td>\n",
       "      <td>69</td>\n",
       "      <td>73</td>\n",
       "      <td>28</td>\n",
       "      <td>12</td>\n",
       "      <td>6</td>\n",
       "      <td>15</td>\n",
       "    </tr>\n",
       "    <tr>\n",
       "      <th>1</th>\n",
       "      <td>2015-09-26</td>\n",
       "      <td>26</td>\n",
       "      <td>7</td>\n",
       "      <td>7</td>\n",
       "      <td>West</td>\n",
       "      <td>21</td>\n",
       "      <td>1U</td>\n",
       "      <td>Urban: Principal Arterial - Interstate</td>\n",
       "      <td>2</td>\n",
       "      <td>9</td>\n",
       "      <td>...</td>\n",
       "      <td>1617</td>\n",
       "      <td>1669</td>\n",
       "      <td>1308</td>\n",
       "      <td>1068</td>\n",
       "      <td>928</td>\n",
       "      <td>885</td>\n",
       "      <td>798</td>\n",
       "      <td>650</td>\n",
       "      <td>613</td>\n",
       "      <td>15</td>\n",
       "    </tr>\n",
       "    <tr>\n",
       "      <th>2</th>\n",
       "      <td>2015-06-16</td>\n",
       "      <td>16</td>\n",
       "      <td>3</td>\n",
       "      <td>3</td>\n",
       "      <td>East</td>\n",
       "      <td>6</td>\n",
       "      <td>1U</td>\n",
       "      <td>Urban: Principal Arterial - Interstate</td>\n",
       "      <td>0</td>\n",
       "      <td>6</td>\n",
       "      <td>...</td>\n",
       "      <td>4244</td>\n",
       "      <td>4405</td>\n",
       "      <td>4609</td>\n",
       "      <td>4361</td>\n",
       "      <td>3272</td>\n",
       "      <td>2243</td>\n",
       "      <td>2050</td>\n",
       "      <td>1453</td>\n",
       "      <td>892</td>\n",
       "      <td>15</td>\n",
       "    </tr>\n",
       "    <tr>\n",
       "      <th>3</th>\n",
       "      <td>2015-04-26</td>\n",
       "      <td>26</td>\n",
       "      <td>1</td>\n",
       "      <td>5</td>\n",
       "      <td>South</td>\n",
       "      <td>55</td>\n",
       "      <td>1U</td>\n",
       "      <td>Urban: Principal Arterial - Interstate</td>\n",
       "      <td>1</td>\n",
       "      <td>4</td>\n",
       "      <td>...</td>\n",
       "      <td>1011</td>\n",
       "      <td>959</td>\n",
       "      <td>851</td>\n",
       "      <td>708</td>\n",
       "      <td>559</td>\n",
       "      <td>457</td>\n",
       "      <td>297</td>\n",
       "      <td>207</td>\n",
       "      <td>110</td>\n",
       "      <td>15</td>\n",
       "    </tr>\n",
       "    <tr>\n",
       "      <th>4</th>\n",
       "      <td>2015-05-23</td>\n",
       "      <td>23</td>\n",
       "      <td>7</td>\n",
       "      <td>3</td>\n",
       "      <td>East</td>\n",
       "      <td>4</td>\n",
       "      <td>4R</td>\n",
       "      <td>Rural: Minor Arterial</td>\n",
       "      <td>0</td>\n",
       "      <td>5</td>\n",
       "      <td>...</td>\n",
       "      <td>83</td>\n",
       "      <td>61</td>\n",
       "      <td>55</td>\n",
       "      <td>35</td>\n",
       "      <td>29</td>\n",
       "      <td>21</td>\n",
       "      <td>23</td>\n",
       "      <td>9</td>\n",
       "      <td>7</td>\n",
       "      <td>15</td>\n",
       "    </tr>\n",
       "  </tbody>\n",
       "</table>\n",
       "<p>5 rows × 38 columns</p>\n",
       "</div>"
      ],
      "text/plain": [
       "         date  day_of_data  day_of_week  direction_of_travel  \\\n",
       "0  2015-04-07            7            3                    1   \n",
       "1  2015-09-26           26            7                    7   \n",
       "2  2015-06-16           16            3                    3   \n",
       "3  2015-04-26           26            1                    5   \n",
       "4  2015-05-23           23            7                    3   \n",
       "\n",
       "  direction_of_travel_name  fips_state_code functional_classification  \\\n",
       "0                    North               56                        3R   \n",
       "1                     West               21                        1U   \n",
       "2                     East                6                        1U   \n",
       "3                    South               55                        1U   \n",
       "4                     East                4                        4R   \n",
       "\n",
       "           functional_classification_name  lane_of_travel  month_of_data  ...  \\\n",
       "0       Rural: Principal Arterial - Other               1              4  ...   \n",
       "1  Urban: Principal Arterial - Interstate               2              9  ...   \n",
       "2  Urban: Principal Arterial - Interstate               0              6  ...   \n",
       "3  Urban: Principal Arterial - Interstate               1              4  ...   \n",
       "4                   Rural: Minor Arterial               0              5  ...   \n",
       "\n",
       "   traffic_volume_counted_after_1500_to_1600  \\\n",
       "0                                         89   \n",
       "1                                       1617   \n",
       "2                                       4244   \n",
       "3                                       1011   \n",
       "4                                         83   \n",
       "\n",
       "   traffic_volume_counted_after_1600_to_1700  \\\n",
       "0                                        122   \n",
       "1                                       1669   \n",
       "2                                       4405   \n",
       "3                                        959   \n",
       "4                                         61   \n",
       "\n",
       "  traffic_volume_counted_after_1700_to_1800  \\\n",
       "0                                       124   \n",
       "1                                      1308   \n",
       "2                                      4609   \n",
       "3                                       851   \n",
       "4                                        55   \n",
       "\n",
       "   traffic_volume_counted_after_1800_to_1900  \\\n",
       "0                                        110   \n",
       "1                                       1068   \n",
       "2                                       4361   \n",
       "3                                        708   \n",
       "4                                         35   \n",
       "\n",
       "   traffic_volume_counted_after_1900_to_2000  \\\n",
       "0                                         69   \n",
       "1                                        928   \n",
       "2                                       3272   \n",
       "3                                        559   \n",
       "4                                         29   \n",
       "\n",
       "   traffic_volume_counted_after_2000_to_2100  \\\n",
       "0                                         73   \n",
       "1                                        885   \n",
       "2                                       2243   \n",
       "3                                        457   \n",
       "4                                         21   \n",
       "\n",
       "   traffic_volume_counted_after_2100_to_2200  \\\n",
       "0                                         28   \n",
       "1                                        798   \n",
       "2                                       2050   \n",
       "3                                        297   \n",
       "4                                         23   \n",
       "\n",
       "   traffic_volume_counted_after_2200_to_2300  \\\n",
       "0                                         12   \n",
       "1                                        650   \n",
       "2                                       1453   \n",
       "3                                        207   \n",
       "4                                          9   \n",
       "\n",
       "   traffic_volume_counted_after_2300_to_2400  year_of_data  \n",
       "0                                          6            15  \n",
       "1                                        613            15  \n",
       "2                                        892            15  \n",
       "3                                        110            15  \n",
       "4                                          7            15  \n",
       "\n",
       "[5 rows x 38 columns]"
      ]
     },
     "execution_count": 7,
     "metadata": {},
     "output_type": "execute_result"
    }
   ],
   "source": [
    "print('Traffic data:')\n",
    "traffic_df.head()"
   ]
  },
  {
   "cell_type": "code",
   "execution_count": 11,
   "metadata": {},
   "outputs": [
    {
     "name": "stdout",
     "output_type": "stream",
     "text": [
      "Total Number of Rows & Columns :: \n",
      "(7140391, 38)\n"
     ]
    }
   ],
   "source": [
    "print(\"Total Number of Rows & Columns :: \")\n",
    "print(traffic_df.shape)"
   ]
  },
  {
   "cell_type": "markdown",
   "metadata": {
    "id": "Oo_WD1aVP5cO"
   },
   "source": [
    "We can see here that '**restrictions**' column is completely **empty** and therefore will be of no use to us."
   ]
  },
  {
   "cell_type": "code",
   "execution_count": 12,
   "metadata": {
    "execution": {
     "iopub.execute_input": "2021-09-20T23:07:00.829315Z",
     "iopub.status.busy": "2021-09-20T23:07:00.828800Z",
     "iopub.status.idle": "2021-09-20T23:07:04.904962Z",
     "shell.execute_reply": "2021-09-20T23:07:04.904125Z",
     "shell.execute_reply.started": "2021-09-20T23:07:00.829258Z"
    },
    "id": "SCjWEFz_JVWg",
    "outputId": "c899a0ca-e100-4c2e-aa51-0f1617480476"
   },
   "outputs": [
    {
     "data": {
      "text/plain": [
       "date                                               0\n",
       "day_of_data                                        0\n",
       "day_of_week                                        0\n",
       "direction_of_travel                                0\n",
       "direction_of_travel_name                           0\n",
       "fips_state_code                                    0\n",
       "functional_classification                          0\n",
       "functional_classification_name                     0\n",
       "lane_of_travel                                     0\n",
       "month_of_data                                      0\n",
       "record_type                                        0\n",
       "restrictions                                 7140391\n",
       "station_id                                         0\n",
       "traffic_volume_counted_after_0000_to_0100          0\n",
       "traffic_volume_counted_after_0100_to_0200          0\n",
       "traffic_volume_counted_after_0200_to_0300          0\n",
       "traffic_volume_counted_after_0300_to_0400          0\n",
       "traffic_volume_counted_after_0400_to_0500          0\n",
       "traffic_volume_counted_after_0500_to_0600          0\n",
       "traffic_volume_counted_after_0600_to_0700          0\n",
       "traffic_volume_counted_after_0700_to_0800          0\n",
       "traffic_volume_counted_after_0800_to_0900          0\n",
       "traffic_volume_counted_after_0900_to_1000          0\n",
       "traffic_volume_counted_after_1000_to_1100          0\n",
       "traffic_volume_counted_after_1100_to_1200          0\n",
       "traffic_volume_counted_after_1200_to_1300          0\n",
       "traffic_volume_counted_after_1300_to_1400          0\n",
       "traffic_volume_counted_after_1400_to_1500          0\n",
       "traffic_volume_counted_after_1500_to_1600          0\n",
       "traffic_volume_counted_after_1600_to_1700          0\n",
       "traffic_volume_counted_after_1700_to_1800          0\n",
       "traffic_volume_counted_after_1800_to_1900          0\n",
       "traffic_volume_counted_after_1900_to_2000          0\n",
       "traffic_volume_counted_after_2000_to_2100          0\n",
       "traffic_volume_counted_after_2100_to_2200          0\n",
       "traffic_volume_counted_after_2200_to_2300          0\n",
       "traffic_volume_counted_after_2300_to_2400          0\n",
       "year_of_data                                       0\n",
       "dtype: int64"
      ]
     },
     "execution_count": 12,
     "metadata": {},
     "output_type": "execute_result"
    }
   ],
   "source": [
    "traffic_df.isnull().sum()"
   ]
  },
  {
   "cell_type": "markdown",
   "metadata": {
    "id": "zh58WUmyQJ-6"
   },
   "source": [
    "dropping **restrictions** column because it contains all values as null"
   ]
  },
  {
   "cell_type": "code",
   "execution_count": 13,
   "metadata": {
    "execution": {
     "iopub.execute_input": "2021-09-20T23:07:04.906691Z",
     "iopub.status.busy": "2021-09-20T23:07:04.906365Z",
     "iopub.status.idle": "2021-09-20T23:07:10.442902Z",
     "shell.execute_reply": "2021-09-20T23:07:10.442179Z",
     "shell.execute_reply.started": "2021-09-20T23:07:04.906648Z"
    },
    "id": "sdLZIgk-JVWh"
   },
   "outputs": [],
   "source": [
    "# dropping restrictions column because it contains all values as null\n",
    "traffic_df.dropna(how='all', axis=1, inplace=True)\n",
    "traffic_df.reset_index(inplace=True, drop=True)"
   ]
  },
  {
   "cell_type": "code",
   "execution_count": 14,
   "metadata": {
    "execution": {
     "iopub.execute_input": "2021-09-20T23:07:10.444886Z",
     "iopub.status.busy": "2021-09-20T23:07:10.444376Z",
     "iopub.status.idle": "2021-09-20T23:07:10.455029Z",
     "shell.execute_reply": "2021-09-20T23:07:10.454182Z",
     "shell.execute_reply.started": "2021-09-20T23:07:10.444853Z"
    },
    "id": "xPxxyp6jJVWi",
    "outputId": "69ffb803-61fe-4bcd-fa1f-75ffbd88ab41"
   },
   "outputs": [
    {
     "data": {
      "text/plain": [
       "date                                         object\n",
       "day_of_data                                   int64\n",
       "day_of_week                                   int64\n",
       "direction_of_travel                           int64\n",
       "direction_of_travel_name                     object\n",
       "fips_state_code                               int64\n",
       "functional_classification                    object\n",
       "functional_classification_name               object\n",
       "lane_of_travel                                int64\n",
       "month_of_data                                 int64\n",
       "record_type                                   int64\n",
       "station_id                                   object\n",
       "traffic_volume_counted_after_0000_to_0100     int64\n",
       "traffic_volume_counted_after_0100_to_0200     int64\n",
       "traffic_volume_counted_after_0200_to_0300     int64\n",
       "traffic_volume_counted_after_0300_to_0400     int64\n",
       "traffic_volume_counted_after_0400_to_0500     int64\n",
       "traffic_volume_counted_after_0500_to_0600     int64\n",
       "traffic_volume_counted_after_0600_to_0700     int64\n",
       "traffic_volume_counted_after_0700_to_0800     int64\n",
       "traffic_volume_counted_after_0800_to_0900     int64\n",
       "traffic_volume_counted_after_0900_to_1000     int64\n",
       "traffic_volume_counted_after_1000_to_1100     int64\n",
       "traffic_volume_counted_after_1100_to_1200     int64\n",
       "traffic_volume_counted_after_1200_to_1300     int64\n",
       "traffic_volume_counted_after_1300_to_1400     int64\n",
       "traffic_volume_counted_after_1400_to_1500     int64\n",
       "traffic_volume_counted_after_1500_to_1600     int64\n",
       "traffic_volume_counted_after_1600_to_1700     int64\n",
       "traffic_volume_counted_after_1700_to_1800     int64\n",
       "traffic_volume_counted_after_1800_to_1900     int64\n",
       "traffic_volume_counted_after_1900_to_2000     int64\n",
       "traffic_volume_counted_after_2000_to_2100     int64\n",
       "traffic_volume_counted_after_2100_to_2200     int64\n",
       "traffic_volume_counted_after_2200_to_2300     int64\n",
       "traffic_volume_counted_after_2300_to_2400     int64\n",
       "year_of_data                                  int64\n",
       "dtype: object"
      ]
     },
     "execution_count": 14,
     "metadata": {},
     "output_type": "execute_result"
    }
   ],
   "source": [
    "traffic_df.dtypes"
   ]
  },
  {
   "cell_type": "markdown",
   "metadata": {
    "id": "dHJ0LlF0QiyO"
   },
   "source": [
    "Changing the datatype of date column to datetime as the given datatype is not correct."
   ]
  },
  {
   "cell_type": "code",
   "execution_count": 15,
   "metadata": {
    "execution": {
     "iopub.execute_input": "2021-09-20T23:07:10.456702Z",
     "iopub.status.busy": "2021-09-20T23:07:10.456458Z",
     "iopub.status.idle": "2021-09-20T23:07:12.328625Z",
     "shell.execute_reply": "2021-09-20T23:07:12.327055Z",
     "shell.execute_reply.started": "2021-09-20T23:07:10.456673Z"
    },
    "id": "Zdl1L-4yJVWj"
   },
   "outputs": [],
   "source": [
    "# Changing the datatype of date column to datetime as the given datatype is not correct.\n",
    "traffic_df['date']= pd.to_datetime(traffic_df['date'], format='%Y-%m-%d')"
   ]
  },
  {
   "cell_type": "markdown",
   "metadata": {
    "id": "U76mxK1BJVWj"
   },
   "source": [
    "# **CLEANING DATA - STATION DATA**"
   ]
  },
  {
   "cell_type": "code",
   "execution_count": 16,
   "metadata": {
    "execution": {
     "iopub.execute_input": "2021-09-20T23:07:12.332196Z",
     "iopub.status.busy": "2021-09-20T23:07:12.331857Z",
     "iopub.status.idle": "2021-09-20T23:07:12.366027Z",
     "shell.execute_reply": "2021-09-20T23:07:12.364200Z",
     "shell.execute_reply.started": "2021-09-20T23:07:12.332152Z"
    },
    "id": "iQ7YVHeSJVWk",
    "outputId": "07fb6670-55e8-4e5e-8e02-034ae4d3eb90"
   },
   "outputs": [
    {
     "name": "stdout",
     "output_type": "stream",
     "text": [
      "Traffic Station data:\n"
     ]
    },
    {
     "data": {
      "text/html": [
       "<div>\n",
       "<style scoped>\n",
       "    .dataframe tbody tr th:only-of-type {\n",
       "        vertical-align: middle;\n",
       "    }\n",
       "\n",
       "    .dataframe tbody tr th {\n",
       "        vertical-align: top;\n",
       "    }\n",
       "\n",
       "    .dataframe thead th {\n",
       "        text-align: right;\n",
       "    }\n",
       "</style>\n",
       "<table border=\"1\" class=\"dataframe\">\n",
       "  <thead>\n",
       "    <tr style=\"text-align: right;\">\n",
       "      <th></th>\n",
       "      <th>algorithm_of_vehicle_classification</th>\n",
       "      <th>algorithm_of_vehicle_classification_name</th>\n",
       "      <th>calibration_of_weighing_system</th>\n",
       "      <th>calibration_of_weighing_system_name</th>\n",
       "      <th>classification_system_for_vehicle_classification</th>\n",
       "      <th>concurrent_route_signing</th>\n",
       "      <th>concurrent_signed_route_number</th>\n",
       "      <th>direction_of_travel</th>\n",
       "      <th>direction_of_travel_name</th>\n",
       "      <th>fips_county_code</th>\n",
       "      <th>...</th>\n",
       "      <th>sample_type_for_vehicle_classification_name</th>\n",
       "      <th>second_type_of_sensor</th>\n",
       "      <th>shrp_site_identification</th>\n",
       "      <th>station_id</th>\n",
       "      <th>station_location</th>\n",
       "      <th>type_of_sensor</th>\n",
       "      <th>type_of_sensor_name</th>\n",
       "      <th>year_of_data</th>\n",
       "      <th>year_station_discontinued</th>\n",
       "      <th>year_station_established</th>\n",
       "    </tr>\n",
       "  </thead>\n",
       "  <tbody>\n",
       "    <tr>\n",
       "      <th>0</th>\n",
       "      <td>NaN</td>\n",
       "      <td>NaN</td>\n",
       "      <td>NaN</td>\n",
       "      <td>NaN</td>\n",
       "      <td>13</td>\n",
       "      <td>3</td>\n",
       "      <td>091</td>\n",
       "      <td>7</td>\n",
       "      <td>West</td>\n",
       "      <td>59</td>\n",
       "      <td>...</td>\n",
       "      <td>Station not used for Heavy Vehicle Travel Info...</td>\n",
       "      <td>N</td>\n",
       "      <td>NaN</td>\n",
       "      <td>129130</td>\n",
       "      <td>LAKEVIEW AVENUE ORA91R10.091</td>\n",
       "      <td>L</td>\n",
       "      <td>Inductance loop</td>\n",
       "      <td>15</td>\n",
       "      <td>0</td>\n",
       "      <td>97</td>\n",
       "    </tr>\n",
       "    <tr>\n",
       "      <th>1</th>\n",
       "      <td>NaN</td>\n",
       "      <td>NaN</td>\n",
       "      <td>NaN</td>\n",
       "      <td>NaN</td>\n",
       "      <td>13</td>\n",
       "      <td>3</td>\n",
       "      <td>099</td>\n",
       "      <td>5</td>\n",
       "      <td>South</td>\n",
       "      <td>77</td>\n",
       "      <td>...</td>\n",
       "      <td>Station not used for Heavy Vehicle Travel Info...</td>\n",
       "      <td>N</td>\n",
       "      <td>NaN</td>\n",
       "      <td>100190</td>\n",
       "      <td>LITTLE JOHN CREEK SJ9912.526</td>\n",
       "      <td>L</td>\n",
       "      <td>Inductance loop</td>\n",
       "      <td>15</td>\n",
       "      <td>0</td>\n",
       "      <td>97</td>\n",
       "    </tr>\n",
       "    <tr>\n",
       "      <th>2</th>\n",
       "      <td>G</td>\n",
       "      <td>Axle spacing with Scheme F modified</td>\n",
       "      <td>NaN</td>\n",
       "      <td>NaN</td>\n",
       "      <td>15</td>\n",
       "      <td>1</td>\n",
       "      <td>005</td>\n",
       "      <td>1</td>\n",
       "      <td>North</td>\n",
       "      <td>93</td>\n",
       "      <td>...</td>\n",
       "      <td>Station used for Heavy Vehicle Travel Informat...</td>\n",
       "      <td>N</td>\n",
       "      <td>NaN</td>\n",
       "      <td>022940</td>\n",
       "      <td>EDGEWOOD SIS5R22.999</td>\n",
       "      <td>P</td>\n",
       "      <td>Piezoelectric</td>\n",
       "      <td>15</td>\n",
       "      <td>0</td>\n",
       "      <td>69</td>\n",
       "    </tr>\n",
       "    <tr>\n",
       "      <th>3</th>\n",
       "      <td>D</td>\n",
       "      <td>Vehicle length classification</td>\n",
       "      <td>M</td>\n",
       "      <td>Moving average of the steering axle of 3S2s</td>\n",
       "      <td>13</td>\n",
       "      <td>0</td>\n",
       "      <td>NaN</td>\n",
       "      <td>5</td>\n",
       "      <td>South</td>\n",
       "      <td>35</td>\n",
       "      <td>...</td>\n",
       "      <td>Station not used for Heavy Vehicle Travel Info...</td>\n",
       "      <td>NaN</td>\n",
       "      <td>NaN</td>\n",
       "      <td>000302</td>\n",
       "      <td>I 15  12900 South  M.P.  290.6</td>\n",
       "      <td>X</td>\n",
       "      <td>Radio wave</td>\n",
       "      <td>15</td>\n",
       "      <td>0</td>\n",
       "      <td>11</td>\n",
       "    </tr>\n",
       "    <tr>\n",
       "      <th>4</th>\n",
       "      <td>G</td>\n",
       "      <td>Axle spacing with Scheme F modified</td>\n",
       "      <td>0</td>\n",
       "      <td>NaN</td>\n",
       "      <td>14</td>\n",
       "      <td>1</td>\n",
       "      <td>000000</td>\n",
       "      <td>7</td>\n",
       "      <td>West</td>\n",
       "      <td>27</td>\n",
       "      <td>...</td>\n",
       "      <td>Station not used for Heavy Vehicle Travel Info...</td>\n",
       "      <td>NaN</td>\n",
       "      <td>NaN</td>\n",
       "      <td>W01136</td>\n",
       "      <td>E. of Franklin Rd Underpass</td>\n",
       "      <td>L</td>\n",
       "      <td>Inductance loop</td>\n",
       "      <td>15</td>\n",
       "      <td>0</td>\n",
       "      <td>95</td>\n",
       "    </tr>\n",
       "  </tbody>\n",
       "</table>\n",
       "<p>5 rows × 55 columns</p>\n",
       "</div>"
      ],
      "text/plain": [
       "  algorithm_of_vehicle_classification  \\\n",
       "0                                 NaN   \n",
       "1                                 NaN   \n",
       "2                                   G   \n",
       "3                                   D   \n",
       "4                                   G   \n",
       "\n",
       "  algorithm_of_vehicle_classification_name calibration_of_weighing_system  \\\n",
       "0                                      NaN                            NaN   \n",
       "1                                      NaN                            NaN   \n",
       "2      Axle spacing with Scheme F modified                            NaN   \n",
       "3            Vehicle length classification                              M   \n",
       "4      Axle spacing with Scheme F modified                              0   \n",
       "\n",
       "           calibration_of_weighing_system_name  \\\n",
       "0                                          NaN   \n",
       "1                                          NaN   \n",
       "2                                          NaN   \n",
       "3  Moving average of the steering axle of 3S2s   \n",
       "4                                          NaN   \n",
       "\n",
       "   classification_system_for_vehicle_classification  concurrent_route_signing  \\\n",
       "0                                                13                         3   \n",
       "1                                                13                         3   \n",
       "2                                                15                         1   \n",
       "3                                                13                         0   \n",
       "4                                                14                         1   \n",
       "\n",
       "  concurrent_signed_route_number  direction_of_travel  \\\n",
       "0                            091                    7   \n",
       "1                            099                    5   \n",
       "2                            005                    1   \n",
       "3                            NaN                    5   \n",
       "4                         000000                    7   \n",
       "\n",
       "  direction_of_travel_name  fips_county_code  ...  \\\n",
       "0                     West                59  ...   \n",
       "1                    South                77  ...   \n",
       "2                    North                93  ...   \n",
       "3                    South                35  ...   \n",
       "4                     West                27  ...   \n",
       "\n",
       "         sample_type_for_vehicle_classification_name second_type_of_sensor  \\\n",
       "0  Station not used for Heavy Vehicle Travel Info...                     N   \n",
       "1  Station not used for Heavy Vehicle Travel Info...                     N   \n",
       "2  Station used for Heavy Vehicle Travel Informat...                     N   \n",
       "3  Station not used for Heavy Vehicle Travel Info...                   NaN   \n",
       "4  Station not used for Heavy Vehicle Travel Info...                   NaN   \n",
       "\n",
       "  shrp_site_identification station_id                station_location  \\\n",
       "0                      NaN     129130    LAKEVIEW AVENUE ORA91R10.091   \n",
       "1                      NaN     100190    LITTLE JOHN CREEK SJ9912.526   \n",
       "2                      NaN     022940            EDGEWOOD SIS5R22.999   \n",
       "3                      NaN     000302  I 15  12900 South  M.P.  290.6   \n",
       "4                      NaN     W01136     E. of Franklin Rd Underpass   \n",
       "\n",
       "   type_of_sensor type_of_sensor_name  year_of_data  \\\n",
       "0               L     Inductance loop            15   \n",
       "1               L     Inductance loop            15   \n",
       "2               P       Piezoelectric            15   \n",
       "3               X          Radio wave            15   \n",
       "4               L     Inductance loop            15   \n",
       "\n",
       "   year_station_discontinued year_station_established  \n",
       "0                          0                       97  \n",
       "1                          0                       97  \n",
       "2                          0                       69  \n",
       "3                          0                       11  \n",
       "4                          0                       95  \n",
       "\n",
       "[5 rows x 55 columns]"
      ]
     },
     "execution_count": 16,
     "metadata": {},
     "output_type": "execute_result"
    }
   ],
   "source": [
    "# view top of station dataframe\n",
    "print('Traffic Station data:')\n",
    "traffic_station_df.head()"
   ]
  },
  {
   "cell_type": "markdown",
   "metadata": {
    "id": "bYeqwVjhQw-k"
   },
   "source": [
    "Here we are trying to observe the dataset so that we can clean it more efficiently"
   ]
  },
  {
   "cell_type": "code",
   "execution_count": 11,
   "metadata": {
    "execution": {
     "iopub.execute_input": "2021-09-20T23:07:12.370477Z",
     "iopub.status.busy": "2021-09-20T23:07:12.369963Z",
     "iopub.status.idle": "2021-09-20T23:07:12.411225Z",
     "shell.execute_reply": "2021-09-20T23:07:12.410300Z",
     "shell.execute_reply.started": "2021-09-20T23:07:12.370433Z"
    },
    "id": "J852eF4jJVWl"
   },
   "outputs": [],
   "source": [
    "# we are dropping the columns with more than 60% NULL values as they will not be able to contribute in the dataset and will reduce the model accuracy\n",
    "traffic_station_df.drop(['concurrent_signed_route_number', 'hpms_sample_identifier', \n",
    "                         'lrs_identification', 'lrs_location_point', \n",
    "                         'shrp_site_identification'], axis = 1, inplace=True)\n",
    "\n",
    "# here we are only dropping the rows which contains the null values in 'latitude', 'longitude', 'station_location' because they contain \n",
    "# significatly less null values and are useful columns.\n",
    "traffic_station_df.dropna(subset=['latitude', 'longitude', 'station_location'], inplace=True)\n",
    "traffic_station_df.reset_index(inplace=True, drop=True)"
   ]
  },
  {
   "cell_type": "code",
   "execution_count": 17,
   "metadata": {
    "execution": {
     "iopub.execute_input": "2021-09-20T23:07:12.414375Z",
     "iopub.status.busy": "2021-09-20T23:07:12.414097Z",
     "iopub.status.idle": "2021-09-20T23:07:12.548998Z",
     "shell.execute_reply": "2021-09-20T23:07:12.548341Z",
     "shell.execute_reply.started": "2021-09-20T23:07:12.414346Z"
    },
    "id": "sKTWgDISJVWm",
    "outputId": "d443700f-27ab-484c-ee4e-3f97823dbe98"
   },
   "outputs": [
    {
     "name": "stdout",
     "output_type": "stream",
     "text": [
      "Traffic_Station_Null_Mean: \n",
      "\n",
      "algorithm_of_vehicle_classification                 0.347432\n",
      "algorithm_of_vehicle_classification_name            0.391028\n",
      "calibration_of_weighing_system                      0.713167\n",
      "calibration_of_weighing_system_name                 0.765299\n",
      "classification_system_for_vehicle_classification    0.000000\n",
      "concurrent_route_signing                            0.000000\n",
      "concurrent_signed_route_number                      0.522518\n",
      "direction_of_travel                                 0.000000\n",
      "direction_of_travel_name                            0.000000\n",
      "fips_county_code                                    0.000000\n",
      "fips_state_code                                     0.000000\n",
      "functional_classification                           0.000000\n",
      "functional_classification_name                      0.000000\n",
      "hpms_sample_identifier                              0.535657\n",
      "hpms_sample_type                                    0.000000\n",
      "lane_of_travel                                      0.000000\n",
      "lane_of_travel_name                                 0.000000\n",
      "latitude                                            0.000035\n",
      "longitude                                           0.000035\n",
      "lrs_identification                                  0.193775\n",
      "lrs_location_point                                  0.316132\n",
      "method_of_data_retrieval                            0.000000\n",
      "method_of_data_retrieval_name                       0.015457\n",
      "method_of_traffic_volume_counting                   0.000000\n",
      "method_of_traffic_volume_counting_name              0.030914\n",
      "method_of_truck_weighing                            0.000000\n",
      "method_of_truck_weighing_name                       0.793227\n",
      "method_of_vehicle_classification                    0.000000\n",
      "method_of_vehicle_classification_name               0.392749\n",
      "national_highway_system                             0.000000\n",
      "lane_count                                          0.000000\n",
      "number_of_lanes_monitored_for_traffic_volume        0.000000\n",
      "number_of_lanes_monitored_for_truck_weight          0.000000\n",
      "number_of_lanes_monitored_for_vehicle_class         0.000000\n",
      "posted_route_signing                                0.000000\n",
      "posted_signed_route_number                          0.027893\n",
      "previous_station_id                                 0.790803\n",
      "primary_purpose                                     0.007377\n",
      "primary_purpose_name                                0.022764\n",
      "record_type                                         0.000000\n",
      "sample_type_for_traffic_volume                      0.028525\n",
      "sample_type_for_traffic_volume_name                 0.036886\n",
      "sample_type_for_truck_weight                        0.423734\n",
      "sample_type_for_truck_weight_name                   0.450081\n",
      "sample_type_for_vehicle_classification              0.122497\n",
      "sample_type_for_vehicle_classification_name         0.155062\n",
      "second_type_of_sensor                               0.201504\n",
      "shrp_site_identification                            0.857620\n",
      "station_id                                          0.000000\n",
      "station_location                                    0.001300\n",
      "type_of_sensor                                      0.012366\n",
      "type_of_sensor_name                                 0.012366\n",
      "year_of_data                                        0.000000\n",
      "year_station_discontinued                           0.000000\n",
      "year_station_established                            0.000000\n",
      "dtype: float64\n",
      "\n",
      "Traffic_Station_Shape: \n",
      "\n",
      "(28466, 55)\n",
      "\n"
     ]
    }
   ],
   "source": [
    "print('Traffic_Station_Null_Mean: \\n')\n",
    "print(traffic_station_df.isnull().mean(), end = '\\n\\n')\n",
    "\n",
    "print('Traffic_Station_Shape: \\n')\n",
    "print(traffic_station_df.shape, end = '\\n\\n')"
   ]
  },
  {
   "cell_type": "markdown",
   "metadata": {
    "id": "W2TQcUqlJVWm"
   },
   "source": [
    "# **EDA - TRAFFIC DATA**    (Feature Engineering)\n"
   ]
  },
  {
   "cell_type": "code",
   "execution_count": 18,
   "metadata": {
    "execution": {
     "iopub.execute_input": "2021-09-20T23:07:12.551392Z",
     "iopub.status.busy": "2021-09-20T23:07:12.551020Z",
     "iopub.status.idle": "2021-09-20T23:07:15.005737Z",
     "shell.execute_reply": "2021-09-20T23:07:15.004589Z",
     "shell.execute_reply.started": "2021-09-20T23:07:12.551350Z"
    },
    "id": "0r9_cPgnJVWn"
   },
   "outputs": [],
   "source": [
    "variables = ['traffic_volume_counted_after_0000_to_0100', 'traffic_volume_counted_after_0100_to_0200', 'traffic_volume_counted_after_0200_to_0300',\n",
    "            'traffic_volume_counted_after_0300_to_0400', 'traffic_volume_counted_after_0400_to_0500', 'traffic_volume_counted_after_0500_to_0600',\n",
    "             'traffic_volume_counted_after_0600_to_0700', 'traffic_volume_counted_after_0700_to_0800', 'traffic_volume_counted_after_0800_to_0900',\n",
    "             'traffic_volume_counted_after_0900_to_1000', 'traffic_volume_counted_after_1000_to_1100', 'traffic_volume_counted_after_1100_to_1200',\n",
    "             'traffic_volume_counted_after_1200_to_1300', 'traffic_volume_counted_after_1300_to_1400', 'traffic_volume_counted_after_1400_to_1500',\n",
    "             'traffic_volume_counted_after_1500_to_1600', 'traffic_volume_counted_after_1600_to_1700', 'traffic_volume_counted_after_1700_to_1800',\n",
    "             'traffic_volume_counted_after_1800_to_1900', 'traffic_volume_counted_after_1900_to_2000', 'traffic_volume_counted_after_2000_to_2100',\n",
    "             'traffic_volume_counted_after_2100_to_2200', 'traffic_volume_counted_after_2200_to_2300', 'traffic_volume_counted_after_2300_to_2400']\n",
    "\n",
    "# we will be starting by correcting the datatype of all the time-slots that are given to us, so that we will be able to sum them up very easily.\n",
    "traffic_df[variables] = traffic_df[variables].astype(float).astype(int)"
   ]
  },
  {
   "cell_type": "markdown",
   "metadata": {
    "id": "MeLphat2SYG9"
   },
   "source": [
    "Here we are merging the time-slots in the **bucket of 4 hours** so that instead of dealing with 24 hours we will only have to deal with more accurate and less data."
   ]
  },
  {
   "cell_type": "code",
   "execution_count": 19,
   "metadata": {
    "execution": {
     "iopub.execute_input": "2021-09-20T23:07:15.007154Z",
     "iopub.status.busy": "2021-09-20T23:07:15.006948Z",
     "iopub.status.idle": "2021-09-20T23:07:26.384874Z",
     "shell.execute_reply": "2021-09-20T23:07:26.383863Z",
     "shell.execute_reply.started": "2021-09-20T23:07:15.007131Z"
    },
    "id": "TUdnRK0wJVWn",
    "outputId": "95c9f01c-1257-47ea-8f3a-9dbdf20c8efe"
   },
   "outputs": [
    {
     "data": {
      "text/html": [
       "<div>\n",
       "<style scoped>\n",
       "    .dataframe tbody tr th:only-of-type {\n",
       "        vertical-align: middle;\n",
       "    }\n",
       "\n",
       "    .dataframe tbody tr th {\n",
       "        vertical-align: top;\n",
       "    }\n",
       "\n",
       "    .dataframe thead th {\n",
       "        text-align: right;\n",
       "    }\n",
       "</style>\n",
       "<table border=\"1\" class=\"dataframe\">\n",
       "  <thead>\n",
       "    <tr style=\"text-align: right;\">\n",
       "      <th></th>\n",
       "      <th>date</th>\n",
       "      <th>day_of_data</th>\n",
       "      <th>day_of_week</th>\n",
       "      <th>direction_of_travel</th>\n",
       "      <th>direction_of_travel_name</th>\n",
       "      <th>fips_state_code</th>\n",
       "      <th>functional_classification</th>\n",
       "      <th>functional_classification_name</th>\n",
       "      <th>lane_of_travel</th>\n",
       "      <th>month_of_data</th>\n",
       "      <th>station_id</th>\n",
       "      <th>1_to_4</th>\n",
       "      <th>5_to_8</th>\n",
       "      <th>9_to_12</th>\n",
       "      <th>13_to_16</th>\n",
       "      <th>17_to_20</th>\n",
       "      <th>21_to_24</th>\n",
       "    </tr>\n",
       "  </thead>\n",
       "  <tbody>\n",
       "    <tr>\n",
       "      <th>0</th>\n",
       "      <td>2015-04-07</td>\n",
       "      <td>7</td>\n",
       "      <td>3</td>\n",
       "      <td>1</td>\n",
       "      <td>North</td>\n",
       "      <td>56</td>\n",
       "      <td>3R</td>\n",
       "      <td>Rural: Principal Arterial - Other</td>\n",
       "      <td>1</td>\n",
       "      <td>4</td>\n",
       "      <td>000084</td>\n",
       "      <td>13</td>\n",
       "      <td>381</td>\n",
       "      <td>581</td>\n",
       "      <td>523</td>\n",
       "      <td>425</td>\n",
       "      <td>119</td>\n",
       "    </tr>\n",
       "    <tr>\n",
       "      <th>1</th>\n",
       "      <td>2015-09-26</td>\n",
       "      <td>26</td>\n",
       "      <td>7</td>\n",
       "      <td>7</td>\n",
       "      <td>West</td>\n",
       "      <td>21</td>\n",
       "      <td>1U</td>\n",
       "      <td>Urban: Principal Arterial - Interstate</td>\n",
       "      <td>2</td>\n",
       "      <td>9</td>\n",
       "      <td>056P94</td>\n",
       "      <td>1045</td>\n",
       "      <td>1700</td>\n",
       "      <td>4325</td>\n",
       "      <td>5829</td>\n",
       "      <td>4973</td>\n",
       "      <td>2946</td>\n",
       "    </tr>\n",
       "    <tr>\n",
       "      <th>2</th>\n",
       "      <td>2015-06-16</td>\n",
       "      <td>16</td>\n",
       "      <td>3</td>\n",
       "      <td>3</td>\n",
       "      <td>East</td>\n",
       "      <td>6</td>\n",
       "      <td>1U</td>\n",
       "      <td>Urban: Principal Arterial - Interstate</td>\n",
       "      <td>0</td>\n",
       "      <td>6</td>\n",
       "      <td>077590</td>\n",
       "      <td>1685</td>\n",
       "      <td>12487</td>\n",
       "      <td>18061</td>\n",
       "      <td>16324</td>\n",
       "      <td>16647</td>\n",
       "      <td>6638</td>\n",
       "    </tr>\n",
       "    <tr>\n",
       "      <th>3</th>\n",
       "      <td>2015-04-26</td>\n",
       "      <td>26</td>\n",
       "      <td>1</td>\n",
       "      <td>5</td>\n",
       "      <td>South</td>\n",
       "      <td>55</td>\n",
       "      <td>1U</td>\n",
       "      <td>Urban: Principal Arterial - Interstate</td>\n",
       "      <td>1</td>\n",
       "      <td>4</td>\n",
       "      <td>450001</td>\n",
       "      <td>312</td>\n",
       "      <td>811</td>\n",
       "      <td>3021</td>\n",
       "      <td>4057</td>\n",
       "      <td>3077</td>\n",
       "      <td>1071</td>\n",
       "    </tr>\n",
       "    <tr>\n",
       "      <th>4</th>\n",
       "      <td>2015-05-23</td>\n",
       "      <td>23</td>\n",
       "      <td>7</td>\n",
       "      <td>3</td>\n",
       "      <td>East</td>\n",
       "      <td>4</td>\n",
       "      <td>4R</td>\n",
       "      <td>Rural: Minor Arterial</td>\n",
       "      <td>0</td>\n",
       "      <td>5</td>\n",
       "      <td>102210</td>\n",
       "      <td>15</td>\n",
       "      <td>80</td>\n",
       "      <td>310</td>\n",
       "      <td>356</td>\n",
       "      <td>180</td>\n",
       "      <td>60</td>\n",
       "    </tr>\n",
       "  </tbody>\n",
       "</table>\n",
       "</div>"
      ],
      "text/plain": [
       "        date  day_of_data  day_of_week  direction_of_travel  \\\n",
       "0 2015-04-07            7            3                    1   \n",
       "1 2015-09-26           26            7                    7   \n",
       "2 2015-06-16           16            3                    3   \n",
       "3 2015-04-26           26            1                    5   \n",
       "4 2015-05-23           23            7                    3   \n",
       "\n",
       "  direction_of_travel_name  fips_state_code functional_classification  \\\n",
       "0                    North               56                        3R   \n",
       "1                     West               21                        1U   \n",
       "2                     East                6                        1U   \n",
       "3                    South               55                        1U   \n",
       "4                     East                4                        4R   \n",
       "\n",
       "           functional_classification_name  lane_of_travel  month_of_data  \\\n",
       "0       Rural: Principal Arterial - Other               1              4   \n",
       "1  Urban: Principal Arterial - Interstate               2              9   \n",
       "2  Urban: Principal Arterial - Interstate               0              6   \n",
       "3  Urban: Principal Arterial - Interstate               1              4   \n",
       "4                   Rural: Minor Arterial               0              5   \n",
       "\n",
       "  station_id  1_to_4  5_to_8  9_to_12  13_to_16  17_to_20  21_to_24  \n",
       "0     000084      13     381      581       523       425       119  \n",
       "1     056P94    1045    1700     4325      5829      4973      2946  \n",
       "2     077590    1685   12487    18061     16324     16647      6638  \n",
       "3     450001     312     811     3021      4057      3077      1071  \n",
       "4     102210      15      80      310       356       180        60  "
      ]
     },
     "execution_count": 19,
     "metadata": {},
     "output_type": "execute_result"
    }
   ],
   "source": [
    "till_4 = ['traffic_volume_counted_after_0000_to_0100', 'traffic_volume_counted_after_0100_to_0200', 'traffic_volume_counted_after_0200_to_0300',\n",
    "         'traffic_volume_counted_after_0300_to_0400']\n",
    "till_8 = ['traffic_volume_counted_after_0400_to_0500', 'traffic_volume_counted_after_0500_to_0600','traffic_volume_counted_after_0600_to_0700',\n",
    "         'traffic_volume_counted_after_0700_to_0800']\n",
    "till_12 = ['traffic_volume_counted_after_0800_to_0900','traffic_volume_counted_after_0900_to_1000', 'traffic_volume_counted_after_1000_to_1100',\n",
    "          'traffic_volume_counted_after_1100_to_1200']\n",
    "till_16 = ['traffic_volume_counted_after_1200_to_1300', 'traffic_volume_counted_after_1300_to_1400', 'traffic_volume_counted_after_1400_to_1500',\n",
    "            'traffic_volume_counted_after_1500_to_1600']\n",
    "till_20 = ['traffic_volume_counted_after_1600_to_1700', 'traffic_volume_counted_after_1700_to_1800','traffic_volume_counted_after_1800_to_1900',\n",
    "           'traffic_volume_counted_after_1900_to_2000']\n",
    "till_24 = ['traffic_volume_counted_after_2000_to_2100','traffic_volume_counted_after_2100_to_2200', 'traffic_volume_counted_after_2200_to_2300',\n",
    "           'traffic_volume_counted_after_2300_to_2400']\n",
    "\n",
    "# Here we are summing up the data of 4 hours and creating the new column with the new data that we have got after summing up.\n",
    "traffic_df['1_to_4'] = traffic_df[till_4].sum(axis=1, numeric_only= True)\n",
    "traffic_df['5_to_8'] = traffic_df[till_8].sum(axis=1, numeric_only= True)\n",
    "traffic_df['9_to_12'] = traffic_df[till_12].sum(axis=1, numeric_only= True)\n",
    "traffic_df['13_to_16'] = traffic_df[till_16].sum(axis=1, numeric_only= True)\n",
    "traffic_df['17_to_20'] = traffic_df[till_20].sum(axis=1, numeric_only= True)\n",
    "traffic_df['21_to_24'] = traffic_df[till_24].sum(axis=1, numeric_only= True)\n",
    "\n",
    "# here we are dropping the columns named 'year_of_data', 'record_type' because they have only one value throughout the data which will affect our model accuracy.\n",
    "traffic_df.drop(variables, axis = 1, inplace=True)\n",
    "traffic_df.drop(['year_of_data', 'record_type'], axis = 1, inplace=True)\n",
    "traffic_df.head()"
   ]
  },
  {
   "cell_type": "markdown",
   "metadata": {
    "id": "KYKufVhqTVTl"
   },
   "source": [
    "After creating bucket of 4 hours, here i am dividing the value of every **bucket by 4** so that out values does not explode and we only get the data of each hour relatively."
   ]
  },
  {
   "cell_type": "code",
   "execution_count": 20,
   "metadata": {
    "execution": {
     "iopub.execute_input": "2021-09-20T23:07:26.386803Z",
     "iopub.status.busy": "2021-09-20T23:07:26.386240Z",
     "iopub.status.idle": "2021-09-20T23:07:27.645601Z",
     "shell.execute_reply": "2021-09-20T23:07:27.644958Z",
     "shell.execute_reply.started": "2021-09-20T23:07:26.386767Z"
    },
    "id": "nzWGuUW7JVWo",
    "outputId": "4971070c-9dd1-4907-848e-a8a4502f3335"
   },
   "outputs": [
    {
     "data": {
      "text/html": [
       "<div>\n",
       "<style scoped>\n",
       "    .dataframe tbody tr th:only-of-type {\n",
       "        vertical-align: middle;\n",
       "    }\n",
       "\n",
       "    .dataframe tbody tr th {\n",
       "        vertical-align: top;\n",
       "    }\n",
       "\n",
       "    .dataframe thead th {\n",
       "        text-align: right;\n",
       "    }\n",
       "</style>\n",
       "<table border=\"1\" class=\"dataframe\">\n",
       "  <thead>\n",
       "    <tr style=\"text-align: right;\">\n",
       "      <th></th>\n",
       "      <th>date</th>\n",
       "      <th>day_of_data</th>\n",
       "      <th>day_of_week</th>\n",
       "      <th>direction_of_travel</th>\n",
       "      <th>direction_of_travel_name</th>\n",
       "      <th>fips_state_code</th>\n",
       "      <th>functional_classification</th>\n",
       "      <th>functional_classification_name</th>\n",
       "      <th>lane_of_travel</th>\n",
       "      <th>month_of_data</th>\n",
       "      <th>station_id</th>\n",
       "      <th>1_to_4</th>\n",
       "      <th>5_to_8</th>\n",
       "      <th>9_to_12</th>\n",
       "      <th>13_to_16</th>\n",
       "      <th>17_to_20</th>\n",
       "      <th>21_to_24</th>\n",
       "    </tr>\n",
       "  </thead>\n",
       "  <tbody>\n",
       "    <tr>\n",
       "      <th>0</th>\n",
       "      <td>2015-04-07</td>\n",
       "      <td>7</td>\n",
       "      <td>3</td>\n",
       "      <td>1</td>\n",
       "      <td>North</td>\n",
       "      <td>56</td>\n",
       "      <td>3R</td>\n",
       "      <td>Rural: Principal Arterial - Other</td>\n",
       "      <td>1</td>\n",
       "      <td>4</td>\n",
       "      <td>000084</td>\n",
       "      <td>3.25</td>\n",
       "      <td>95.25</td>\n",
       "      <td>145.25</td>\n",
       "      <td>130.75</td>\n",
       "      <td>106.25</td>\n",
       "      <td>29.75</td>\n",
       "    </tr>\n",
       "    <tr>\n",
       "      <th>1</th>\n",
       "      <td>2015-09-26</td>\n",
       "      <td>26</td>\n",
       "      <td>7</td>\n",
       "      <td>7</td>\n",
       "      <td>West</td>\n",
       "      <td>21</td>\n",
       "      <td>1U</td>\n",
       "      <td>Urban: Principal Arterial - Interstate</td>\n",
       "      <td>2</td>\n",
       "      <td>9</td>\n",
       "      <td>056P94</td>\n",
       "      <td>261.25</td>\n",
       "      <td>425.00</td>\n",
       "      <td>1081.25</td>\n",
       "      <td>1457.25</td>\n",
       "      <td>1243.25</td>\n",
       "      <td>736.50</td>\n",
       "    </tr>\n",
       "    <tr>\n",
       "      <th>2</th>\n",
       "      <td>2015-06-16</td>\n",
       "      <td>16</td>\n",
       "      <td>3</td>\n",
       "      <td>3</td>\n",
       "      <td>East</td>\n",
       "      <td>6</td>\n",
       "      <td>1U</td>\n",
       "      <td>Urban: Principal Arterial - Interstate</td>\n",
       "      <td>0</td>\n",
       "      <td>6</td>\n",
       "      <td>077590</td>\n",
       "      <td>421.25</td>\n",
       "      <td>3121.75</td>\n",
       "      <td>4515.25</td>\n",
       "      <td>4081.00</td>\n",
       "      <td>4161.75</td>\n",
       "      <td>1659.50</td>\n",
       "    </tr>\n",
       "    <tr>\n",
       "      <th>3</th>\n",
       "      <td>2015-04-26</td>\n",
       "      <td>26</td>\n",
       "      <td>1</td>\n",
       "      <td>5</td>\n",
       "      <td>South</td>\n",
       "      <td>55</td>\n",
       "      <td>1U</td>\n",
       "      <td>Urban: Principal Arterial - Interstate</td>\n",
       "      <td>1</td>\n",
       "      <td>4</td>\n",
       "      <td>450001</td>\n",
       "      <td>78.00</td>\n",
       "      <td>202.75</td>\n",
       "      <td>755.25</td>\n",
       "      <td>1014.25</td>\n",
       "      <td>769.25</td>\n",
       "      <td>267.75</td>\n",
       "    </tr>\n",
       "    <tr>\n",
       "      <th>4</th>\n",
       "      <td>2015-05-23</td>\n",
       "      <td>23</td>\n",
       "      <td>7</td>\n",
       "      <td>3</td>\n",
       "      <td>East</td>\n",
       "      <td>4</td>\n",
       "      <td>4R</td>\n",
       "      <td>Rural: Minor Arterial</td>\n",
       "      <td>0</td>\n",
       "      <td>5</td>\n",
       "      <td>102210</td>\n",
       "      <td>3.75</td>\n",
       "      <td>20.00</td>\n",
       "      <td>77.50</td>\n",
       "      <td>89.00</td>\n",
       "      <td>45.00</td>\n",
       "      <td>15.00</td>\n",
       "    </tr>\n",
       "  </tbody>\n",
       "</table>\n",
       "</div>"
      ],
      "text/plain": [
       "        date  day_of_data  day_of_week  direction_of_travel  \\\n",
       "0 2015-04-07            7            3                    1   \n",
       "1 2015-09-26           26            7                    7   \n",
       "2 2015-06-16           16            3                    3   \n",
       "3 2015-04-26           26            1                    5   \n",
       "4 2015-05-23           23            7                    3   \n",
       "\n",
       "  direction_of_travel_name  fips_state_code functional_classification  \\\n",
       "0                    North               56                        3R   \n",
       "1                     West               21                        1U   \n",
       "2                     East                6                        1U   \n",
       "3                    South               55                        1U   \n",
       "4                     East                4                        4R   \n",
       "\n",
       "           functional_classification_name  lane_of_travel  month_of_data  \\\n",
       "0       Rural: Principal Arterial - Other               1              4   \n",
       "1  Urban: Principal Arterial - Interstate               2              9   \n",
       "2  Urban: Principal Arterial - Interstate               0              6   \n",
       "3  Urban: Principal Arterial - Interstate               1              4   \n",
       "4                   Rural: Minor Arterial               0              5   \n",
       "\n",
       "  station_id  1_to_4   5_to_8  9_to_12  13_to_16  17_to_20  21_to_24  \n",
       "0     000084    3.25    95.25   145.25    130.75    106.25     29.75  \n",
       "1     056P94  261.25   425.00  1081.25   1457.25   1243.25    736.50  \n",
       "2     077590  421.25  3121.75  4515.25   4081.00   4161.75   1659.50  \n",
       "3     450001   78.00   202.75   755.25   1014.25    769.25    267.75  \n",
       "4     102210    3.75    20.00    77.50     89.00     45.00     15.00  "
      ]
     },
     "execution_count": 20,
     "metadata": {},
     "output_type": "execute_result"
    }
   ],
   "source": [
    "traffic_df['1_to_4'] = traffic_df['1_to_4'].div(4)\n",
    "traffic_df['5_to_8'] = traffic_df['5_to_8'].div(4)\n",
    "traffic_df['9_to_12'] = traffic_df['9_to_12'].div(4)\n",
    "traffic_df['13_to_16'] = traffic_df['13_to_16'].div(4)\n",
    "traffic_df['17_to_20'] = traffic_df['17_to_20'].div(4)\n",
    "traffic_df['21_to_24'] = traffic_df['21_to_24'].div(4)\n",
    "traffic_df.head()"
   ]
  },
  {
   "cell_type": "markdown",
   "metadata": {
    "id": "k1paExmOULZ_"
   },
   "source": [
    "From the below **boxplot**'s we can clearly see that there exists some **outliers in the dataset**. Therefore now we will be working on removing the outliers present in the data. \n",
    "\n",
    "> 1.   In statistics, an outlier is an observation point that is distant from other observations.\n",
    "> 2.   In descriptive statistics, a box plot is a method for graphically depicting groups of numerical data through their quartiles. Box plots may also have lines extending vertically from the boxes (whiskers) indicating variability outside the upper and lower quartiles, hence the terms box-and-whisker plot and box-and-whisker diagram. Outliers may be plotted as individual points."
   ]
  },
  {
   "cell_type": "code",
   "execution_count": 21,
   "metadata": {
    "execution": {
     "iopub.execute_input": "2021-09-20T23:07:27.646973Z",
     "iopub.status.busy": "2021-09-20T23:07:27.646582Z",
     "iopub.status.idle": "2021-09-20T23:07:42.078654Z",
     "shell.execute_reply": "2021-09-20T23:07:42.077622Z",
     "shell.execute_reply.started": "2021-09-20T23:07:27.646943Z"
    },
    "id": "DBkEuUKwJVWo",
    "outputId": "eb1e3e7c-9302-4048-919e-ed6809c052a8"
   },
   "outputs": [
    {
     "data": {
      "image/png": "[encoded data removed]",
      "text/plain": [
       "<Figure size 1440x576 with 6 Axes>"
      ]
     },
     "metadata": {},
     "output_type": "display_data"
    }
   ],
   "source": [
    "timings=['1_to_4','5_to_8', '9_to_12', '13_to_16', '17_to_20', '21_to_24']\n",
    "plt.figure(figsize = (20,8))\n",
    "for i in range(1, 7):\n",
    "    plt.subplot(2, 3, i)\n",
    "    sns.boxplot(x=traffic_df[timings[i-1]])"
   ]
  },
  {
   "cell_type": "markdown",
   "metadata": {
    "id": "ktIwfKsjfSvu"
   },
   "source": [
    "For more detailed look we can see that **between hour 1 and 4** there exists many **outliers** and most of them are **above 3000 range**."
   ]
  },
  {
   "cell_type": "code",
   "execution_count": 17,
   "metadata": {
    "execution": {
     "iopub.execute_input": "2021-09-20T23:07:42.080420Z",
     "iopub.status.busy": "2021-09-20T23:07:42.080183Z",
     "iopub.status.idle": "2021-09-20T23:07:54.517954Z",
     "shell.execute_reply": "2021-09-20T23:07:54.517022Z",
     "shell.execute_reply.started": "2021-09-20T23:07:42.080393Z"
    },
    "id": "D8_cWIK4JVWo",
    "outputId": "944c75a7-a8e6-4b67-f7e1-861339189c6b"
   },
   "outputs": [
    {
     "data": {
      "image/png": "[encoded data removed]",
      "text/plain": [
       "<Figure size 1440x576 with 1 Axes>"
      ]
     },
     "metadata": {},
     "output_type": "display_data"
    }
   ],
   "source": [
    "# For more detailed look we can see that between hour 1 and 4 there exists many outliers and most of them are above 3000 range.\n",
    "\n",
    "fig, ax = plt.subplots(figsize=(20,8))\n",
    "ax.scatter(traffic_df['1_to_4'], traffic_df['day_of_week'])\n",
    "ax.set_xlabel('1 to 4')\n",
    "ax.set_ylabel('day of week')\n",
    "plt.show()"
   ]
  },
  {
   "cell_type": "markdown",
   "metadata": {
    "id": "nuJpngPrgOlp"
   },
   "source": [
    "Here we have used **Z-Score** to detect all the outliers present in the dataset.\n",
    "\n",
    "The intuition behind Z-score is to describe any data point by finding their relationship with the Standard Deviation and Mean of the group of data points. Z-score is finding the distribution of data where mean is 0 and standard deviation is 1 i.e. normal distribution.\n",
    "\n",
    "**how does this help in identifying the outliers?**\n",
    "\n",
    "> While calculating the Z-score we re-scale and center the data and look for data points which are too far from zero. These data points which are way too far from zero will be treated as the outliers. In most of the cases a threshold of 3 or -3 is used i.e if the Z-score value is greater than or less than 3 or -3 respectively, that data point will be identified as outliers.\n",
    "\n",
    "We will use Z-score function defined in scipy library to detect the outliers.\n",
    "\n",
    "1.   The **Z-score** is the signed number of standard deviations by which the value of an observation or data point is above the mean value of what is being observed or measured.\n"
   ]
  },
  {
   "cell_type": "code",
   "execution_count": 18,
   "metadata": {
    "execution": {
     "iopub.execute_input": "2021-09-20T23:07:54.519783Z",
     "iopub.status.busy": "2021-09-20T23:07:54.519481Z",
     "iopub.status.idle": "2021-09-20T23:07:56.312763Z",
     "shell.execute_reply": "2021-09-20T23:07:56.311615Z",
     "shell.execute_reply.started": "2021-09-20T23:07:54.519751Z"
    },
    "id": "LFIUyY3kJVWp",
    "outputId": "dda113ea-795e-4033-e779-521ba2e6cde2"
   },
   "outputs": [
    {
     "name": "stdout",
     "output_type": "stream",
     "text": [
      "           1_to_4    5_to_8   9_to_12  13_to_16  17_to_20  21_to_24\n",
      "0        0.358161  0.383019  0.490278  0.539823  0.529487  0.369380\n",
      "1        0.808870  0.122992  0.555000  0.738117  0.562474  0.642094\n",
      "2        1.532610  4.261234  4.389921  3.265818  3.365364  1.963056\n",
      "3        0.020038  0.218057  0.190940  0.311335  0.107250  0.028763\n",
      "4        0.355899  0.498493  0.565938  0.580044  0.588310  0.390490\n",
      "...           ...       ...       ...       ...       ...       ...\n",
      "7140386  0.354768  0.514221  0.598324  0.600275  0.584469  0.396930\n",
      "7140387  0.319712  0.088390  0.166421  0.015496  0.049627  0.237713\n",
      "7140388  0.093046  0.259565  0.080940  0.021036  0.149894  0.111055\n",
      "7140389  2.074285  7.203694  6.020935  5.271119  4.729114  2.944833\n",
      "7140390  0.334413  0.414477  0.514009  0.539823  0.460339  0.340041\n",
      "\n",
      "[7140391 rows x 6 columns]\n",
      "(array([      2,       2,       2, ..., 7140389, 7140389, 7140389]), array([1, 2, 3, ..., 2, 3, 4]))\n"
     ]
    }
   ],
   "source": [
    "timings=['1_to_4','5_to_8', '9_to_12', '13_to_16', '17_to_20', '21_to_24']\n",
    "z = np.abs(stats.zscore(traffic_df[timings]))\n",
    "print(z)\n",
    "threshold = 3\n",
    "print(np.where(z > 3))"
   ]
  },
  {
   "cell_type": "markdown",
   "metadata": {
    "id": "BoMOsB7hihSH"
   },
   "source": [
    "In the below cell we are taking only the values which are between the range of **-3 to 3 in Z-Score**.\n",
    "\n",
    "All other values are outliers."
   ]
  },
  {
   "cell_type": "code",
   "execution_count": 19,
   "metadata": {
    "execution": {
     "iopub.execute_input": "2021-09-20T23:07:56.315948Z",
     "iopub.status.busy": "2021-09-20T23:07:56.315496Z",
     "iopub.status.idle": "2021-09-20T23:08:04.898919Z",
     "shell.execute_reply": "2021-09-20T23:08:04.897763Z",
     "shell.execute_reply.started": "2021-09-20T23:07:56.315877Z"
    },
    "id": "JTaSvaAHJVWp"
   },
   "outputs": [],
   "source": [
    "traffic_df[timings] = traffic_df[timings][(z < 3).all(axis=1)]\n",
    "traffic_df[timings] = traffic_df[timings][(-3 < z).all(axis=1)]\n",
    "traffic_df.dropna(axis=0, how='any', thresh=None, subset=None, inplace=True)"
   ]
  },
  {
   "cell_type": "markdown",
   "metadata": {
    "id": "i41_dzcjjEok"
   },
   "source": [
    "Now when we are running the boxplot again we can clearly see that all the outliers that were present in the dataset have been removed.\n",
    "\n",
    "Hence we have now obtained a consistent and good performing dataset."
   ]
  },
  {
   "cell_type": "code",
   "execution_count": 20,
   "metadata": {
    "execution": {
     "iopub.execute_input": "2021-09-20T23:08:04.901249Z",
     "iopub.status.busy": "2021-09-20T23:08:04.900878Z",
     "iopub.status.idle": "2021-09-20T23:08:16.394483Z",
     "shell.execute_reply": "2021-09-20T23:08:16.393555Z",
     "shell.execute_reply.started": "2021-09-20T23:08:04.901205Z"
    },
    "id": "sUB2zVu0JVWp",
    "outputId": "5a07a254-960c-459e-ae5c-597141442169"
   },
   "outputs": [
    {
     "data": {
      "image/png": "[encoded data removed]",
      "text/plain": [
       "<Figure size 1440x576 with 6 Axes>"
      ]
     },
     "metadata": {},
     "output_type": "display_data"
    }
   ],
   "source": [
    "timings=['1_to_4','5_to_8', '9_to_12', '13_to_16', '17_to_20', '21_to_24']\n",
    "plt.figure(figsize = (20,8))\n",
    "for i in range(1, 7):\n",
    "    plt.subplot(2, 3, i)\n",
    "    sns.boxplot(x=traffic_df[timings[i-1]])"
   ]
  },
  {
   "cell_type": "markdown",
   "metadata": {
    "id": "fNmmT-2Rj2NU"
   },
   "source": [
    "We can also see from the below cell output that the** data consistency have been improved in all the time bucket sections** where we have appied the **Z-Score method** and there is nearly no visible difference between the **mean, 75%, and maximum** value of the dataset."
   ]
  },
  {
   "cell_type": "code",
   "execution_count": 21,
   "metadata": {
    "execution": {
     "iopub.execute_input": "2021-09-20T23:08:16.396019Z",
     "iopub.status.busy": "2021-09-20T23:08:16.395766Z",
     "iopub.status.idle": "2021-09-20T23:08:19.773008Z",
     "shell.execute_reply": "2021-09-20T23:08:19.771845Z",
     "shell.execute_reply.started": "2021-09-20T23:08:16.395989Z"
    },
    "id": "H1PyDWiyjixg",
    "outputId": "bea4a764-6d0b-4ff6-f2d0-df8207a8b56d"
   },
   "outputs": [
    {
     "data": {
      "text/html": [
       "<div>\n",
       "<style scoped>\n",
       "    .dataframe tbody tr th:only-of-type {\n",
       "        vertical-align: middle;\n",
       "    }\n",
       "\n",
       "    .dataframe tbody tr th {\n",
       "        vertical-align: top;\n",
       "    }\n",
       "\n",
       "    .dataframe thead th {\n",
       "        text-align: right;\n",
       "    }\n",
       "</style>\n",
       "<table border=\"1\" class=\"dataframe\">\n",
       "  <thead>\n",
       "    <tr style=\"text-align: right;\">\n",
       "      <th></th>\n",
       "      <th>day_of_data</th>\n",
       "      <th>day_of_week</th>\n",
       "      <th>direction_of_travel</th>\n",
       "      <th>fips_state_code</th>\n",
       "      <th>lane_of_travel</th>\n",
       "      <th>month_of_data</th>\n",
       "      <th>1_to_4</th>\n",
       "      <th>5_to_8</th>\n",
       "      <th>9_to_12</th>\n",
       "      <th>13_to_16</th>\n",
       "      <th>17_to_20</th>\n",
       "      <th>21_to_24</th>\n",
       "    </tr>\n",
       "  </thead>\n",
       "  <tbody>\n",
       "    <tr>\n",
       "      <th>count</th>\n",
       "      <td>6.901954e+06</td>\n",
       "      <td>6.901954e+06</td>\n",
       "      <td>6.901954e+06</td>\n",
       "      <td>6.901954e+06</td>\n",
       "      <td>6.901954e+06</td>\n",
       "      <td>6.901954e+06</td>\n",
       "      <td>6.901954e+06</td>\n",
       "      <td>6.901954e+06</td>\n",
       "      <td>6.901954e+06</td>\n",
       "      <td>6.901954e+06</td>\n",
       "      <td>6.901954e+06</td>\n",
       "      <td>6.901954e+06</td>\n",
       "    </tr>\n",
       "    <tr>\n",
       "      <th>mean</th>\n",
       "      <td>1.572624e+01</td>\n",
       "      <td>4.012449e+00</td>\n",
       "      <td>3.885063e+00</td>\n",
       "      <td>2.985262e+01</td>\n",
       "      <td>1.335427e+00</td>\n",
       "      <td>6.518998e+00</td>\n",
       "      <td>6.073193e+01</td>\n",
       "      <td>2.552298e+02</td>\n",
       "      <td>4.552350e+02</td>\n",
       "      <td>5.455916e+02</td>\n",
       "      <td>5.171385e+02</td>\n",
       "      <td>2.138846e+02</td>\n",
       "    </tr>\n",
       "    <tr>\n",
       "      <th>std</th>\n",
       "      <td>8.770013e+00</td>\n",
       "      <td>2.000232e+00</td>\n",
       "      <td>2.281844e+00</td>\n",
       "      <td>1.657622e+01</td>\n",
       "      <td>1.071629e+00</td>\n",
       "      <td>3.456660e+00</td>\n",
       "      <td>8.323963e+01</td>\n",
       "      <td>3.154451e+02</td>\n",
       "      <td>4.602179e+02</td>\n",
       "      <td>5.339154e+02</td>\n",
       "      <td>5.242792e+02</td>\n",
       "      <td>2.468112e+02</td>\n",
       "    </tr>\n",
       "    <tr>\n",
       "      <th>min</th>\n",
       "      <td>1.000000e+00</td>\n",
       "      <td>1.000000e+00</td>\n",
       "      <td>0.000000e+00</td>\n",
       "      <td>1.000000e+00</td>\n",
       "      <td>0.000000e+00</td>\n",
       "      <td>1.000000e+00</td>\n",
       "      <td>-1.000000e+00</td>\n",
       "      <td>-1.000000e+00</td>\n",
       "      <td>-1.000000e+00</td>\n",
       "      <td>-1.000000e+00</td>\n",
       "      <td>-1.000000e+00</td>\n",
       "      <td>-1.000000e+00</td>\n",
       "    </tr>\n",
       "    <tr>\n",
       "      <th>25%</th>\n",
       "      <td>8.000000e+00</td>\n",
       "      <td>2.000000e+00</td>\n",
       "      <td>1.000000e+00</td>\n",
       "      <td>1.300000e+01</td>\n",
       "      <td>1.000000e+00</td>\n",
       "      <td>4.000000e+00</td>\n",
       "      <td>9.000000e+00</td>\n",
       "      <td>4.700000e+01</td>\n",
       "      <td>1.282500e+02</td>\n",
       "      <td>1.640000e+02</td>\n",
       "      <td>1.435000e+02</td>\n",
       "      <td>4.500000e+01</td>\n",
       "    </tr>\n",
       "    <tr>\n",
       "      <th>50%</th>\n",
       "      <td>1.600000e+01</td>\n",
       "      <td>4.000000e+00</td>\n",
       "      <td>5.000000e+00</td>\n",
       "      <td>3.000000e+01</td>\n",
       "      <td>1.000000e+00</td>\n",
       "      <td>7.000000e+00</td>\n",
       "      <td>2.700000e+01</td>\n",
       "      <td>1.355000e+02</td>\n",
       "      <td>3.105000e+02</td>\n",
       "      <td>3.905000e+02</td>\n",
       "      <td>3.545000e+02</td>\n",
       "      <td>1.267500e+02</td>\n",
       "    </tr>\n",
       "    <tr>\n",
       "      <th>75%</th>\n",
       "      <td>2.300000e+01</td>\n",
       "      <td>6.000000e+00</td>\n",
       "      <td>5.000000e+00</td>\n",
       "      <td>4.400000e+01</td>\n",
       "      <td>2.000000e+00</td>\n",
       "      <td>1.000000e+01</td>\n",
       "      <td>7.975000e+01</td>\n",
       "      <td>3.357500e+02</td>\n",
       "      <td>6.277500e+02</td>\n",
       "      <td>7.545000e+02</td>\n",
       "      <td>7.207500e+02</td>\n",
       "      <td>2.940000e+02</td>\n",
       "    </tr>\n",
       "    <tr>\n",
       "      <th>max</th>\n",
       "      <td>3.100000e+01</td>\n",
       "      <td>7.000000e+00</td>\n",
       "      <td>9.000000e+00</td>\n",
       "      <td>5.600000e+01</td>\n",
       "      <td>9.000000e+00</td>\n",
       "      <td>1.200000e+01</td>\n",
       "      <td>7.455000e+02</td>\n",
       "      <td>2.299750e+03</td>\n",
       "      <td>3.270500e+03</td>\n",
       "      <td>3.805000e+03</td>\n",
       "      <td>3.781250e+03</td>\n",
       "      <td>2.383750e+03</td>\n",
       "    </tr>\n",
       "  </tbody>\n",
       "</table>\n",
       "</div>"
      ],
      "text/plain": [
       "        day_of_data   day_of_week  direction_of_travel  fips_state_code  \\\n",
       "count  6.901954e+06  6.901954e+06         6.901954e+06     6.901954e+06   \n",
       "mean   1.572624e+01  4.012449e+00         3.885063e+00     2.985262e+01   \n",
       "std    8.770013e+00  2.000232e+00         2.281844e+00     1.657622e+01   \n",
       "min    1.000000e+00  1.000000e+00         0.000000e+00     1.000000e+00   \n",
       "25%    8.000000e+00  2.000000e+00         1.000000e+00     1.300000e+01   \n",
       "50%    1.600000e+01  4.000000e+00         5.000000e+00     3.000000e+01   \n",
       "75%    2.300000e+01  6.000000e+00         5.000000e+00     4.400000e+01   \n",
       "max    3.100000e+01  7.000000e+00         9.000000e+00     5.600000e+01   \n",
       "\n",
       "       lane_of_travel  month_of_data        1_to_4        5_to_8  \\\n",
       "count    6.901954e+06   6.901954e+06  6.901954e+06  6.901954e+06   \n",
       "mean     1.335427e+00   6.518998e+00  6.073193e+01  2.552298e+02   \n",
       "std      1.071629e+00   3.456660e+00  8.323963e+01  3.154451e+02   \n",
       "min      0.000000e+00   1.000000e+00 -1.000000e+00 -1.000000e+00   \n",
       "25%      1.000000e+00   4.000000e+00  9.000000e+00  4.700000e+01   \n",
       "50%      1.000000e+00   7.000000e+00  2.700000e+01  1.355000e+02   \n",
       "75%      2.000000e+00   1.000000e+01  7.975000e+01  3.357500e+02   \n",
       "max      9.000000e+00   1.200000e+01  7.455000e+02  2.299750e+03   \n",
       "\n",
       "            9_to_12      13_to_16      17_to_20      21_to_24  \n",
       "count  6.901954e+06  6.901954e+06  6.901954e+06  6.901954e+06  \n",
       "mean   4.552350e+02  5.455916e+02  5.171385e+02  2.138846e+02  \n",
       "std    4.602179e+02  5.339154e+02  5.242792e+02  2.468112e+02  \n",
       "min   -1.000000e+00 -1.000000e+00 -1.000000e+00 -1.000000e+00  \n",
       "25%    1.282500e+02  1.640000e+02  1.435000e+02  4.500000e+01  \n",
       "50%    3.105000e+02  3.905000e+02  3.545000e+02  1.267500e+02  \n",
       "75%    6.277500e+02  7.545000e+02  7.207500e+02  2.940000e+02  \n",
       "max    3.270500e+03  3.805000e+03  3.781250e+03  2.383750e+03  "
      ]
     },
     "execution_count": 21,
     "metadata": {},
     "output_type": "execute_result"
    }
   ],
   "source": [
    "traffic_df.describe()"
   ]
  },
  {
   "cell_type": "markdown",
   "metadata": {
    "id": "Geh7XDADgmhK"
   },
   "source": [
    "## **Pattern 1**\n",
    "\n",
    "On the basis of below bar plot between **Traffic count and Days of weeks** across all time frames we can conclude that:\n",
    "\n",
    "- The **maximum amout of Traffic occurs on Day 6 i.e saturday around the hours of 12 to 16 i.e. Afternoon Hours**.\n",
    "- Also the traffic on other days is almost similar and the **minimum amount of traffic occurs during eary morning hours between 1 to 4**."
   ]
  },
  {
   "cell_type": "code",
   "execution_count": 22,
   "metadata": {
    "execution": {
     "iopub.execute_input": "2021-09-20T23:08:19.774821Z",
     "iopub.status.busy": "2021-09-20T23:08:19.774471Z",
     "iopub.status.idle": "2021-09-20T23:08:20.638518Z",
     "shell.execute_reply": "2021-09-20T23:08:20.637385Z",
     "shell.execute_reply.started": "2021-09-20T23:08:19.774781Z"
    },
    "id": "GPdlai-FJVWq",
    "outputId": "c160f205-d599-4c03-9d52-c7e1a49cc93c"
   },
   "outputs": [
    {
     "data": {
      "text/plain": [
       "<matplotlib.legend.Legend at 0x7f8c142ee410>"
      ]
     },
     "execution_count": 22,
     "metadata": {},
     "output_type": "execute_result"
    },
    {
     "data": {
      "image/png": "[encoded data removed]",
      "text/plain": [
       "<Figure size 1800x720 with 1 Axes>"
      ]
     },
     "metadata": {},
     "output_type": "display_data"
    }
   ],
   "source": [
    "timings=['1_to_4','5_to_8', '9_to_12', '13_to_16', '17_to_20', '21_to_24']\n",
    "Week_Traffic = pd.DataFrame(traffic_df.groupby(['day_of_week'], axis=0, as_index=False)[timings].mean())\n",
    "\n",
    "legends=['1 - 4','4 - 8', '8 - 12', '12 - 16', '16 - 20', '20 - 24']\n",
    "plt.style.use('fivethirtyeight')\n",
    "\n",
    "Week_Traffic.plot(x='day_of_week', y=timings, kind=\"bar\", figsize=(25,10), xlabel = 'Day of week', ylabel = 'Traffic count')\n",
    "plt.legend(title='Timings', labels=legends)"
   ]
  },
  {
   "cell_type": "code",
   "execution_count": 23,
   "metadata": {
    "execution": {
     "iopub.execute_input": "2021-09-20T23:08:20.640451Z",
     "iopub.status.busy": "2021-09-20T23:08:20.640193Z",
     "iopub.status.idle": "2021-09-20T23:08:22.159382Z",
     "shell.execute_reply": "2021-09-20T23:08:22.158646Z",
     "shell.execute_reply.started": "2021-09-20T23:08:20.640423Z"
    },
    "id": "s3vlmFdBJVWq"
   },
   "outputs": [],
   "source": [
    "# We are renaming the very long direction name in this code cell\n",
    "\n",
    "traffic_df[\"direction_of_travel_name\"].replace({\"North-South or Northeast-Southwest combined (ATR stations only)\": \"Northeast-Southwest\", \n",
    "                                                \"East-West or Southeast-Northwest combined (ATR stations only)\": \"Southeast-Northwest\"}, inplace=True)"
   ]
  },
  {
   "cell_type": "markdown",
   "metadata": {
    "id": "EkQvIAN0hQj1"
   },
   "source": [
    "The below code cell helps us to observe the data more vividly and understand it better."
   ]
  },
  {
   "cell_type": "code",
   "execution_count": 24,
   "metadata": {
    "execution": {
     "iopub.execute_input": "2021-09-20T23:08:22.161657Z",
     "iopub.status.busy": "2021-09-20T23:08:22.161078Z",
     "iopub.status.idle": "2021-09-20T23:08:25.484324Z",
     "shell.execute_reply": "2021-09-20T23:08:25.483434Z",
     "shell.execute_reply.started": "2021-09-20T23:08:22.161611Z"
    },
    "id": "Igtf80OGJVWq",
    "outputId": "35003b23-86d0-476c-bc2f-e2823ca644cc"
   },
   "outputs": [
    {
     "name": "stdout",
     "output_type": "stream",
     "text": [
      "FUNCTIONAL CLASSIFICATION:\n",
      "{'1U': 1548157, '3R': 1392830, '3U': 1108945, '1R': 992054, '2U': 604921, '4R': 485936, '5R': 319145, '4U': 314540, '5U': 79926, '6R': 37096, '7U': 10688, '7R': 7716}\n",
      "\n",
      "FUNCTIONAL CLASSIFICATION NAME:\n",
      "{'Urban: Principal Arterial - Interstate': 1548157, 'Rural: Principal Arterial - Other': 1392830, 'Urban: Principal Arterial - Other': 1108945, 'Rural: Principal Arterial - Interstate': 992054, 'Urban: Principal Arterial - Other Freeways or Expressways': 604921, 'Rural: Minor Arterial': 485936, 'Rural: Major Collector': 319145, 'Urban: Minor Arterial': 314540, 'Urban: Collector': 79926, 'Rural: Minor Collector': 37096, 'Urban: Local System': 10688, 'Rural: Local System': 7716}\n",
      "\n",
      "FIPS STATE CODE:\n",
      "{12: 606214, 39: 455679, 51: 451780, 13: 355635, 55: 298451, 53: 266437, 16: 252638, 36: 245816, 40: 202741, 28: 194818, 29: 191551, 1: 183643, 49: 168084, 32: 158457, 15: 151351, 56: 147386, 26: 145656, 19: 144872, 6: 143013, 48: 142145, 30: 126627, 35: 119045, 10: 111765, 41: 106885, 8: 102146, 20: 98256, 5: 93827, 44: 91380, 2: 88231, 21: 85705, 42: 81326, 4: 79403, 27: 68663, 33: 62484, 17: 61227, 46: 58852, 18: 54364, 54: 51232, 24: 48707, 47: 47841, 34: 47731, 23: 44769, 37: 43709, 22: 42147, 31: 34635, 45: 32997, 38: 30383, 25: 30351, 50: 27861, 9: 19771, 11: 3267}\n",
      "\n",
      "DIRECTION OF TRAVEL:\n",
      "{1: 1944709, 5: 1932219, 3: 1414000, 7: 1402267, 9: 53078, 4: 40219, 8: 38485, 2: 25774, 0: 25728, 6: 25475}\n",
      "\n",
      "DIRECTION OF TRAVEL NAME:\n",
      "{'North': 1944709, 'South': 1932219, 'East': 1414000, 'West': 1402267, 'Northeast-Southwest': 53078, 'Southeast': 40219, 'Northwest': 38485, 'Northeast': 25774, 'Southeast-Northwest': 25728, 'Southwest': 25475}\n",
      "\n"
     ]
    }
   ],
   "source": [
    "print('functional classification:'.upper())\n",
    "print(dict(traffic_df['functional_classification'].value_counts()), end = '\\n\\n')\n",
    "\n",
    "print('functional classification name:'.upper())\n",
    "print(dict(traffic_df['functional_classification_name'].value_counts()), end = '\\n\\n')\n",
    "\n",
    "\n",
    "print('fips state code:'.upper())\n",
    "print(dict(traffic_df['fips_state_code'].value_counts()), end = '\\n\\n')\n",
    "\n",
    "\n",
    "print('direction of travel:'.upper())\n",
    "print(dict(traffic_df['direction_of_travel'].value_counts()), end = '\\n\\n')\n",
    "\n",
    "\n",
    "print('direction of travel name:'.upper())\n",
    "print(dict(traffic_df['direction_of_travel_name'].value_counts()), end = '\\n\\n')"
   ]
  },
  {
   "cell_type": "markdown",
   "metadata": {
    "id": "U7xRCkuvhd1k"
   },
   "source": [
    "In The below code cell i have created a function so that i can create a dictionary for the appropriate Feature to match with its Feature name.\n",
    "\n",
    "Example: Direction and Direction name can be matched, Functional Classification and Functional Classification name can be matched together."
   ]
  },
  {
   "cell_type": "code",
   "execution_count": 25,
   "metadata": {
    "execution": {
     "iopub.execute_input": "2021-09-20T23:08:25.486692Z",
     "iopub.status.busy": "2021-09-20T23:08:25.486402Z",
     "iopub.status.idle": "2021-09-20T23:08:25.494994Z",
     "shell.execute_reply": "2021-09-20T23:08:25.493758Z",
     "shell.execute_reply.started": "2021-09-20T23:08:25.486663Z"
    },
    "id": "avwatjtRJVWq"
   },
   "outputs": [],
   "source": [
    "def columnWithName(dict1, dict2):\n",
    "    ans = {}\n",
    "    for k, v in dict1.items():\n",
    "        for k1, v1 in dict2.items():\n",
    "            if v == v1:\n",
    "                ans[k] = k1\n",
    "    return ans"
   ]
  },
  {
   "cell_type": "markdown",
   "metadata": {
    "id": "IAekFhi-iHPM"
   },
   "source": [
    "In the below code cell i am making use of the above created function to match the Features with its namings."
   ]
  },
  {
   "cell_type": "code",
   "execution_count": 26,
   "metadata": {
    "execution": {
     "iopub.execute_input": "2021-09-20T23:08:25.497068Z",
     "iopub.status.busy": "2021-09-20T23:08:25.496672Z",
     "iopub.status.idle": "2021-09-20T23:08:28.788054Z",
     "shell.execute_reply": "2021-09-20T23:08:28.786967Z",
     "shell.execute_reply.started": "2021-09-20T23:08:25.496998Z"
    },
    "id": "Vmq-_15jJVWr"
   },
   "outputs": [],
   "source": [
    "functional_classification1 = dict(traffic_df['functional_classification'].value_counts())\n",
    "functional_classification_name1 = dict(traffic_df['functional_classification_name'].value_counts())\n",
    "functional_classification_dict = columnWithName(functional_classification1, functional_classification_name1)\n",
    "\n",
    "\n",
    "direction_of_travel1 = dict(traffic_df['direction_of_travel'].value_counts())\n",
    "direction_of_travel_name1 = dict(traffic_df['direction_of_travel_name'].value_counts())\n",
    "direction_of_travel_dict = columnWithName(direction_of_travel1, direction_of_travel_name1)"
   ]
  },
  {
   "cell_type": "markdown",
   "metadata": {
    "id": "iEWcS-E6iY2w"
   },
   "source": [
    "## **Pattern 2**\n",
    "\n",
    "In the below Bar plot we have created the Graph between **Direction of travel and The traffic count** on Diferrent days across all time Frames.\n",
    "\n",
    "1. With this we can Easily conclude that **Northeast-Southwest Direction have the maximum amount of traffic specially on Hours 1 to 4, 4 to 8 i.e. early mornings and at Late nights between hours 20 to 24**.\n",
    "\n",
    "2. We can also conclude that **The traffic on time range 8 to 12 is extremely less irrespective of Direction of travel**."
   ]
  },
  {
   "cell_type": "code",
   "execution_count": 27,
   "metadata": {
    "execution": {
     "iopub.execute_input": "2021-09-20T23:08:28.790672Z",
     "iopub.status.busy": "2021-09-20T23:08:28.790213Z",
     "iopub.status.idle": "2021-09-20T23:08:30.552828Z",
     "shell.execute_reply": "2021-09-20T23:08:30.551841Z",
     "shell.execute_reply.started": "2021-09-20T23:08:28.790626Z"
    },
    "id": "gI6KdQFGJVWr",
    "outputId": "32843a6d-d95c-494f-8046-acf877fb7295"
   },
   "outputs": [
    {
     "data": {
      "text/plain": [
       "<matplotlib.legend.Legend at 0x7f8c1e5f6950>"
      ]
     },
     "execution_count": 27,
     "metadata": {},
     "output_type": "execute_result"
    },
    {
     "data": {
      "image/png": "[encoded data removed]",
      "text/plain": [
       "<Figure size 1584x576 with 1 Axes>"
      ]
     },
     "metadata": {},
     "output_type": "display_data"
    }
   ],
   "source": [
    "legends=['1 - 4','4 - 8', '8 - 12', '12 - 16', '16 - 20', '20 - 24']\n",
    "direction_EDA = pd.pivot_table(data=traffic_df, index=['direction_of_travel_name'], values=timings)\n",
    "direction_EDA.plot(kind='bar', figsize=(22,8), xlabel = 'Direction of Travel', ylabel = 'Traffic count')\n",
    "plt.style.use('fivethirtyeight')\n",
    "plt.legend(title='Timings', labels=legends)"
   ]
  },
  {
   "cell_type": "markdown",
   "metadata": {
    "id": "M2enINQYkCq6"
   },
   "source": [
    "We can also conclude on the basis of the below density graph that **highest density of traffic is in Direction number 1 and 5 i.e. North and South across all the times included.**\n",
    "\n",
    "**More Proof for Pattern 2**"
   ]
  },
  {
   "cell_type": "code",
   "execution_count": 28,
   "metadata": {
    "execution": {
     "iopub.execute_input": "2021-09-20T23:08:30.554896Z",
     "iopub.status.busy": "2021-09-20T23:08:30.554578Z",
     "iopub.status.idle": "2021-09-20T23:09:05.017379Z",
     "shell.execute_reply": "2021-09-20T23:09:05.016071Z",
     "shell.execute_reply.started": "2021-09-20T23:08:30.554856Z"
    },
    "id": "gTQRjyjZJVWr",
    "outputId": "bf0905f9-1cc1-4657-b1d3-61b505b53ec2"
   },
   "outputs": [
    {
     "data": {
      "text/plain": [
       "<AxesSubplot:xlabel='direction_of_travel', ylabel='Density'>"
      ]
     },
     "execution_count": 28,
     "metadata": {},
     "output_type": "execute_result"
    },
    {
     "data": {
      "image/png": "[encoded data removed]",
      "text/plain": [
       "<Figure size 1440x432 with 1 Axes>"
      ]
     },
     "metadata": {},
     "output_type": "display_data"
    }
   ],
   "source": [
    "plt.figure(figsize=(20,6))\n",
    "plt.figure(1)\n",
    "\n",
    "sns.distplot(traffic_df['direction_of_travel'],color='red')"
   ]
  },
  {
   "cell_type": "markdown",
   "metadata": {
    "id": "IMa3hZkOkrqh"
   },
   "source": [
    "## **Pattern 3**\n",
    "\n",
    "In the below Graph we have created the Graph between **Lane of travel and The traffic count** on Diferrent days **across all time frames**.\n",
    "\n",
    "1. With this we can Easily conclude that **Lane number 8 have the maximum amount of traffic specially on Hours 1 to 4 and 4 to 8 i.e Early Mornings**, and the **Least amount of traffic on Lane number 1**.\n",
    "\n",
    "2. We can also observe that on the **time range of 8 to 12 the traffic is very least irrespective of Lane number**.\n",
    "\n"
   ]
  },
  {
   "cell_type": "code",
   "execution_count": 29,
   "metadata": {
    "execution": {
     "iopub.execute_input": "2021-09-20T23:09:05.019114Z",
     "iopub.status.busy": "2021-09-20T23:09:05.018865Z",
     "iopub.status.idle": "2021-09-20T23:09:05.942737Z",
     "shell.execute_reply": "2021-09-20T23:09:05.942007Z",
     "shell.execute_reply.started": "2021-09-20T23:09:05.019085Z"
    },
    "id": "WE_Md7NXJVWs",
    "outputId": "61316907-493d-4745-e128-68c57fc91d7a"
   },
   "outputs": [
    {
     "data": {
      "text/plain": [
       "<matplotlib.legend.Legend at 0x7f8c10701a90>"
      ]
     },
     "execution_count": 29,
     "metadata": {},
     "output_type": "execute_result"
    },
    {
     "data": {
      "image/png": "[encoded data removed]",
      "text/plain": [
       "<Figure size 1440x576 with 1 Axes>"
      ]
     },
     "metadata": {},
     "output_type": "display_data"
    }
   ],
   "source": [
    "legends=['1 - 4','4 - 8', '8 - 12', '12 - 16', '16 - 20', '20 - 24']\n",
    "direction_EDA = pd.pivot_table(data=traffic_df, index=['lane_of_travel'], values=timings)\n",
    "direction_EDA.plot(kind='line', figsize=(20,8), xlabel = 'Lane of Travel', ylabel = 'Traffic count')\n",
    "plt.style.use('fivethirtyeight')\n",
    "plt.legend(title='Timings', labels=legends)"
   ]
  },
  {
   "cell_type": "markdown",
   "metadata": {
    "id": "MYSIg_Q5nNq3"
   },
   "source": [
    "## **Pattern 4**\n",
    "\n",
    "In the below Graph we have created the Graph between **Functional Classification and The traffic count** on Diferrent days **across all time frames**.\n",
    "\n",
    "1. With this we can Easily conclude that **Urban Principal Arterial: Interstate and Other Expressways have the maximum amount of traffic specially on Hours 1 to 4 and 4 to 8 i.e Early Mornings and Late night between hours 20 to 24**, also the **Least amount of traffic on Lane number 1**.\n",
    "\n",
    "2. We can also observe that on the **time range of 8 to 12 the traffic is very least irrespective of Functional Classification** and on the **Rural Local system we have the least Traffic**."
   ]
  },
  {
   "cell_type": "code",
   "execution_count": 30,
   "metadata": {
    "execution": {
     "iopub.execute_input": "2021-09-20T23:09:05.947463Z",
     "iopub.status.busy": "2021-09-20T23:09:05.946599Z",
     "iopub.status.idle": "2021-09-20T23:09:07.879230Z",
     "shell.execute_reply": "2021-09-20T23:09:07.878552Z",
     "shell.execute_reply.started": "2021-09-20T23:09:05.947419Z"
    },
    "id": "M5gtnv3HJVWs",
    "outputId": "6f4c14cb-95da-4e20-818b-366cf1959fc0"
   },
   "outputs": [
    {
     "data": {
      "text/plain": [
       "<matplotlib.legend.Legend at 0x7f8c106aa190>"
      ]
     },
     "execution_count": 30,
     "metadata": {},
     "output_type": "execute_result"
    },
    {
     "data": {
      "image/png": "[encoded data removed]",
      "text/plain": [
       "<Figure size 3240x1080 with 1 Axes>"
      ]
     },
     "metadata": {},
     "output_type": "display_data"
    }
   ],
   "source": [
    "legends=['1 - 4','4 - 8', '8 - 12', '12 - 16', '16 - 20', '20 - 24']\n",
    "direction_EDA = pd.pivot_table(data=traffic_df, index=['functional_classification_name'], values=timings)\n",
    "direction_EDA.plot(kind='area', figsize=(45,15), xlabel = 'Functional Classification', ylabel = 'Traffic count')\n",
    "plt.style.use('fivethirtyeight')\n",
    "plt.legend(title='Timings', labels=legends)"
   ]
  },
  {
   "cell_type": "code",
   "execution_count": 31,
   "metadata": {
    "execution": {
     "iopub.execute_input": "2021-09-20T23:09:07.881346Z",
     "iopub.status.busy": "2021-09-20T23:09:07.880219Z",
     "iopub.status.idle": "2021-09-20T23:09:08.537540Z",
     "shell.execute_reply": "2021-09-20T23:09:08.536849Z",
     "shell.execute_reply.started": "2021-09-20T23:09:07.881298Z"
    },
    "id": "wBHslXGXJVWs",
    "outputId": "2587cc61-3c59-46c5-fc07-688548f54440"
   },
   "outputs": [
    {
     "data": {
      "text/plain": [
       "5048"
      ]
     },
     "execution_count": 31,
     "metadata": {},
     "output_type": "execute_result"
    }
   ],
   "source": [
    "traffic_df['station_id'].nunique()"
   ]
  },
  {
   "cell_type": "markdown",
   "metadata": {
    "id": "m8Ao6DmcouCa"
   },
   "source": [
    "In this we are trying to convert station_id into the count of each station_id\n",
    "since station_id is unique and we have **5048 unique station ID's** we had to perform this step so as to convert it into a feature."
   ]
  },
  {
   "cell_type": "code",
   "execution_count": 32,
   "metadata": {
    "execution": {
     "iopub.execute_input": "2021-09-20T23:09:08.539476Z",
     "iopub.status.busy": "2021-09-20T23:09:08.538527Z",
     "iopub.status.idle": "2021-09-20T23:09:14.930643Z",
     "shell.execute_reply": "2021-09-20T23:09:14.929476Z",
     "shell.execute_reply.started": "2021-09-20T23:09:08.539432Z"
    },
    "id": "tIx85vXlJVWs"
   },
   "outputs": [],
   "source": [
    "# def integers(x):\n",
    "#     ref = dict(traffic_df['station_id'].value_counts())\n",
    "#     if ref.get(x):\n",
    "#         return ref[x]\n",
    "\n",
    "# traffic_df['station_id'] = traffic_df['station_id'].apply(integers)\n",
    "\n",
    "\n",
    "\n",
    "station_id_element_count = dict(traffic_df['station_id'].value_counts())\n",
    "traffic_df['station_id'] = traffic_df['station_id'].map(station_id_element_count.get)"
   ]
  },
  {
   "cell_type": "markdown",
   "metadata": {
    "id": "BqL3-g0ppmNZ"
   },
   "source": [
    "We can now see in the below density graph that the station Id has been converted into the feature and can contribute in the accuracy of the dataset."
   ]
  },
  {
   "cell_type": "code",
   "execution_count": 33,
   "metadata": {
    "execution": {
     "iopub.execute_input": "2021-09-20T23:09:14.932708Z",
     "iopub.status.busy": "2021-09-20T23:09:14.932081Z",
     "iopub.status.idle": "2021-09-20T23:09:47.704766Z",
     "shell.execute_reply": "2021-09-20T23:09:47.703612Z",
     "shell.execute_reply.started": "2021-09-20T23:09:14.932648Z"
    },
    "id": "w4gjM-ixJVWt",
    "outputId": "833981cd-2aa5-4f7f-aabc-b1bc3f67dcb8"
   },
   "outputs": [
    {
     "data": {
      "text/plain": [
       "<AxesSubplot:xlabel='station_id', ylabel='Density'>"
      ]
     },
     "execution_count": 33,
     "metadata": {},
     "output_type": "execute_result"
    },
    {
     "data": {
      "image/png": "[encoded data removed]",
      "text/plain": [
       "<Figure size 1440x432 with 1 Axes>"
      ]
     },
     "metadata": {},
     "output_type": "display_data"
    }
   ],
   "source": [
    "plt.figure(figsize=(20,6))\n",
    "plt.figure(1)\n",
    "sns.distplot(traffic_df['station_id'],color='blue')"
   ]
  },
  {
   "cell_type": "markdown",
   "metadata": {
    "id": "KrAxJ1jJqSt6"
   },
   "source": [
    "In the below Code cell we have performed **One Hot Encoding** on the columns **direction_of_travel_name and functional_classification** so that we can convert their unique values into the feature and they can contribute to our final model."
   ]
  },
  {
   "cell_type": "code",
   "execution_count": 34,
   "metadata": {
    "execution": {
     "iopub.execute_input": "2021-09-20T23:09:47.706595Z",
     "iopub.status.busy": "2021-09-20T23:09:47.706363Z",
     "iopub.status.idle": "2021-09-20T23:09:56.032842Z",
     "shell.execute_reply": "2021-09-20T23:09:56.031854Z",
     "shell.execute_reply.started": "2021-09-20T23:09:47.706568Z"
    },
    "id": "D9oo2miAJVWt",
    "outputId": "b80e2b00-4cb1-4755-9251-cf71b00fbcad"
   },
   "outputs": [
    {
     "data": {
      "text/html": [
       "<div>\n",
       "<style scoped>\n",
       "    .dataframe tbody tr th:only-of-type {\n",
       "        vertical-align: middle;\n",
       "    }\n",
       "\n",
       "    .dataframe tbody tr th {\n",
       "        vertical-align: top;\n",
       "    }\n",
       "\n",
       "    .dataframe thead th {\n",
       "        text-align: right;\n",
       "    }\n",
       "</style>\n",
       "<table border=\"1\" class=\"dataframe\">\n",
       "  <thead>\n",
       "    <tr style=\"text-align: right;\">\n",
       "      <th></th>\n",
       "      <th>date</th>\n",
       "      <th>day_of_data</th>\n",
       "      <th>day_of_week</th>\n",
       "      <th>direction_of_travel</th>\n",
       "      <th>direction_of_travel_name</th>\n",
       "      <th>fips_state_code</th>\n",
       "      <th>functional_classification</th>\n",
       "      <th>functional_classification_name</th>\n",
       "      <th>lane_of_travel</th>\n",
       "      <th>month_of_data</th>\n",
       "      <th>...</th>\n",
       "      <th>East</th>\n",
       "      <th>North</th>\n",
       "      <th>Northeast</th>\n",
       "      <th>Northeast-Southwest</th>\n",
       "      <th>Northwest</th>\n",
       "      <th>South</th>\n",
       "      <th>Southeast</th>\n",
       "      <th>Southeast-Northwest</th>\n",
       "      <th>Southwest</th>\n",
       "      <th>West</th>\n",
       "    </tr>\n",
       "  </thead>\n",
       "  <tbody>\n",
       "    <tr>\n",
       "      <th>0</th>\n",
       "      <td>2015-04-07</td>\n",
       "      <td>7</td>\n",
       "      <td>3</td>\n",
       "      <td>1</td>\n",
       "      <td>North</td>\n",
       "      <td>56</td>\n",
       "      <td>3R</td>\n",
       "      <td>Rural: Principal Arterial - Other</td>\n",
       "      <td>1</td>\n",
       "      <td>4</td>\n",
       "      <td>...</td>\n",
       "      <td>0</td>\n",
       "      <td>1</td>\n",
       "      <td>0</td>\n",
       "      <td>0</td>\n",
       "      <td>0</td>\n",
       "      <td>0</td>\n",
       "      <td>0</td>\n",
       "      <td>0</td>\n",
       "      <td>0</td>\n",
       "      <td>0</td>\n",
       "    </tr>\n",
       "    <tr>\n",
       "      <th>1</th>\n",
       "      <td>2015-09-26</td>\n",
       "      <td>26</td>\n",
       "      <td>7</td>\n",
       "      <td>7</td>\n",
       "      <td>West</td>\n",
       "      <td>21</td>\n",
       "      <td>1U</td>\n",
       "      <td>Urban: Principal Arterial - Interstate</td>\n",
       "      <td>2</td>\n",
       "      <td>9</td>\n",
       "      <td>...</td>\n",
       "      <td>0</td>\n",
       "      <td>0</td>\n",
       "      <td>0</td>\n",
       "      <td>0</td>\n",
       "      <td>0</td>\n",
       "      <td>0</td>\n",
       "      <td>0</td>\n",
       "      <td>0</td>\n",
       "      <td>0</td>\n",
       "      <td>1</td>\n",
       "    </tr>\n",
       "    <tr>\n",
       "      <th>3</th>\n",
       "      <td>2015-04-26</td>\n",
       "      <td>26</td>\n",
       "      <td>1</td>\n",
       "      <td>5</td>\n",
       "      <td>South</td>\n",
       "      <td>55</td>\n",
       "      <td>1U</td>\n",
       "      <td>Urban: Principal Arterial - Interstate</td>\n",
       "      <td>1</td>\n",
       "      <td>4</td>\n",
       "      <td>...</td>\n",
       "      <td>0</td>\n",
       "      <td>0</td>\n",
       "      <td>0</td>\n",
       "      <td>0</td>\n",
       "      <td>0</td>\n",
       "      <td>1</td>\n",
       "      <td>0</td>\n",
       "      <td>0</td>\n",
       "      <td>0</td>\n",
       "      <td>0</td>\n",
       "    </tr>\n",
       "    <tr>\n",
       "      <th>4</th>\n",
       "      <td>2015-05-23</td>\n",
       "      <td>23</td>\n",
       "      <td>7</td>\n",
       "      <td>3</td>\n",
       "      <td>East</td>\n",
       "      <td>4</td>\n",
       "      <td>4R</td>\n",
       "      <td>Rural: Minor Arterial</td>\n",
       "      <td>0</td>\n",
       "      <td>5</td>\n",
       "      <td>...</td>\n",
       "      <td>1</td>\n",
       "      <td>0</td>\n",
       "      <td>0</td>\n",
       "      <td>0</td>\n",
       "      <td>0</td>\n",
       "      <td>0</td>\n",
       "      <td>0</td>\n",
       "      <td>0</td>\n",
       "      <td>0</td>\n",
       "      <td>0</td>\n",
       "    </tr>\n",
       "    <tr>\n",
       "      <th>6</th>\n",
       "      <td>2015-09-10</td>\n",
       "      <td>10</td>\n",
       "      <td>5</td>\n",
       "      <td>3</td>\n",
       "      <td>East</td>\n",
       "      <td>19</td>\n",
       "      <td>3U</td>\n",
       "      <td>Urban: Principal Arterial - Other</td>\n",
       "      <td>2</td>\n",
       "      <td>9</td>\n",
       "      <td>...</td>\n",
       "      <td>1</td>\n",
       "      <td>0</td>\n",
       "      <td>0</td>\n",
       "      <td>0</td>\n",
       "      <td>0</td>\n",
       "      <td>0</td>\n",
       "      <td>0</td>\n",
       "      <td>0</td>\n",
       "      <td>0</td>\n",
       "      <td>0</td>\n",
       "    </tr>\n",
       "  </tbody>\n",
       "</table>\n",
       "<p>5 rows × 36 columns</p>\n",
       "</div>"
      ],
      "text/plain": [
       "        date  day_of_data  day_of_week  direction_of_travel  \\\n",
       "0 2015-04-07            7            3                    1   \n",
       "1 2015-09-26           26            7                    7   \n",
       "3 2015-04-26           26            1                    5   \n",
       "4 2015-05-23           23            7                    3   \n",
       "6 2015-09-10           10            5                    3   \n",
       "\n",
       "  direction_of_travel_name  fips_state_code functional_classification  \\\n",
       "0                    North               56                        3R   \n",
       "1                     West               21                        1U   \n",
       "3                    South               55                        1U   \n",
       "4                     East                4                        4R   \n",
       "6                     East               19                        3U   \n",
       "\n",
       "           functional_classification_name  lane_of_travel  month_of_data  ...  \\\n",
       "0       Rural: Principal Arterial - Other               1              4  ...   \n",
       "1  Urban: Principal Arterial - Interstate               2              9  ...   \n",
       "3  Urban: Principal Arterial - Interstate               1              4  ...   \n",
       "4                   Rural: Minor Arterial               0              5  ...   \n",
       "6       Urban: Principal Arterial - Other               2              9  ...   \n",
       "\n",
       "   East  North  Northeast  Northeast-Southwest  Northwest  South  Southeast  \\\n",
       "0     0      1          0                    0          0      0          0   \n",
       "1     0      0          0                    0          0      0          0   \n",
       "3     0      0          0                    0          0      1          0   \n",
       "4     1      0          0                    0          0      0          0   \n",
       "6     1      0          0                    0          0      0          0   \n",
       "\n",
       "   Southeast-Northwest  Southwest  West  \n",
       "0                    0          0     0  \n",
       "1                    0          0     1  \n",
       "3                    0          0     0  \n",
       "4                    0          0     0  \n",
       "6                    0          0     0  \n",
       "\n",
       "[5 rows x 36 columns]"
      ]
     },
     "execution_count": 34,
     "metadata": {},
     "output_type": "execute_result"
    }
   ],
   "source": [
    "# It is clear that '5U', '6R', '7U', '7R' functional_classification are very much less in number and therefore we can merge them all under one field.\n",
    "# In the functional_classification column we can see they are categorical ones, so we make new feature out of them.\n",
    "\n",
    "traffic_df['functional_classification'] = traffic_df['functional_classification'].replace(['5U', '6R', '7U', '7R'], 'other_functional_classifications')\n",
    "traffic_df['functional_classification_name'] = traffic_df['functional_classification_name'].replace(['Urban: Collector', \n",
    "                                                                                                     'Rural: Minor Collector', \n",
    "                                                                                                     'Urban: Local System', \n",
    "                                                                                                     'Rural: Local System'], 'other_functional_classification_name')\n",
    "\n",
    "functional_classification_dummy = pd.get_dummies(traffic_df['functional_classification'])\n",
    "\n",
    "traffic_df = pd.concat([traffic_df, functional_classification_dummy], axis=1)\n",
    "\n",
    "\n",
    "# In the direction_of_travel_name column we can see they are categorical ones, so we make new feature out of them.\n",
    "\n",
    "direction_of_travel_name_dummy = pd.get_dummies(traffic_df['direction_of_travel_name'])\n",
    "\n",
    "traffic_df = pd.concat([traffic_df, direction_of_travel_name_dummy], axis=1)\n",
    "\n",
    "traffic_df.head()"
   ]
  },
  {
   "cell_type": "markdown",
   "metadata": {
    "id": "D_md6EpHqyDJ"
   },
   "source": [
    "We can further Solidify our above mentioned proof that the **maximum amount of traffic occurs in the Direction of Northeast-Southwest** and in time range of 13 to 16 and 17 to 20.\n",
    "\n",
    "**More Proof for Pattern 2**"
   ]
  },
  {
   "cell_type": "code",
   "execution_count": 35,
   "metadata": {
    "execution": {
     "iopub.execute_input": "2021-09-20T23:09:56.034306Z",
     "iopub.status.busy": "2021-09-20T23:09:56.034080Z",
     "iopub.status.idle": "2021-09-20T23:09:57.667478Z",
     "shell.execute_reply": "2021-09-20T23:09:57.666384Z",
     "shell.execute_reply.started": "2021-09-20T23:09:56.034264Z"
    },
    "id": "i_IgO8WGJVWt",
    "outputId": "55104da6-8d83-4c8a-c5fd-0b6867180c38"
   },
   "outputs": [
    {
     "data": {
      "image/png": "[encoded data removed]",
      "text/plain": [
       "<Figure size 1440x432 with 1 Axes>"
      ]
     },
     "metadata": {},
     "output_type": "display_data"
    }
   ],
   "source": [
    "direc = ['North', 'South', 'East', 'West', 'Northeast-Southwest', 'Southeast', 'Northwest', 'Northeast', 'Southeast-Northwest', 'Southwest']\n",
    "time_rural = pd.pivot_table(traffic_df, index=['Northeast-Southwest'], values =timings)\n",
    "plt.style.use('fivethirtyeight')\n",
    "time_rural.plot(kind='bar', figsize=(20, 6));"
   ]
  },
  {
   "cell_type": "markdown",
   "metadata": {
    "id": "t5gunyL1ttV5"
   },
   "source": [
    "With the below mentioned Area graph between **Station ID and Lane of Travel** We can conclude that:\n",
    "\n",
    "- The Reason for Maximum Traffic on the Lane number 7 and Lane number 8 was because **There are more number of stationed located on that path** and because of that people Travel more across those lanes.\n",
    "\n",
    "**More Proof for Pattern 3**"
   ]
  },
  {
   "cell_type": "code",
   "execution_count": 36,
   "metadata": {
    "execution": {
     "iopub.execute_input": "2021-09-20T23:09:57.670734Z",
     "iopub.status.busy": "2021-09-20T23:09:57.668804Z",
     "iopub.status.idle": "2021-09-20T23:09:58.214631Z",
     "shell.execute_reply": "2021-09-20T23:09:58.213527Z",
     "shell.execute_reply.started": "2021-09-20T23:09:57.670676Z"
    },
    "id": "pztDEcE_JVWt",
    "outputId": "2ccf3037-4cd1-4768-e6ba-cad4b4c4113b"
   },
   "outputs": [
    {
     "data": {
      "text/plain": [
       "<matplotlib.legend.Legend at 0x7f8c0f310ad0>"
      ]
     },
     "execution_count": 36,
     "metadata": {},
     "output_type": "execute_result"
    },
    {
     "data": {
      "image/png": "[encoded data removed]",
      "text/plain": [
       "<Figure size 1440x432 with 1 Axes>"
      ]
     },
     "metadata": {},
     "output_type": "display_data"
    }
   ],
   "source": [
    "timings=['1_to_4','5_to_8', '9_to_12', '13_to_16', '17_to_20', '21_to_24']\n",
    "lane_station = pd.pivot_table(traffic_df, index=['lane_of_travel'], values =['station_id'])\n",
    "plt.style.use('fivethirtyeight')\n",
    "lane_station.plot(kind='area', figsize=(20, 6));\n",
    "\n",
    "plt.legend(title='Station Id V/S Lane of Travel', labels=['Station ID Count'])"
   ]
  },
  {
   "cell_type": "markdown",
   "metadata": {
    "id": "oJHhDjhOweNs"
   },
   "source": [
    "## **Pattern 5**\n",
    "\n",
    "From the below mentioned Bar Chart between **Functional Classification and Lane numbers** we can Conclude that:\n",
    "\n",
    "- Most number of people from **Rural Areas travel mostly on Outer Lanes** (i.e. 5, 6, 7, 8, 9) instead of main Lanes. Infact we can clearly see that There are almost negligible people from Urban Areas travelling in outer lanes except of lane 8 as there as most number of stationes situated in that lane."
   ]
  },
  {
   "cell_type": "code",
   "execution_count": 37,
   "metadata": {
    "execution": {
     "iopub.execute_input": "2021-09-20T23:09:58.216790Z",
     "iopub.status.busy": "2021-09-20T23:09:58.216431Z",
     "iopub.status.idle": "2021-09-20T23:09:59.741318Z",
     "shell.execute_reply": "2021-09-20T23:09:59.740391Z",
     "shell.execute_reply.started": "2021-09-20T23:09:58.216744Z"
    },
    "id": "bQyaiuhnJVWt",
    "outputId": "4d047295-f66c-4797-c900-215e6cc59cf2"
   },
   "outputs": [
    {
     "data": {
      "text/plain": [
       "<matplotlib.legend.Legend at 0x7f8c10d5f1d0>"
      ]
     },
     "execution_count": 37,
     "metadata": {},
     "output_type": "execute_result"
    },
    {
     "data": {
      "image/png": "[encoded data removed]",
      "text/plain": [
       "<Figure size 1440x576 with 1 Axes>"
      ]
     },
     "metadata": {},
     "output_type": "display_data"
    }
   ],
   "source": [
    "funtional_class = ['1U', '3R', '3U', '1R', '2U', '4R', '5R', '4U', 'other_functional_classifications']\n",
    "lane_functional = pd.pivot_table(traffic_df, index=['lane_of_travel'], values =funtional_class)\n",
    "plt.style.use('fivethirtyeight')\n",
    "lane_functional.plot(kind='bar', figsize=(20, 8));\n",
    "legends=['Urban: Principal Arterial - Interstate', 'Rural: Principal Arterial - Other', 'Urban: Principal Arterial - Other',\n",
    "         'Rural: Principal Arterial - Interstate', 'Urban: Principal Arterial - Other Freeways or Expressways', \n",
    "         'Rural: Minor Arterial', 'Rural: Major Collector', 'Urban: Minor Arterial', 'Other Classifications']\n",
    "plt.legend(title='Functional Classification', labels=legends)"
   ]
  },
  {
   "cell_type": "markdown",
   "metadata": {
    "id": "ECgkBkUTyfOP"
   },
   "source": [
    "We can further solidify our above mentioned argument that **Most amount traffic occurs in Urban: Principal Arterial - Interstate Area in hours 13 to 16 and 17 to 20 i.e. in Evening time mostly**.\n",
    "\n",
    "**More Proof for Pattern 5**"
   ]
  },
  {
   "cell_type": "code",
   "execution_count": 38,
   "metadata": {
    "execution": {
     "iopub.execute_input": "2021-09-20T23:09:59.743512Z",
     "iopub.status.busy": "2021-09-20T23:09:59.742576Z",
     "iopub.status.idle": "2021-09-20T23:10:00.475324Z",
     "shell.execute_reply": "2021-09-20T23:10:00.474383Z",
     "shell.execute_reply.started": "2021-09-20T23:09:59.743471Z"
    },
    "id": "V_Lh-SZjJVWu",
    "outputId": "2945ba7d-2595-4b9a-a7bd-118bdf260d74"
   },
   "outputs": [
    {
     "data": {
      "image/png": "[encoded data removed]",
      "text/plain": [
       "<Figure size 1440x576 with 1 Axes>"
      ]
     },
     "metadata": {},
     "output_type": "display_data"
    }
   ],
   "source": [
    "time_rural = pd.pivot_table(traffic_df, index=['1U'], values =timings)\n",
    "plt.style.use('fivethirtyeight')\n",
    "time_rural.plot(kind='barh', figsize=(20, 8));"
   ]
  },
  {
   "cell_type": "code",
   "execution_count": 39,
   "metadata": {
    "execution": {
     "iopub.execute_input": "2021-09-20T23:10:00.476722Z",
     "iopub.status.busy": "2021-09-20T23:10:00.476482Z",
     "iopub.status.idle": "2021-09-20T23:10:00.501000Z",
     "shell.execute_reply": "2021-09-20T23:10:00.500168Z",
     "shell.execute_reply.started": "2021-09-20T23:10:00.476693Z"
    },
    "id": "o3GGkNPjJVWu",
    "outputId": "af728487-896f-44ab-c77e-2e7cb45b6372"
   },
   "outputs": [
    {
     "data": {
      "text/html": [
       "<div>\n",
       "<style scoped>\n",
       "    .dataframe tbody tr th:only-of-type {\n",
       "        vertical-align: middle;\n",
       "    }\n",
       "\n",
       "    .dataframe tbody tr th {\n",
       "        vertical-align: top;\n",
       "    }\n",
       "\n",
       "    .dataframe thead th {\n",
       "        text-align: right;\n",
       "    }\n",
       "</style>\n",
       "<table border=\"1\" class=\"dataframe\">\n",
       "  <thead>\n",
       "    <tr style=\"text-align: right;\">\n",
       "      <th></th>\n",
       "      <th>date</th>\n",
       "      <th>day_of_data</th>\n",
       "      <th>day_of_week</th>\n",
       "      <th>direction_of_travel</th>\n",
       "      <th>direction_of_travel_name</th>\n",
       "      <th>fips_state_code</th>\n",
       "      <th>functional_classification</th>\n",
       "      <th>functional_classification_name</th>\n",
       "      <th>lane_of_travel</th>\n",
       "      <th>month_of_data</th>\n",
       "      <th>...</th>\n",
       "      <th>East</th>\n",
       "      <th>North</th>\n",
       "      <th>Northeast</th>\n",
       "      <th>Northeast-Southwest</th>\n",
       "      <th>Northwest</th>\n",
       "      <th>South</th>\n",
       "      <th>Southeast</th>\n",
       "      <th>Southeast-Northwest</th>\n",
       "      <th>Southwest</th>\n",
       "      <th>West</th>\n",
       "    </tr>\n",
       "  </thead>\n",
       "  <tbody>\n",
       "    <tr>\n",
       "      <th>0</th>\n",
       "      <td>2015-04-07</td>\n",
       "      <td>7</td>\n",
       "      <td>3</td>\n",
       "      <td>1</td>\n",
       "      <td>North</td>\n",
       "      <td>56</td>\n",
       "      <td>3R</td>\n",
       "      <td>Rural: Principal Arterial - Other</td>\n",
       "      <td>1</td>\n",
       "      <td>4</td>\n",
       "      <td>...</td>\n",
       "      <td>0</td>\n",
       "      <td>1</td>\n",
       "      <td>0</td>\n",
       "      <td>0</td>\n",
       "      <td>0</td>\n",
       "      <td>0</td>\n",
       "      <td>0</td>\n",
       "      <td>0</td>\n",
       "      <td>0</td>\n",
       "      <td>0</td>\n",
       "    </tr>\n",
       "    <tr>\n",
       "      <th>1</th>\n",
       "      <td>2015-09-26</td>\n",
       "      <td>26</td>\n",
       "      <td>7</td>\n",
       "      <td>7</td>\n",
       "      <td>West</td>\n",
       "      <td>21</td>\n",
       "      <td>1U</td>\n",
       "      <td>Urban: Principal Arterial - Interstate</td>\n",
       "      <td>2</td>\n",
       "      <td>9</td>\n",
       "      <td>...</td>\n",
       "      <td>0</td>\n",
       "      <td>0</td>\n",
       "      <td>0</td>\n",
       "      <td>0</td>\n",
       "      <td>0</td>\n",
       "      <td>0</td>\n",
       "      <td>0</td>\n",
       "      <td>0</td>\n",
       "      <td>0</td>\n",
       "      <td>1</td>\n",
       "    </tr>\n",
       "    <tr>\n",
       "      <th>3</th>\n",
       "      <td>2015-04-26</td>\n",
       "      <td>26</td>\n",
       "      <td>1</td>\n",
       "      <td>5</td>\n",
       "      <td>South</td>\n",
       "      <td>55</td>\n",
       "      <td>1U</td>\n",
       "      <td>Urban: Principal Arterial - Interstate</td>\n",
       "      <td>1</td>\n",
       "      <td>4</td>\n",
       "      <td>...</td>\n",
       "      <td>0</td>\n",
       "      <td>0</td>\n",
       "      <td>0</td>\n",
       "      <td>0</td>\n",
       "      <td>0</td>\n",
       "      <td>1</td>\n",
       "      <td>0</td>\n",
       "      <td>0</td>\n",
       "      <td>0</td>\n",
       "      <td>0</td>\n",
       "    </tr>\n",
       "    <tr>\n",
       "      <th>4</th>\n",
       "      <td>2015-05-23</td>\n",
       "      <td>23</td>\n",
       "      <td>7</td>\n",
       "      <td>3</td>\n",
       "      <td>East</td>\n",
       "      <td>4</td>\n",
       "      <td>4R</td>\n",
       "      <td>Rural: Minor Arterial</td>\n",
       "      <td>0</td>\n",
       "      <td>5</td>\n",
       "      <td>...</td>\n",
       "      <td>1</td>\n",
       "      <td>0</td>\n",
       "      <td>0</td>\n",
       "      <td>0</td>\n",
       "      <td>0</td>\n",
       "      <td>0</td>\n",
       "      <td>0</td>\n",
       "      <td>0</td>\n",
       "      <td>0</td>\n",
       "      <td>0</td>\n",
       "    </tr>\n",
       "    <tr>\n",
       "      <th>6</th>\n",
       "      <td>2015-09-10</td>\n",
       "      <td>10</td>\n",
       "      <td>5</td>\n",
       "      <td>3</td>\n",
       "      <td>East</td>\n",
       "      <td>19</td>\n",
       "      <td>3U</td>\n",
       "      <td>Urban: Principal Arterial - Other</td>\n",
       "      <td>2</td>\n",
       "      <td>9</td>\n",
       "      <td>...</td>\n",
       "      <td>1</td>\n",
       "      <td>0</td>\n",
       "      <td>0</td>\n",
       "      <td>0</td>\n",
       "      <td>0</td>\n",
       "      <td>0</td>\n",
       "      <td>0</td>\n",
       "      <td>0</td>\n",
       "      <td>0</td>\n",
       "      <td>0</td>\n",
       "    </tr>\n",
       "  </tbody>\n",
       "</table>\n",
       "<p>5 rows × 36 columns</p>\n",
       "</div>"
      ],
      "text/plain": [
       "        date  day_of_data  day_of_week  direction_of_travel  \\\n",
       "0 2015-04-07            7            3                    1   \n",
       "1 2015-09-26           26            7                    7   \n",
       "3 2015-04-26           26            1                    5   \n",
       "4 2015-05-23           23            7                    3   \n",
       "6 2015-09-10           10            5                    3   \n",
       "\n",
       "  direction_of_travel_name  fips_state_code functional_classification  \\\n",
       "0                    North               56                        3R   \n",
       "1                     West               21                        1U   \n",
       "3                    South               55                        1U   \n",
       "4                     East                4                        4R   \n",
       "6                     East               19                        3U   \n",
       "\n",
       "           functional_classification_name  lane_of_travel  month_of_data  ...  \\\n",
       "0       Rural: Principal Arterial - Other               1              4  ...   \n",
       "1  Urban: Principal Arterial - Interstate               2              9  ...   \n",
       "3  Urban: Principal Arterial - Interstate               1              4  ...   \n",
       "4                   Rural: Minor Arterial               0              5  ...   \n",
       "6       Urban: Principal Arterial - Other               2              9  ...   \n",
       "\n",
       "   East  North  Northeast  Northeast-Southwest  Northwest  South  Southeast  \\\n",
       "0     0      1          0                    0          0      0          0   \n",
       "1     0      0          0                    0          0      0          0   \n",
       "3     0      0          0                    0          0      1          0   \n",
       "4     1      0          0                    0          0      0          0   \n",
       "6     1      0          0                    0          0      0          0   \n",
       "\n",
       "   Southeast-Northwest  Southwest  West  \n",
       "0                    0          0     0  \n",
       "1                    0          0     1  \n",
       "3                    0          0     0  \n",
       "4                    0          0     0  \n",
       "6                    0          0     0  \n",
       "\n",
       "[5 rows x 36 columns]"
      ]
     },
     "execution_count": 39,
     "metadata": {},
     "output_type": "execute_result"
    }
   ],
   "source": [
    "traffic_df.head()"
   ]
  },
  {
   "cell_type": "code",
   "execution_count": 40,
   "metadata": {
    "execution": {
     "iopub.execute_input": "2021-09-20T23:10:00.502391Z",
     "iopub.status.busy": "2021-09-20T23:10:00.502140Z",
     "iopub.status.idle": "2021-09-20T23:10:06.374209Z",
     "shell.execute_reply": "2021-09-20T23:10:06.373392Z",
     "shell.execute_reply.started": "2021-09-20T23:10:00.502354Z"
    },
    "id": "QRKdpzt-JVWu",
    "outputId": "3f637c82-641b-46e3-f6ce-196a5a6e7a30",
    "scrolled": false
   },
   "outputs": [
    {
     "data": {
      "text/html": [
       "<div>\n",
       "<style scoped>\n",
       "    .dataframe tbody tr th:only-of-type {\n",
       "        vertical-align: middle;\n",
       "    }\n",
       "\n",
       "    .dataframe tbody tr th {\n",
       "        vertical-align: top;\n",
       "    }\n",
       "\n",
       "    .dataframe thead th {\n",
       "        text-align: right;\n",
       "    }\n",
       "</style>\n",
       "<table border=\"1\" class=\"dataframe\">\n",
       "  <thead>\n",
       "    <tr style=\"text-align: right;\">\n",
       "      <th></th>\n",
       "      <th>day_of_data</th>\n",
       "      <th>day_of_week</th>\n",
       "      <th>direction_of_travel</th>\n",
       "      <th>fips_state_code</th>\n",
       "      <th>lane_of_travel</th>\n",
       "      <th>month_of_data</th>\n",
       "      <th>station_id</th>\n",
       "      <th>1_to_4</th>\n",
       "      <th>5_to_8</th>\n",
       "      <th>9_to_12</th>\n",
       "      <th>...</th>\n",
       "      <th>East</th>\n",
       "      <th>North</th>\n",
       "      <th>Northeast</th>\n",
       "      <th>Northeast-Southwest</th>\n",
       "      <th>Northwest</th>\n",
       "      <th>South</th>\n",
       "      <th>Southeast</th>\n",
       "      <th>Southeast-Northwest</th>\n",
       "      <th>Southwest</th>\n",
       "      <th>West</th>\n",
       "    </tr>\n",
       "  </thead>\n",
       "  <tbody>\n",
       "    <tr>\n",
       "      <th>count</th>\n",
       "      <td>6.901954e+06</td>\n",
       "      <td>6.901954e+06</td>\n",
       "      <td>6.901954e+06</td>\n",
       "      <td>6.901954e+06</td>\n",
       "      <td>6.901954e+06</td>\n",
       "      <td>6.901954e+06</td>\n",
       "      <td>6.901954e+06</td>\n",
       "      <td>6.901954e+06</td>\n",
       "      <td>6.901954e+06</td>\n",
       "      <td>6.901954e+06</td>\n",
       "      <td>...</td>\n",
       "      <td>6.901954e+06</td>\n",
       "      <td>6.901954e+06</td>\n",
       "      <td>6.901954e+06</td>\n",
       "      <td>6.901954e+06</td>\n",
       "      <td>6.901954e+06</td>\n",
       "      <td>6.901954e+06</td>\n",
       "      <td>6.901954e+06</td>\n",
       "      <td>6.901954e+06</td>\n",
       "      <td>6.901954e+06</td>\n",
       "      <td>6.901954e+06</td>\n",
       "    </tr>\n",
       "    <tr>\n",
       "      <th>mean</th>\n",
       "      <td>1.572624e+01</td>\n",
       "      <td>4.012449e+00</td>\n",
       "      <td>3.885063e+00</td>\n",
       "      <td>2.985262e+01</td>\n",
       "      <td>1.335427e+00</td>\n",
       "      <td>6.518998e+00</td>\n",
       "      <td>3.242214e+03</td>\n",
       "      <td>6.073193e+01</td>\n",
       "      <td>2.552298e+02</td>\n",
       "      <td>4.552350e+02</td>\n",
       "      <td>...</td>\n",
       "      <td>2.048695e-01</td>\n",
       "      <td>2.817621e-01</td>\n",
       "      <td>3.734305e-03</td>\n",
       "      <td>7.690286e-03</td>\n",
       "      <td>5.575957e-03</td>\n",
       "      <td>2.799525e-01</td>\n",
       "      <td>5.827190e-03</td>\n",
       "      <td>3.727640e-03</td>\n",
       "      <td>3.690984e-03</td>\n",
       "      <td>2.031696e-01</td>\n",
       "    </tr>\n",
       "    <tr>\n",
       "      <th>std</th>\n",
       "      <td>8.770013e+00</td>\n",
       "      <td>2.000232e+00</td>\n",
       "      <td>2.281844e+00</td>\n",
       "      <td>1.657622e+01</td>\n",
       "      <td>1.071629e+00</td>\n",
       "      <td>3.456660e+00</td>\n",
       "      <td>2.796729e+03</td>\n",
       "      <td>8.323963e+01</td>\n",
       "      <td>3.154451e+02</td>\n",
       "      <td>4.602179e+02</td>\n",
       "      <td>...</td>\n",
       "      <td>4.036063e-01</td>\n",
       "      <td>4.498580e-01</td>\n",
       "      <td>6.099476e-02</td>\n",
       "      <td>8.735643e-02</td>\n",
       "      <td>7.446386e-02</td>\n",
       "      <td>4.489756e-01</td>\n",
       "      <td>7.611330e-02</td>\n",
       "      <td>6.094051e-02</td>\n",
       "      <td>6.064125e-02</td>\n",
       "      <td>4.023577e-01</td>\n",
       "    </tr>\n",
       "    <tr>\n",
       "      <th>min</th>\n",
       "      <td>1.000000e+00</td>\n",
       "      <td>1.000000e+00</td>\n",
       "      <td>0.000000e+00</td>\n",
       "      <td>1.000000e+00</td>\n",
       "      <td>0.000000e+00</td>\n",
       "      <td>1.000000e+00</td>\n",
       "      <td>1.000000e+00</td>\n",
       "      <td>-1.000000e+00</td>\n",
       "      <td>-1.000000e+00</td>\n",
       "      <td>-1.000000e+00</td>\n",
       "      <td>...</td>\n",
       "      <td>0.000000e+00</td>\n",
       "      <td>0.000000e+00</td>\n",
       "      <td>0.000000e+00</td>\n",
       "      <td>0.000000e+00</td>\n",
       "      <td>0.000000e+00</td>\n",
       "      <td>0.000000e+00</td>\n",
       "      <td>0.000000e+00</td>\n",
       "      <td>0.000000e+00</td>\n",
       "      <td>0.000000e+00</td>\n",
       "      <td>0.000000e+00</td>\n",
       "    </tr>\n",
       "    <tr>\n",
       "      <th>25%</th>\n",
       "      <td>8.000000e+00</td>\n",
       "      <td>2.000000e+00</td>\n",
       "      <td>1.000000e+00</td>\n",
       "      <td>1.300000e+01</td>\n",
       "      <td>1.000000e+00</td>\n",
       "      <td>4.000000e+00</td>\n",
       "      <td>1.300000e+03</td>\n",
       "      <td>9.000000e+00</td>\n",
       "      <td>4.700000e+01</td>\n",
       "      <td>1.282500e+02</td>\n",
       "      <td>...</td>\n",
       "      <td>0.000000e+00</td>\n",
       "      <td>0.000000e+00</td>\n",
       "      <td>0.000000e+00</td>\n",
       "      <td>0.000000e+00</td>\n",
       "      <td>0.000000e+00</td>\n",
       "      <td>0.000000e+00</td>\n",
       "      <td>0.000000e+00</td>\n",
       "      <td>0.000000e+00</td>\n",
       "      <td>0.000000e+00</td>\n",
       "      <td>0.000000e+00</td>\n",
       "    </tr>\n",
       "    <tr>\n",
       "      <th>50%</th>\n",
       "      <td>1.600000e+01</td>\n",
       "      <td>4.000000e+00</td>\n",
       "      <td>5.000000e+00</td>\n",
       "      <td>3.000000e+01</td>\n",
       "      <td>1.000000e+00</td>\n",
       "      <td>7.000000e+00</td>\n",
       "      <td>2.367000e+03</td>\n",
       "      <td>2.700000e+01</td>\n",
       "      <td>1.355000e+02</td>\n",
       "      <td>3.105000e+02</td>\n",
       "      <td>...</td>\n",
       "      <td>0.000000e+00</td>\n",
       "      <td>0.000000e+00</td>\n",
       "      <td>0.000000e+00</td>\n",
       "      <td>0.000000e+00</td>\n",
       "      <td>0.000000e+00</td>\n",
       "      <td>0.000000e+00</td>\n",
       "      <td>0.000000e+00</td>\n",
       "      <td>0.000000e+00</td>\n",
       "      <td>0.000000e+00</td>\n",
       "      <td>0.000000e+00</td>\n",
       "    </tr>\n",
       "    <tr>\n",
       "      <th>75%</th>\n",
       "      <td>2.300000e+01</td>\n",
       "      <td>6.000000e+00</td>\n",
       "      <td>5.000000e+00</td>\n",
       "      <td>4.400000e+01</td>\n",
       "      <td>2.000000e+00</td>\n",
       "      <td>1.000000e+01</td>\n",
       "      <td>4.355000e+03</td>\n",
       "      <td>7.975000e+01</td>\n",
       "      <td>3.357500e+02</td>\n",
       "      <td>6.277500e+02</td>\n",
       "      <td>...</td>\n",
       "      <td>0.000000e+00</td>\n",
       "      <td>1.000000e+00</td>\n",
       "      <td>0.000000e+00</td>\n",
       "      <td>0.000000e+00</td>\n",
       "      <td>0.000000e+00</td>\n",
       "      <td>1.000000e+00</td>\n",
       "      <td>0.000000e+00</td>\n",
       "      <td>0.000000e+00</td>\n",
       "      <td>0.000000e+00</td>\n",
       "      <td>0.000000e+00</td>\n",
       "    </tr>\n",
       "    <tr>\n",
       "      <th>max</th>\n",
       "      <td>3.100000e+01</td>\n",
       "      <td>7.000000e+00</td>\n",
       "      <td>9.000000e+00</td>\n",
       "      <td>5.600000e+01</td>\n",
       "      <td>9.000000e+00</td>\n",
       "      <td>1.200000e+01</td>\n",
       "      <td>1.497900e+04</td>\n",
       "      <td>7.455000e+02</td>\n",
       "      <td>2.299750e+03</td>\n",
       "      <td>3.270500e+03</td>\n",
       "      <td>...</td>\n",
       "      <td>1.000000e+00</td>\n",
       "      <td>1.000000e+00</td>\n",
       "      <td>1.000000e+00</td>\n",
       "      <td>1.000000e+00</td>\n",
       "      <td>1.000000e+00</td>\n",
       "      <td>1.000000e+00</td>\n",
       "      <td>1.000000e+00</td>\n",
       "      <td>1.000000e+00</td>\n",
       "      <td>1.000000e+00</td>\n",
       "      <td>1.000000e+00</td>\n",
       "    </tr>\n",
       "  </tbody>\n",
       "</table>\n",
       "<p>8 rows × 32 columns</p>\n",
       "</div>"
      ],
      "text/plain": [
       "        day_of_data   day_of_week  direction_of_travel  fips_state_code  \\\n",
       "count  6.901954e+06  6.901954e+06         6.901954e+06     6.901954e+06   \n",
       "mean   1.572624e+01  4.012449e+00         3.885063e+00     2.985262e+01   \n",
       "std    8.770013e+00  2.000232e+00         2.281844e+00     1.657622e+01   \n",
       "min    1.000000e+00  1.000000e+00         0.000000e+00     1.000000e+00   \n",
       "25%    8.000000e+00  2.000000e+00         1.000000e+00     1.300000e+01   \n",
       "50%    1.600000e+01  4.000000e+00         5.000000e+00     3.000000e+01   \n",
       "75%    2.300000e+01  6.000000e+00         5.000000e+00     4.400000e+01   \n",
       "max    3.100000e+01  7.000000e+00         9.000000e+00     5.600000e+01   \n",
       "\n",
       "       lane_of_travel  month_of_data    station_id        1_to_4  \\\n",
       "count    6.901954e+06   6.901954e+06  6.901954e+06  6.901954e+06   \n",
       "mean     1.335427e+00   6.518998e+00  3.242214e+03  6.073193e+01   \n",
       "std      1.071629e+00   3.456660e+00  2.796729e+03  8.323963e+01   \n",
       "min      0.000000e+00   1.000000e+00  1.000000e+00 -1.000000e+00   \n",
       "25%      1.000000e+00   4.000000e+00  1.300000e+03  9.000000e+00   \n",
       "50%      1.000000e+00   7.000000e+00  2.367000e+03  2.700000e+01   \n",
       "75%      2.000000e+00   1.000000e+01  4.355000e+03  7.975000e+01   \n",
       "max      9.000000e+00   1.200000e+01  1.497900e+04  7.455000e+02   \n",
       "\n",
       "             5_to_8       9_to_12  ...          East         North  \\\n",
       "count  6.901954e+06  6.901954e+06  ...  6.901954e+06  6.901954e+06   \n",
       "mean   2.552298e+02  4.552350e+02  ...  2.048695e-01  2.817621e-01   \n",
       "std    3.154451e+02  4.602179e+02  ...  4.036063e-01  4.498580e-01   \n",
       "min   -1.000000e+00 -1.000000e+00  ...  0.000000e+00  0.000000e+00   \n",
       "25%    4.700000e+01  1.282500e+02  ...  0.000000e+00  0.000000e+00   \n",
       "50%    1.355000e+02  3.105000e+02  ...  0.000000e+00  0.000000e+00   \n",
       "75%    3.357500e+02  6.277500e+02  ...  0.000000e+00  1.000000e+00   \n",
       "max    2.299750e+03  3.270500e+03  ...  1.000000e+00  1.000000e+00   \n",
       "\n",
       "          Northeast  Northeast-Southwest     Northwest         South  \\\n",
       "count  6.901954e+06         6.901954e+06  6.901954e+06  6.901954e+06   \n",
       "mean   3.734305e-03         7.690286e-03  5.575957e-03  2.799525e-01   \n",
       "std    6.099476e-02         8.735643e-02  7.446386e-02  4.489756e-01   \n",
       "min    0.000000e+00         0.000000e+00  0.000000e+00  0.000000e+00   \n",
       "25%    0.000000e+00         0.000000e+00  0.000000e+00  0.000000e+00   \n",
       "50%    0.000000e+00         0.000000e+00  0.000000e+00  0.000000e+00   \n",
       "75%    0.000000e+00         0.000000e+00  0.000000e+00  1.000000e+00   \n",
       "max    1.000000e+00         1.000000e+00  1.000000e+00  1.000000e+00   \n",
       "\n",
       "          Southeast  Southeast-Northwest     Southwest          West  \n",
       "count  6.901954e+06         6.901954e+06  6.901954e+06  6.901954e+06  \n",
       "mean   5.827190e-03         3.727640e-03  3.690984e-03  2.031696e-01  \n",
       "std    7.611330e-02         6.094051e-02  6.064125e-02  4.023577e-01  \n",
       "min    0.000000e+00         0.000000e+00  0.000000e+00  0.000000e+00  \n",
       "25%    0.000000e+00         0.000000e+00  0.000000e+00  0.000000e+00  \n",
       "50%    0.000000e+00         0.000000e+00  0.000000e+00  0.000000e+00  \n",
       "75%    0.000000e+00         0.000000e+00  0.000000e+00  0.000000e+00  \n",
       "max    1.000000e+00         1.000000e+00  1.000000e+00  1.000000e+00  \n",
       "\n",
       "[8 rows x 32 columns]"
      ]
     },
     "execution_count": 40,
     "metadata": {},
     "output_type": "execute_result"
    }
   ],
   "source": [
    "traffic_df.describe()"
   ]
  },
  {
   "cell_type": "markdown",
   "metadata": {},
   "source": [
    "#### **EDA - STATION DATA**"
   ]
  },
  {
   "cell_type": "code",
   "execution_count": 8,
   "metadata": {},
   "outputs": [
    {
     "data": {
      "text/html": [
       "<div>\n",
       "<style scoped>\n",
       "    .dataframe tbody tr th:only-of-type {\n",
       "        vertical-align: middle;\n",
       "    }\n",
       "\n",
       "    .dataframe tbody tr th {\n",
       "        vertical-align: top;\n",
       "    }\n",
       "\n",
       "    .dataframe thead th {\n",
       "        text-align: right;\n",
       "    }\n",
       "</style>\n",
       "<table border=\"1\" class=\"dataframe\">\n",
       "  <thead>\n",
       "    <tr style=\"text-align: right;\">\n",
       "      <th></th>\n",
       "      <th>algorithm_of_vehicle_classification</th>\n",
       "      <th>algorithm_of_vehicle_classification_name</th>\n",
       "      <th>calibration_of_weighing_system</th>\n",
       "      <th>calibration_of_weighing_system_name</th>\n",
       "      <th>classification_system_for_vehicle_classification</th>\n",
       "      <th>concurrent_route_signing</th>\n",
       "      <th>concurrent_signed_route_number</th>\n",
       "      <th>direction_of_travel</th>\n",
       "      <th>direction_of_travel_name</th>\n",
       "      <th>fips_county_code</th>\n",
       "      <th>...</th>\n",
       "      <th>sample_type_for_vehicle_classification_name</th>\n",
       "      <th>second_type_of_sensor</th>\n",
       "      <th>shrp_site_identification</th>\n",
       "      <th>station_id</th>\n",
       "      <th>station_location</th>\n",
       "      <th>type_of_sensor</th>\n",
       "      <th>type_of_sensor_name</th>\n",
       "      <th>year_of_data</th>\n",
       "      <th>year_station_discontinued</th>\n",
       "      <th>year_station_established</th>\n",
       "    </tr>\n",
       "  </thead>\n",
       "  <tbody>\n",
       "    <tr>\n",
       "      <th>0</th>\n",
       "      <td>NaN</td>\n",
       "      <td>NaN</td>\n",
       "      <td>NaN</td>\n",
       "      <td>NaN</td>\n",
       "      <td>13</td>\n",
       "      <td>3</td>\n",
       "      <td>091</td>\n",
       "      <td>7</td>\n",
       "      <td>West</td>\n",
       "      <td>59</td>\n",
       "      <td>...</td>\n",
       "      <td>Station not used for Heavy Vehicle Travel Info...</td>\n",
       "      <td>N</td>\n",
       "      <td>NaN</td>\n",
       "      <td>129130</td>\n",
       "      <td>LAKEVIEW AVENUE ORA91R10.091</td>\n",
       "      <td>L</td>\n",
       "      <td>Inductance loop</td>\n",
       "      <td>15</td>\n",
       "      <td>0</td>\n",
       "      <td>97</td>\n",
       "    </tr>\n",
       "    <tr>\n",
       "      <th>1</th>\n",
       "      <td>NaN</td>\n",
       "      <td>NaN</td>\n",
       "      <td>NaN</td>\n",
       "      <td>NaN</td>\n",
       "      <td>13</td>\n",
       "      <td>3</td>\n",
       "      <td>099</td>\n",
       "      <td>5</td>\n",
       "      <td>South</td>\n",
       "      <td>77</td>\n",
       "      <td>...</td>\n",
       "      <td>Station not used for Heavy Vehicle Travel Info...</td>\n",
       "      <td>N</td>\n",
       "      <td>NaN</td>\n",
       "      <td>100190</td>\n",
       "      <td>LITTLE JOHN CREEK SJ9912.526</td>\n",
       "      <td>L</td>\n",
       "      <td>Inductance loop</td>\n",
       "      <td>15</td>\n",
       "      <td>0</td>\n",
       "      <td>97</td>\n",
       "    </tr>\n",
       "    <tr>\n",
       "      <th>2</th>\n",
       "      <td>G</td>\n",
       "      <td>Axle spacing with Scheme F modified</td>\n",
       "      <td>NaN</td>\n",
       "      <td>NaN</td>\n",
       "      <td>15</td>\n",
       "      <td>1</td>\n",
       "      <td>005</td>\n",
       "      <td>1</td>\n",
       "      <td>North</td>\n",
       "      <td>93</td>\n",
       "      <td>...</td>\n",
       "      <td>Station used for Heavy Vehicle Travel Informat...</td>\n",
       "      <td>N</td>\n",
       "      <td>NaN</td>\n",
       "      <td>022940</td>\n",
       "      <td>EDGEWOOD SIS5R22.999</td>\n",
       "      <td>P</td>\n",
       "      <td>Piezoelectric</td>\n",
       "      <td>15</td>\n",
       "      <td>0</td>\n",
       "      <td>69</td>\n",
       "    </tr>\n",
       "    <tr>\n",
       "      <th>3</th>\n",
       "      <td>D</td>\n",
       "      <td>Vehicle length classification</td>\n",
       "      <td>M</td>\n",
       "      <td>Moving average of the steering axle of 3S2s</td>\n",
       "      <td>13</td>\n",
       "      <td>0</td>\n",
       "      <td>NaN</td>\n",
       "      <td>5</td>\n",
       "      <td>South</td>\n",
       "      <td>35</td>\n",
       "      <td>...</td>\n",
       "      <td>Station not used for Heavy Vehicle Travel Info...</td>\n",
       "      <td>NaN</td>\n",
       "      <td>NaN</td>\n",
       "      <td>000302</td>\n",
       "      <td>I 15  12900 South  M.P.  290.6</td>\n",
       "      <td>X</td>\n",
       "      <td>Radio wave</td>\n",
       "      <td>15</td>\n",
       "      <td>0</td>\n",
       "      <td>11</td>\n",
       "    </tr>\n",
       "    <tr>\n",
       "      <th>4</th>\n",
       "      <td>G</td>\n",
       "      <td>Axle spacing with Scheme F modified</td>\n",
       "      <td>0</td>\n",
       "      <td>NaN</td>\n",
       "      <td>14</td>\n",
       "      <td>1</td>\n",
       "      <td>000000</td>\n",
       "      <td>7</td>\n",
       "      <td>West</td>\n",
       "      <td>27</td>\n",
       "      <td>...</td>\n",
       "      <td>Station not used for Heavy Vehicle Travel Info...</td>\n",
       "      <td>NaN</td>\n",
       "      <td>NaN</td>\n",
       "      <td>W01136</td>\n",
       "      <td>E. of Franklin Rd Underpass</td>\n",
       "      <td>L</td>\n",
       "      <td>Inductance loop</td>\n",
       "      <td>15</td>\n",
       "      <td>0</td>\n",
       "      <td>95</td>\n",
       "    </tr>\n",
       "  </tbody>\n",
       "</table>\n",
       "<p>5 rows × 55 columns</p>\n",
       "</div>"
      ],
      "text/plain": [
       "  algorithm_of_vehicle_classification  \\\n",
       "0                                 NaN   \n",
       "1                                 NaN   \n",
       "2                                   G   \n",
       "3                                   D   \n",
       "4                                   G   \n",
       "\n",
       "  algorithm_of_vehicle_classification_name calibration_of_weighing_system  \\\n",
       "0                                      NaN                            NaN   \n",
       "1                                      NaN                            NaN   \n",
       "2      Axle spacing with Scheme F modified                            NaN   \n",
       "3            Vehicle length classification                              M   \n",
       "4      Axle spacing with Scheme F modified                              0   \n",
       "\n",
       "           calibration_of_weighing_system_name  \\\n",
       "0                                          NaN   \n",
       "1                                          NaN   \n",
       "2                                          NaN   \n",
       "3  Moving average of the steering axle of 3S2s   \n",
       "4                                          NaN   \n",
       "\n",
       "   classification_system_for_vehicle_classification  concurrent_route_signing  \\\n",
       "0                                                13                         3   \n",
       "1                                                13                         3   \n",
       "2                                                15                         1   \n",
       "3                                                13                         0   \n",
       "4                                                14                         1   \n",
       "\n",
       "  concurrent_signed_route_number  direction_of_travel  \\\n",
       "0                            091                    7   \n",
       "1                            099                    5   \n",
       "2                            005                    1   \n",
       "3                            NaN                    5   \n",
       "4                         000000                    7   \n",
       "\n",
       "  direction_of_travel_name  fips_county_code  ...  \\\n",
       "0                     West                59  ...   \n",
       "1                    South                77  ...   \n",
       "2                    North                93  ...   \n",
       "3                    South                35  ...   \n",
       "4                     West                27  ...   \n",
       "\n",
       "         sample_type_for_vehicle_classification_name second_type_of_sensor  \\\n",
       "0  Station not used for Heavy Vehicle Travel Info...                     N   \n",
       "1  Station not used for Heavy Vehicle Travel Info...                     N   \n",
       "2  Station used for Heavy Vehicle Travel Informat...                     N   \n",
       "3  Station not used for Heavy Vehicle Travel Info...                   NaN   \n",
       "4  Station not used for Heavy Vehicle Travel Info...                   NaN   \n",
       "\n",
       "  shrp_site_identification station_id                station_location  \\\n",
       "0                      NaN     129130    LAKEVIEW AVENUE ORA91R10.091   \n",
       "1                      NaN     100190    LITTLE JOHN CREEK SJ9912.526   \n",
       "2                      NaN     022940            EDGEWOOD SIS5R22.999   \n",
       "3                      NaN     000302  I 15  12900 South  M.P.  290.6   \n",
       "4                      NaN     W01136     E. of Franklin Rd Underpass   \n",
       "\n",
       "   type_of_sensor type_of_sensor_name  year_of_data  \\\n",
       "0               L     Inductance loop            15   \n",
       "1               L     Inductance loop            15   \n",
       "2               P       Piezoelectric            15   \n",
       "3               X          Radio wave            15   \n",
       "4               L     Inductance loop            15   \n",
       "\n",
       "   year_station_discontinued year_station_established  \n",
       "0                          0                       97  \n",
       "1                          0                       97  \n",
       "2                          0                       69  \n",
       "3                          0                       11  \n",
       "4                          0                       95  \n",
       "\n",
       "[5 rows x 55 columns]"
      ]
     },
     "execution_count": 8,
     "metadata": {},
     "output_type": "execute_result"
    }
   ],
   "source": [
    "traffic_station_df.head()"
   ]
  },
  {
   "cell_type": "code",
   "execution_count": 9,
   "metadata": {},
   "outputs": [
    {
     "name": "stdout",
     "output_type": "stream",
     "text": [
      "CALIBRATION OF WEIGHING SYSTEM:\n",
      "{'T': 1744, 'C': 1683, '0': 1466, 'M': 1347, 'Z': 799, 'U': 546, 'A': 439, 'D': 108, 'P': 10, 'B': 9, '2': 8, 'S': 6}\n",
      "\n",
      "CALIBRATION OF WEIGHING SYSTEM NAME:\n",
      "{'Test trucks only': 1744, 'Combination of test trucks and trucks from the traffic stream (but not ASTM E1318)': 1683, 'Moving average of the steering axle of 3S2s': 1347, 'Other method': 799, 'Uncalibrated': 546, 'ASTM Standard E1318': 439, 'Other sample of trucks from the traffic stream': 108, 'Subset of ASTM Standard E1318': 9, 'Static calibration': 6}\n",
      "\n",
      "ALGORITHM_OF_VEHICLE_CLASSIFICATION:\n",
      "{'F': 7100, 'G': 5155, 'D': 2267, '0': 1231, 'L': 1082, 'K': 548, 'Z': 465, 'M': 420, 'N': 116, 'H': 98, 'C': 42, 'A': 36, '1': 10, 'E': 6}\n",
      "\n",
      "ALGORITHM_OF_VEHICLE_CLASSIFICATION_NAME:\n",
      "{'Axle spacing with Scheme F': 7100, 'Axle spacing with Scheme F modified': 5155, 'Vehicle length classification': 2267, 'Axle spacing and vehicle length algorithm': 1082, 'Axle spacing and weight algorithm': 548, 'Other means not specified above': 465, 'Axle spacing weight and vehicle length algorithm': 420, 'Axle spacing and other input(s) not specified above': 116, 'Other axle spacing algorithm': 98, 'Automated interpretation of vehicle image or signature (e.g. video microwave sonic)': 42, 'Human observation on site (manual)': 36, 'Axle spacing with ASTM Standard E1572': 6}\n",
      "\n"
     ]
    }
   ],
   "source": [
    "print('calibration of weighing system:'.upper())\n",
    "print(dict(traffic_station_df['calibration_of_weighing_system'].value_counts()), end = '\\n\\n')\n",
    "print('calibration of weighing system name:'.upper())\n",
    "print(dict(traffic_station_df['calibration_of_weighing_system_name'].value_counts()), end = '\\n\\n')\n",
    "\n",
    "print('algorithm_of_vehicle_classification:'.upper())\n",
    "print(dict(traffic_station_df['algorithm_of_vehicle_classification'].value_counts()), end = '\\n\\n')\n",
    "print('algorithm_of_vehicle_classification_name:'.upper())\n",
    "print(dict(traffic_station_df['algorithm_of_vehicle_classification_name'].value_counts()), end = '\\n\\n')"
   ]
  },
  {
   "cell_type": "markdown",
   "metadata": {},
   "source": [
    "In the below code cell we are performing **One Hot Encoding** to convert many useless columns into features."
   ]
  },
  {
   "cell_type": "code",
   "execution_count": 10,
   "metadata": {},
   "outputs": [
    {
     "data": {
      "text/html": [
       "<div>\n",
       "<style scoped>\n",
       "    .dataframe tbody tr th:only-of-type {\n",
       "        vertical-align: middle;\n",
       "    }\n",
       "\n",
       "    .dataframe tbody tr th {\n",
       "        vertical-align: top;\n",
       "    }\n",
       "\n",
       "    .dataframe thead th {\n",
       "        text-align: right;\n",
       "    }\n",
       "</style>\n",
       "<table border=\"1\" class=\"dataframe\">\n",
       "  <thead>\n",
       "    <tr style=\"text-align: right;\">\n",
       "      <th></th>\n",
       "      <th>algorithm_of_vehicle_classification</th>\n",
       "      <th>algorithm_of_vehicle_classification_name</th>\n",
       "      <th>calibration_of_weighing_system</th>\n",
       "      <th>calibration_of_weighing_system_name</th>\n",
       "      <th>classification_system_for_vehicle_classification</th>\n",
       "      <th>concurrent_route_signing</th>\n",
       "      <th>concurrent_signed_route_number</th>\n",
       "      <th>direction_of_travel</th>\n",
       "      <th>direction_of_travel_name</th>\n",
       "      <th>fips_county_code</th>\n",
       "      <th>...</th>\n",
       "      <th>4R</th>\n",
       "      <th>4U</th>\n",
       "      <th>5R</th>\n",
       "      <th>other_functional_classifications</th>\n",
       "      <th>Data_with_lanes_combined</th>\n",
       "      <th>Other_lanes</th>\n",
       "      <th>Outside_rightmost_lane</th>\n",
       "      <th>TVC_Automatic</th>\n",
       "      <th>TVC_Manual</th>\n",
       "      <th>TVC_Portable</th>\n",
       "    </tr>\n",
       "  </thead>\n",
       "  <tbody>\n",
       "    <tr>\n",
       "      <th>0</th>\n",
       "      <td>NaN</td>\n",
       "      <td>NaN</td>\n",
       "      <td>NaN</td>\n",
       "      <td>NaN</td>\n",
       "      <td>13</td>\n",
       "      <td>3</td>\n",
       "      <td>091</td>\n",
       "      <td>7</td>\n",
       "      <td>West</td>\n",
       "      <td>59</td>\n",
       "      <td>...</td>\n",
       "      <td>0</td>\n",
       "      <td>0</td>\n",
       "      <td>0</td>\n",
       "      <td>0</td>\n",
       "      <td>0</td>\n",
       "      <td>1</td>\n",
       "      <td>0</td>\n",
       "      <td>1</td>\n",
       "      <td>0</td>\n",
       "      <td>0</td>\n",
       "    </tr>\n",
       "    <tr>\n",
       "      <th>1</th>\n",
       "      <td>NaN</td>\n",
       "      <td>NaN</td>\n",
       "      <td>NaN</td>\n",
       "      <td>NaN</td>\n",
       "      <td>13</td>\n",
       "      <td>3</td>\n",
       "      <td>099</td>\n",
       "      <td>5</td>\n",
       "      <td>South</td>\n",
       "      <td>77</td>\n",
       "      <td>...</td>\n",
       "      <td>0</td>\n",
       "      <td>0</td>\n",
       "      <td>0</td>\n",
       "      <td>0</td>\n",
       "      <td>0</td>\n",
       "      <td>0</td>\n",
       "      <td>1</td>\n",
       "      <td>1</td>\n",
       "      <td>0</td>\n",
       "      <td>0</td>\n",
       "    </tr>\n",
       "    <tr>\n",
       "      <th>2</th>\n",
       "      <td>G</td>\n",
       "      <td>Axle spacing with Scheme F modified</td>\n",
       "      <td>NaN</td>\n",
       "      <td>NaN</td>\n",
       "      <td>15</td>\n",
       "      <td>1</td>\n",
       "      <td>005</td>\n",
       "      <td>1</td>\n",
       "      <td>North</td>\n",
       "      <td>93</td>\n",
       "      <td>...</td>\n",
       "      <td>0</td>\n",
       "      <td>0</td>\n",
       "      <td>0</td>\n",
       "      <td>0</td>\n",
       "      <td>0</td>\n",
       "      <td>1</td>\n",
       "      <td>0</td>\n",
       "      <td>1</td>\n",
       "      <td>0</td>\n",
       "      <td>0</td>\n",
       "    </tr>\n",
       "    <tr>\n",
       "      <th>3</th>\n",
       "      <td>D</td>\n",
       "      <td>Vehicle length classification</td>\n",
       "      <td>M</td>\n",
       "      <td>Moving average of the steering axle of 3S2s</td>\n",
       "      <td>13</td>\n",
       "      <td>0</td>\n",
       "      <td>NaN</td>\n",
       "      <td>5</td>\n",
       "      <td>South</td>\n",
       "      <td>35</td>\n",
       "      <td>...</td>\n",
       "      <td>0</td>\n",
       "      <td>0</td>\n",
       "      <td>0</td>\n",
       "      <td>0</td>\n",
       "      <td>0</td>\n",
       "      <td>0</td>\n",
       "      <td>1</td>\n",
       "      <td>1</td>\n",
       "      <td>0</td>\n",
       "      <td>0</td>\n",
       "    </tr>\n",
       "    <tr>\n",
       "      <th>4</th>\n",
       "      <td>G</td>\n",
       "      <td>Axle spacing with Scheme F modified</td>\n",
       "      <td>0</td>\n",
       "      <td>NaN</td>\n",
       "      <td>14</td>\n",
       "      <td>1</td>\n",
       "      <td>000000</td>\n",
       "      <td>7</td>\n",
       "      <td>West</td>\n",
       "      <td>27</td>\n",
       "      <td>...</td>\n",
       "      <td>0</td>\n",
       "      <td>0</td>\n",
       "      <td>0</td>\n",
       "      <td>0</td>\n",
       "      <td>0</td>\n",
       "      <td>1</td>\n",
       "      <td>0</td>\n",
       "      <td>0</td>\n",
       "      <td>0</td>\n",
       "      <td>1</td>\n",
       "    </tr>\n",
       "  </tbody>\n",
       "</table>\n",
       "<p>5 rows × 95 columns</p>\n",
       "</div>"
      ],
      "text/plain": [
       "  algorithm_of_vehicle_classification  \\\n",
       "0                                 NaN   \n",
       "1                                 NaN   \n",
       "2                                   G   \n",
       "3                                   D   \n",
       "4                                   G   \n",
       "\n",
       "  algorithm_of_vehicle_classification_name calibration_of_weighing_system  \\\n",
       "0                                      NaN                            NaN   \n",
       "1                                      NaN                            NaN   \n",
       "2      Axle spacing with Scheme F modified                            NaN   \n",
       "3            Vehicle length classification                              M   \n",
       "4      Axle spacing with Scheme F modified                              0   \n",
       "\n",
       "           calibration_of_weighing_system_name  \\\n",
       "0                                          NaN   \n",
       "1                                          NaN   \n",
       "2                                          NaN   \n",
       "3  Moving average of the steering axle of 3S2s   \n",
       "4                                          NaN   \n",
       "\n",
       "   classification_system_for_vehicle_classification  concurrent_route_signing  \\\n",
       "0                                                13                         3   \n",
       "1                                                13                         3   \n",
       "2                                                15                         1   \n",
       "3                                                13                         0   \n",
       "4                                                14                         1   \n",
       "\n",
       "  concurrent_signed_route_number  direction_of_travel  \\\n",
       "0                            091                    7   \n",
       "1                            099                    5   \n",
       "2                            005                    1   \n",
       "3                            NaN                    5   \n",
       "4                         000000                    7   \n",
       "\n",
       "  direction_of_travel_name  fips_county_code  ...  4R 4U 5R  \\\n",
       "0                     West                59  ...   0  0  0   \n",
       "1                    South                77  ...   0  0  0   \n",
       "2                    North                93  ...   0  0  0   \n",
       "3                    South                35  ...   0  0  0   \n",
       "4                     West                27  ...   0  0  0   \n",
       "\n",
       "  other_functional_classifications Data_with_lanes_combined  Other_lanes  \\\n",
       "0                                0                        0            1   \n",
       "1                                0                        0            0   \n",
       "2                                0                        0            1   \n",
       "3                                0                        0            0   \n",
       "4                                0                        0            1   \n",
       "\n",
       "  Outside_rightmost_lane  TVC_Automatic  TVC_Manual TVC_Portable  \n",
       "0                      0              1           0            0  \n",
       "1                      1              1           0            0  \n",
       "2                      0              1           0            0  \n",
       "3                      1              1           0            0  \n",
       "4                      0              0           0            1  \n",
       "\n",
       "[5 rows x 95 columns]"
      ]
     },
     "execution_count": 10,
     "metadata": {},
     "output_type": "execute_result"
    }
   ],
   "source": [
    "# It is clear that 'D', 'P', 'B', '2', 'S' calibration_of_weighing_system are very much less in number and therefore we can merge them all under one field.\n",
    "# In the calibration_of_weighing_system column we can see they are categorical ones, so we make new feature out of them.\n",
    "\n",
    "traffic_station_df['calibration_of_weighing_system'] = traffic_station_df['calibration_of_weighing_system'].replace(['D', 'P', 'B', '2', 'S'], 'other_calibration_of_weighing_system')\n",
    "\n",
    "calibration_of_weighing_system_dummy = pd.get_dummies(traffic_station_df['calibration_of_weighing_system'])\n",
    "\n",
    "traffic_station_df = pd.concat([traffic_station_df, calibration_of_weighing_system_dummy], axis=1)\n",
    "\n",
    "\n",
    "# It is clear that 'Z', 'M', 'N', 'H', 'C', 'A', '1', 'E' algorithm_of_vehicle_classification are very much less in number and therefore we can merge them all under one field.\n",
    "# In the algorithm_of_vehicle_classification column we can see they are categorical ones, so we make new feature out of them.\n",
    "\n",
    "traffic_station_df['algorithm_of_vehicle_classification'] = traffic_station_df['algorithm_of_vehicle_classification'].replace(['Z', 'M', 'N', 'H', 'C', 'A', '1', 'E'], 'other_algorithm_of_vehicle_classification')\n",
    "traffic_station_df['algorithm_of_vehicle_classification'] = traffic_station_df['algorithm_of_vehicle_classification'].replace(['0'], 'A_0')\n",
    "\n",
    "algorithm_of_vehicle_classification_dummy = pd.get_dummies(traffic_station_df['algorithm_of_vehicle_classification'])\n",
    "\n",
    "traffic_station_df = pd.concat([traffic_station_df, algorithm_of_vehicle_classification_dummy], axis=1)\n",
    "\n",
    "# Renaming the very long column name.\n",
    "\n",
    "traffic_station_df[\"direction_of_travel_name\"].replace({\"North-South or Northeast-Southwest combined (ATR stations only)\": \"Northeast-Southwest\", \n",
    "                                                \"East-West or Southeast-Northwest combined (ATR stations only)\": \"Southeast-Northwest\"}, inplace=True)\n",
    "\n",
    "# In the direction_of_travel_name column we can see they are categorical ones, so we make new feature out of them.\n",
    "\n",
    "direction_of_travel_name_dummy1 = pd.get_dummies(traffic_station_df['direction_of_travel_name'])\n",
    "\n",
    "traffic_station_df = pd.concat([traffic_station_df, direction_of_travel_name_dummy1], axis=1)\n",
    "\n",
    "\n",
    "# It is clear that '5U', '6R', '7U', '7R' functional_classification are very much less in number and therefore we can merge them all under one field.\n",
    "# In the functional_classification column we can see they are categorical ones, so we make new feature out of them.\n",
    "\n",
    "traffic_station_df['functional_classification'] = traffic_station_df['functional_classification'].replace(['5U', '6R', '7U', '7R'], 'other_functional_classifications')\n",
    "traffic_station_df['functional_classification_name'] = traffic_station_df['functional_classification_name'].replace(['Urban: Collector', \n",
    "                                                                                                     'Rural: Minor Collector', \n",
    "                                                                                                     'Urban: Local System', \n",
    "                                                                                                     'Rural: Local System'], 'other_functional_classification_name')\n",
    "\n",
    "functional_classification_dummy1 = pd.get_dummies(traffic_station_df['functional_classification'])\n",
    "\n",
    "traffic_station_df = pd.concat([traffic_station_df, functional_classification_dummy1], axis=1)\n",
    "\n",
    "\n",
    "# In the lane_of_travel_name column we can see they are categorical ones, so we make new feature out of them.\n",
    "\n",
    "traffic_station_df['lane_of_travel_name'] = traffic_station_df['lane_of_travel_name'].replace(['Outside (rightmost) lane'], 'Outside_rightmost_lane')\n",
    "traffic_station_df['lane_of_travel_name'] = traffic_station_df['lane_of_travel_name'].replace(['Data with lanes combined'], 'Data_with_lanes_combined')\n",
    "traffic_station_df['lane_of_travel_name'] = traffic_station_df['lane_of_travel_name'].replace(['Other lanes'], 'Other_lanes')\n",
    "\n",
    "lane_of_travel_name_dummy = pd.get_dummies(traffic_station_df['lane_of_travel_name'])\n",
    "\n",
    "traffic_station_df = pd.concat([traffic_station_df, lane_of_travel_name_dummy], axis=1)\n",
    "\n",
    "\n",
    "# In the method_of_traffic_volume_counting_name column we can see they are categorical ones, so we make new feature out of them.\n",
    "\n",
    "\n",
    "traffic_station_df.replace({'method_of_traffic_volume_counting_name' : { 'Permanent automatic traffic recorder (ATR)' : 'TVC_Automatic', \n",
    "                                                               'Portable traffic recording device' : 'TVC_Portable',\n",
    "                                                                'Human observation (manual)': 'TVC_Manual'}}, inplace=True)\n",
    "\n",
    "method_of_traffic_volume_counting_name_dummy = pd.get_dummies(traffic_station_df['method_of_traffic_volume_counting_name'])\n",
    "\n",
    "traffic_station_df = pd.concat([traffic_station_df, method_of_traffic_volume_counting_name_dummy], axis=1)\n",
    "\n",
    "traffic_station_df.head()"
   ]
  },
  {
   "cell_type": "markdown",
   "metadata": {},
   "source": [
    "In the below code cell we are converting the columns which contains only 2 values into vinary values on 1 and 0 so that they can be machine readable and can be used as a feature."
   ]
  },
  {
   "cell_type": "code",
   "execution_count": 11,
   "metadata": {},
   "outputs": [],
   "source": [
    "traffic_station_df.replace({'sample_type_for_traffic_volume_name' : {'Station used for Traffic Volume Trends': 1, \n",
    "                                                                     'Station not used for Traffic Volume Trends': 0}}, inplace=True)\n",
    "\n",
    "traffic_station_df.replace({'sample_type_for_vehicle_classification_name' : {'Station used for Heavy Vehicle Travel Information System': 1, \n",
    "                                                                             'Station not used for Heavy Vehicle Travel Information System': 0}}, inplace=True)\n",
    "\n",
    "traffic_station_df.replace({'method_of_data_retrieval_name' : { 'Automated (telemetry)' : 1, 'Not automated (manual)' : 0}}, inplace=True)\n",
    "\n",
    "traffic_station_df.replace({'hpms_sample_type' : { 'N' : 1, 'Y' : 0}}, inplace=True)\n",
    "\n",
    "traffic_station_df.replace({'national_highway_system' : { 'N' : 0, 'Y' : 1}}, inplace=True)"
   ]
  },
  {
   "cell_type": "markdown",
   "metadata": {},
   "source": [
    "Here we are converting all the columns which contains many unique values into the counts of each value so that they all can be used as the feature and contribute into our model accuracy."
   ]
  },
  {
   "cell_type": "code",
   "execution_count": 12,
   "metadata": {},
   "outputs": [],
   "source": [
    "year_station_established_count = dict(traffic_station_df['year_station_established'].value_counts())\n",
    "traffic_station_df['year_station_established'] = traffic_station_df['year_station_established'].map(year_station_established_count.get)\n",
    "\n",
    "year_station_discontinued_count = dict(traffic_station_df['year_station_discontinued'].value_counts())\n",
    "traffic_station_df['year_station_discontinued'] = traffic_station_df['year_station_discontinued'].map(year_station_discontinued_count.get)\n",
    "\n",
    "station_id_element_count1 = dict(traffic_station_df['station_id'].value_counts())\n",
    "traffic_station_df['station_id'] = traffic_station_df['station_id'].map(station_id_element_count1.get)\n",
    "\n",
    "previous_station_id_count = dict(traffic_station_df['previous_station_id'].value_counts())\n",
    "traffic_station_df['previous_station_id'] = traffic_station_df['previous_station_id'].map(previous_station_id_count.get)\n",
    "\n",
    "posted_signed_route_number_count = dict(traffic_station_df['posted_signed_route_number'].value_counts())\n",
    "traffic_station_df['posted_signed_route_number'] = traffic_station_df['posted_signed_route_number'].map(posted_signed_route_number_count.get)"
   ]
  },
  {
   "cell_type": "markdown",
   "metadata": {},
   "source": [
    "Here we are dropping all the useless column and the columns we have already converted into the features."
   ]
  },
  {
   "cell_type": "code",
   "execution_count": 13,
   "metadata": {},
   "outputs": [],
   "source": [
    "traffic_station_df.drop(['calibration_of_weighing_system', 'calibration_of_weighing_system_name', \n",
    "                         'algorithm_of_vehicle_classification', 'algorithm_of_vehicle_classification_name',\n",
    "                        'direction_of_travel_name', 'functional_classification','functional_classification_name', 'lane_of_travel_name',\n",
    "                        'method_of_traffic_volume_counting_name', 'year_of_data', 'station_location', 'method_of_truck_weighing_name',\n",
    "                        'record_type', 'sample_type_for_traffic_volume', 'sample_type_for_truck_weight_name',\n",
    "                        'sample_type_for_truck_weight', 'sample_type_for_vehicle_classification', 'type_of_sensor_name',\n",
    "                        'type_of_sensor', 'second_type_of_sensor', 'primary_purpose', 'primary_purpose_name', \n",
    "                        'method_of_vehicle_classification_name'], axis = 1, inplace=True)\n",
    "traffic_station_df.reset_index(inplace=True, drop=True)"
   ]
  },
  {
   "cell_type": "markdown",
   "metadata": {},
   "source": [
    "### **Training and Testing of Model**"
   ]
  },
  {
   "cell_type": "code",
   "execution_count": 15,
   "metadata": {},
   "outputs": [],
   "source": [
    "# Removing the unnecesary columns and the columns with non numerical values.\n",
    "traffic_df_m = traffic_df.drop(['date', 'direction_of_travel_name', 'functional_classification_name', 'functional_classification', 'fips_state_code'], axis = 1)"
   ]
  },
  {
   "cell_type": "code",
   "execution_count": 42,
   "metadata": {},
   "outputs": [],
   "source": [
    "traffic_df_m = traffic_df_m.drop(['station_id'], axis = 1)"
   ]
  },
  {
   "cell_type": "code",
   "execution_count": 57,
   "metadata": {},
   "outputs": [],
   "source": [
    "traffic_df_m = traffic_df_m.drop(['restrictions'], axis=1)"
   ]
  },
  {
   "cell_type": "code",
   "execution_count": 58,
   "metadata": {},
   "outputs": [
    {
     "data": {
      "text/html": [
       "<div>\n",
       "<style scoped>\n",
       "    .dataframe tbody tr th:only-of-type {\n",
       "        vertical-align: middle;\n",
       "    }\n",
       "\n",
       "    .dataframe tbody tr th {\n",
       "        vertical-align: top;\n",
       "    }\n",
       "\n",
       "    .dataframe thead th {\n",
       "        text-align: right;\n",
       "    }\n",
       "</style>\n",
       "<table border=\"1\" class=\"dataframe\">\n",
       "  <thead>\n",
       "    <tr style=\"text-align: right;\">\n",
       "      <th></th>\n",
       "      <th>day_of_data</th>\n",
       "      <th>day_of_week</th>\n",
       "      <th>direction_of_travel</th>\n",
       "      <th>lane_of_travel</th>\n",
       "      <th>month_of_data</th>\n",
       "      <th>record_type</th>\n",
       "      <th>traffic_volume_counted_after_0000_to_0100</th>\n",
       "      <th>traffic_volume_counted_after_0100_to_0200</th>\n",
       "      <th>traffic_volume_counted_after_0200_to_0300</th>\n",
       "      <th>traffic_volume_counted_after_0300_to_0400</th>\n",
       "      <th>...</th>\n",
       "      <th>traffic_volume_counted_after_1500_to_1600</th>\n",
       "      <th>traffic_volume_counted_after_1600_to_1700</th>\n",
       "      <th>traffic_volume_counted_after_1700_to_1800</th>\n",
       "      <th>traffic_volume_counted_after_1800_to_1900</th>\n",
       "      <th>traffic_volume_counted_after_1900_to_2000</th>\n",
       "      <th>traffic_volume_counted_after_2000_to_2100</th>\n",
       "      <th>traffic_volume_counted_after_2100_to_2200</th>\n",
       "      <th>traffic_volume_counted_after_2200_to_2300</th>\n",
       "      <th>traffic_volume_counted_after_2300_to_2400</th>\n",
       "      <th>year_of_data</th>\n",
       "    </tr>\n",
       "  </thead>\n",
       "  <tbody>\n",
       "    <tr>\n",
       "      <th>0</th>\n",
       "      <td>7</td>\n",
       "      <td>3</td>\n",
       "      <td>1</td>\n",
       "      <td>1</td>\n",
       "      <td>4</td>\n",
       "      <td>3</td>\n",
       "      <td>4</td>\n",
       "      <td>3</td>\n",
       "      <td>2</td>\n",
       "      <td>4</td>\n",
       "      <td>...</td>\n",
       "      <td>89</td>\n",
       "      <td>122</td>\n",
       "      <td>124</td>\n",
       "      <td>110</td>\n",
       "      <td>69</td>\n",
       "      <td>73</td>\n",
       "      <td>28</td>\n",
       "      <td>12</td>\n",
       "      <td>6</td>\n",
       "      <td>15</td>\n",
       "    </tr>\n",
       "    <tr>\n",
       "      <th>1</th>\n",
       "      <td>26</td>\n",
       "      <td>7</td>\n",
       "      <td>7</td>\n",
       "      <td>2</td>\n",
       "      <td>9</td>\n",
       "      <td>3</td>\n",
       "      <td>381</td>\n",
       "      <td>252</td>\n",
       "      <td>218</td>\n",
       "      <td>194</td>\n",
       "      <td>...</td>\n",
       "      <td>1617</td>\n",
       "      <td>1669</td>\n",
       "      <td>1308</td>\n",
       "      <td>1068</td>\n",
       "      <td>928</td>\n",
       "      <td>885</td>\n",
       "      <td>798</td>\n",
       "      <td>650</td>\n",
       "      <td>613</td>\n",
       "      <td>15</td>\n",
       "    </tr>\n",
       "    <tr>\n",
       "      <th>2</th>\n",
       "      <td>16</td>\n",
       "      <td>3</td>\n",
       "      <td>3</td>\n",
       "      <td>0</td>\n",
       "      <td>6</td>\n",
       "      <td>3</td>\n",
       "      <td>585</td>\n",
       "      <td>408</td>\n",
       "      <td>328</td>\n",
       "      <td>364</td>\n",
       "      <td>...</td>\n",
       "      <td>4244</td>\n",
       "      <td>4405</td>\n",
       "      <td>4609</td>\n",
       "      <td>4361</td>\n",
       "      <td>3272</td>\n",
       "      <td>2243</td>\n",
       "      <td>2050</td>\n",
       "      <td>1453</td>\n",
       "      <td>892</td>\n",
       "      <td>15</td>\n",
       "    </tr>\n",
       "    <tr>\n",
       "      <th>3</th>\n",
       "      <td>26</td>\n",
       "      <td>1</td>\n",
       "      <td>5</td>\n",
       "      <td>1</td>\n",
       "      <td>4</td>\n",
       "      <td>3</td>\n",
       "      <td>105</td>\n",
       "      <td>73</td>\n",
       "      <td>68</td>\n",
       "      <td>66</td>\n",
       "      <td>...</td>\n",
       "      <td>1011</td>\n",
       "      <td>959</td>\n",
       "      <td>851</td>\n",
       "      <td>708</td>\n",
       "      <td>559</td>\n",
       "      <td>457</td>\n",
       "      <td>297</td>\n",
       "      <td>207</td>\n",
       "      <td>110</td>\n",
       "      <td>15</td>\n",
       "    </tr>\n",
       "    <tr>\n",
       "      <th>4</th>\n",
       "      <td>23</td>\n",
       "      <td>7</td>\n",
       "      <td>3</td>\n",
       "      <td>0</td>\n",
       "      <td>5</td>\n",
       "      <td>3</td>\n",
       "      <td>6</td>\n",
       "      <td>4</td>\n",
       "      <td>2</td>\n",
       "      <td>3</td>\n",
       "      <td>...</td>\n",
       "      <td>83</td>\n",
       "      <td>61</td>\n",
       "      <td>55</td>\n",
       "      <td>35</td>\n",
       "      <td>29</td>\n",
       "      <td>21</td>\n",
       "      <td>23</td>\n",
       "      <td>9</td>\n",
       "      <td>7</td>\n",
       "      <td>15</td>\n",
       "    </tr>\n",
       "  </tbody>\n",
       "</table>\n",
       "<p>5 rows × 31 columns</p>\n",
       "</div>"
      ],
      "text/plain": [
       "   day_of_data  day_of_week  direction_of_travel  lane_of_travel  \\\n",
       "0            7            3                    1               1   \n",
       "1           26            7                    7               2   \n",
       "2           16            3                    3               0   \n",
       "3           26            1                    5               1   \n",
       "4           23            7                    3               0   \n",
       "\n",
       "   month_of_data  record_type  traffic_volume_counted_after_0000_to_0100  \\\n",
       "0              4            3                                          4   \n",
       "1              9            3                                        381   \n",
       "2              6            3                                        585   \n",
       "3              4            3                                        105   \n",
       "4              5            3                                          6   \n",
       "\n",
       "   traffic_volume_counted_after_0100_to_0200  \\\n",
       "0                                          3   \n",
       "1                                        252   \n",
       "2                                        408   \n",
       "3                                         73   \n",
       "4                                          4   \n",
       "\n",
       "   traffic_volume_counted_after_0200_to_0300  \\\n",
       "0                                          2   \n",
       "1                                        218   \n",
       "2                                        328   \n",
       "3                                         68   \n",
       "4                                          2   \n",
       "\n",
       "   traffic_volume_counted_after_0300_to_0400  ...  \\\n",
       "0                                          4  ...   \n",
       "1                                        194  ...   \n",
       "2                                        364  ...   \n",
       "3                                         66  ...   \n",
       "4                                          3  ...   \n",
       "\n",
       "   traffic_volume_counted_after_1500_to_1600  \\\n",
       "0                                         89   \n",
       "1                                       1617   \n",
       "2                                       4244   \n",
       "3                                       1011   \n",
       "4                                         83   \n",
       "\n",
       "   traffic_volume_counted_after_1600_to_1700  \\\n",
       "0                                        122   \n",
       "1                                       1669   \n",
       "2                                       4405   \n",
       "3                                        959   \n",
       "4                                         61   \n",
       "\n",
       "   traffic_volume_counted_after_1700_to_1800  \\\n",
       "0                                        124   \n",
       "1                                       1308   \n",
       "2                                       4609   \n",
       "3                                        851   \n",
       "4                                         55   \n",
       "\n",
       "   traffic_volume_counted_after_1800_to_1900  \\\n",
       "0                                        110   \n",
       "1                                       1068   \n",
       "2                                       4361   \n",
       "3                                        708   \n",
       "4                                         35   \n",
       "\n",
       "   traffic_volume_counted_after_1900_to_2000  \\\n",
       "0                                         69   \n",
       "1                                        928   \n",
       "2                                       3272   \n",
       "3                                        559   \n",
       "4                                         29   \n",
       "\n",
       "   traffic_volume_counted_after_2000_to_2100  \\\n",
       "0                                         73   \n",
       "1                                        885   \n",
       "2                                       2243   \n",
       "3                                        457   \n",
       "4                                         21   \n",
       "\n",
       "   traffic_volume_counted_after_2100_to_2200  \\\n",
       "0                                         28   \n",
       "1                                        798   \n",
       "2                                       2050   \n",
       "3                                        297   \n",
       "4                                         23   \n",
       "\n",
       "   traffic_volume_counted_after_2200_to_2300  \\\n",
       "0                                         12   \n",
       "1                                        650   \n",
       "2                                       1453   \n",
       "3                                        207   \n",
       "4                                          9   \n",
       "\n",
       "   traffic_volume_counted_after_2300_to_2400  year_of_data  \n",
       "0                                          6            15  \n",
       "1                                        613            15  \n",
       "2                                        892            15  \n",
       "3                                        110            15  \n",
       "4                                          7            15  \n",
       "\n",
       "[5 rows x 31 columns]"
      ]
     },
     "execution_count": 58,
     "metadata": {},
     "output_type": "execute_result"
    }
   ],
   "source": [
    "traffic_df_m.reset_index(inplace=True, drop=True)\n",
    "traffic_df_m.head()"
   ]
  },
  {
   "cell_type": "markdown",
   "metadata": {},
   "source": [
    "Splitting our data into training and testing data.\n",
    "Our target value of the model will be the lane of travel."
   ]
  },
  {
   "cell_type": "code",
   "execution_count": 35,
   "metadata": {},
   "outputs": [],
   "source": [
    "## traffic_df_mm = pd.get_dummies(traffic_df_m['station_id'])"
   ]
  },
  {
   "cell_type": "code",
   "execution_count": 59,
   "metadata": {},
   "outputs": [],
   "source": [
    "# Setting up our X and Y axis i.e. input(X axis) and output(Y axis) i.e. target value.\n",
    "# Splitting out training data into new Train data and Validation data.\n",
    "\n",
    "y = traffic_df_m['lane_of_travel']\n",
    "X_train = traffic_df_m.drop(['lane_of_travel'], axis = 1)\n",
    "Xtrain ,Xtest, ytrain, ytest = train_test_split(X_train, y, test_size = 0.2, random_state=0)"
   ]
  },
  {
   "cell_type": "code",
   "execution_count": 18,
   "metadata": {},
   "outputs": [],
   "source": [
    "# Defining Lists to Store in the Results and Names of Algorithms\n",
    "MSE_Score = []\n",
    "R2_Score = []\n",
    "Algorithm = []"
   ]
  },
  {
   "cell_type": "code",
   "execution_count": 53,
   "metadata": {},
   "outputs": [],
   "source": [
    "# Xtrain.drop(['station_id'], axis=)"
   ]
  },
  {
   "cell_type": "markdown",
   "metadata": {},
   "source": [
    "### Decision Tree"
   ]
  },
  {
   "cell_type": "code",
   "execution_count": 25,
   "metadata": {},
   "outputs": [],
   "source": [
    "# Xtrain[0:10]"
   ]
  },
  {
   "cell_type": "code",
   "execution_count": 21,
   "metadata": {},
   "outputs": [],
   "source": [
    "from sklearn import tree"
   ]
  },
  {
   "cell_type": "code",
   "execution_count": 54,
   "metadata": {},
   "outputs": [
    {
     "data": {
      "text/html": [
       "<div>\n",
       "<style scoped>\n",
       "    .dataframe tbody tr th:only-of-type {\n",
       "        vertical-align: middle;\n",
       "    }\n",
       "\n",
       "    .dataframe tbody tr th {\n",
       "        vertical-align: top;\n",
       "    }\n",
       "\n",
       "    .dataframe thead th {\n",
       "        text-align: right;\n",
       "    }\n",
       "</style>\n",
       "<table border=\"1\" class=\"dataframe\">\n",
       "  <thead>\n",
       "    <tr style=\"text-align: right;\">\n",
       "      <th></th>\n",
       "      <th>day_of_data</th>\n",
       "      <th>day_of_week</th>\n",
       "      <th>direction_of_travel</th>\n",
       "      <th>month_of_data</th>\n",
       "      <th>record_type</th>\n",
       "      <th>restrictions</th>\n",
       "      <th>traffic_volume_counted_after_0000_to_0100</th>\n",
       "      <th>traffic_volume_counted_after_0100_to_0200</th>\n",
       "      <th>traffic_volume_counted_after_0200_to_0300</th>\n",
       "      <th>traffic_volume_counted_after_0300_to_0400</th>\n",
       "      <th>...</th>\n",
       "      <th>traffic_volume_counted_after_1500_to_1600</th>\n",
       "      <th>traffic_volume_counted_after_1600_to_1700</th>\n",
       "      <th>traffic_volume_counted_after_1700_to_1800</th>\n",
       "      <th>traffic_volume_counted_after_1800_to_1900</th>\n",
       "      <th>traffic_volume_counted_after_1900_to_2000</th>\n",
       "      <th>traffic_volume_counted_after_2000_to_2100</th>\n",
       "      <th>traffic_volume_counted_after_2100_to_2200</th>\n",
       "      <th>traffic_volume_counted_after_2200_to_2300</th>\n",
       "      <th>traffic_volume_counted_after_2300_to_2400</th>\n",
       "      <th>year_of_data</th>\n",
       "    </tr>\n",
       "  </thead>\n",
       "  <tbody>\n",
       "    <tr>\n",
       "      <th>7052181</th>\n",
       "      <td>13</td>\n",
       "      <td>6</td>\n",
       "      <td>5</td>\n",
       "      <td>2</td>\n",
       "      <td>3</td>\n",
       "      <td>NaN</td>\n",
       "      <td>438</td>\n",
       "      <td>317</td>\n",
       "      <td>210</td>\n",
       "      <td>202</td>\n",
       "      <td>...</td>\n",
       "      <td>1790</td>\n",
       "      <td>1858</td>\n",
       "      <td>1724</td>\n",
       "      <td>1611</td>\n",
       "      <td>1416</td>\n",
       "      <td>1192</td>\n",
       "      <td>1147</td>\n",
       "      <td>960</td>\n",
       "      <td>826</td>\n",
       "      <td>15</td>\n",
       "    </tr>\n",
       "    <tr>\n",
       "      <th>1046231</th>\n",
       "      <td>7</td>\n",
       "      <td>7</td>\n",
       "      <td>1</td>\n",
       "      <td>3</td>\n",
       "      <td>3</td>\n",
       "      <td>NaN</td>\n",
       "      <td>172</td>\n",
       "      <td>76</td>\n",
       "      <td>85</td>\n",
       "      <td>64</td>\n",
       "      <td>...</td>\n",
       "      <td>738</td>\n",
       "      <td>702</td>\n",
       "      <td>659</td>\n",
       "      <td>601</td>\n",
       "      <td>548</td>\n",
       "      <td>440</td>\n",
       "      <td>356</td>\n",
       "      <td>324</td>\n",
       "      <td>233</td>\n",
       "      <td>15</td>\n",
       "    </tr>\n",
       "    <tr>\n",
       "      <th>5029291</th>\n",
       "      <td>9</td>\n",
       "      <td>5</td>\n",
       "      <td>1</td>\n",
       "      <td>7</td>\n",
       "      <td>3</td>\n",
       "      <td>NaN</td>\n",
       "      <td>294</td>\n",
       "      <td>258</td>\n",
       "      <td>205</td>\n",
       "      <td>233</td>\n",
       "      <td>...</td>\n",
       "      <td>1112</td>\n",
       "      <td>1164</td>\n",
       "      <td>1189</td>\n",
       "      <td>1018</td>\n",
       "      <td>983</td>\n",
       "      <td>807</td>\n",
       "      <td>693</td>\n",
       "      <td>556</td>\n",
       "      <td>429</td>\n",
       "      <td>15</td>\n",
       "    </tr>\n",
       "    <tr>\n",
       "      <th>4964924</th>\n",
       "      <td>8</td>\n",
       "      <td>7</td>\n",
       "      <td>3</td>\n",
       "      <td>8</td>\n",
       "      <td>3</td>\n",
       "      <td>NaN</td>\n",
       "      <td>43</td>\n",
       "      <td>26</td>\n",
       "      <td>24</td>\n",
       "      <td>10</td>\n",
       "      <td>...</td>\n",
       "      <td>173</td>\n",
       "      <td>171</td>\n",
       "      <td>173</td>\n",
       "      <td>190</td>\n",
       "      <td>171</td>\n",
       "      <td>148</td>\n",
       "      <td>91</td>\n",
       "      <td>81</td>\n",
       "      <td>61</td>\n",
       "      <td>15</td>\n",
       "    </tr>\n",
       "    <tr>\n",
       "      <th>3023772</th>\n",
       "      <td>3</td>\n",
       "      <td>5</td>\n",
       "      <td>7</td>\n",
       "      <td>12</td>\n",
       "      <td>3</td>\n",
       "      <td>NaN</td>\n",
       "      <td>28</td>\n",
       "      <td>27</td>\n",
       "      <td>23</td>\n",
       "      <td>26</td>\n",
       "      <td>...</td>\n",
       "      <td>359</td>\n",
       "      <td>338</td>\n",
       "      <td>338</td>\n",
       "      <td>224</td>\n",
       "      <td>166</td>\n",
       "      <td>140</td>\n",
       "      <td>93</td>\n",
       "      <td>57</td>\n",
       "      <td>53</td>\n",
       "      <td>15</td>\n",
       "    </tr>\n",
       "  </tbody>\n",
       "</table>\n",
       "<p>5 rows × 31 columns</p>\n",
       "</div>"
      ],
      "text/plain": [
       "         day_of_data  day_of_week  direction_of_travel  month_of_data  \\\n",
       "7052181           13            6                    5              2   \n",
       "1046231            7            7                    1              3   \n",
       "5029291            9            5                    1              7   \n",
       "4964924            8            7                    3              8   \n",
       "3023772            3            5                    7             12   \n",
       "\n",
       "         record_type  restrictions  traffic_volume_counted_after_0000_to_0100  \\\n",
       "7052181            3           NaN                                        438   \n",
       "1046231            3           NaN                                        172   \n",
       "5029291            3           NaN                                        294   \n",
       "4964924            3           NaN                                         43   \n",
       "3023772            3           NaN                                         28   \n",
       "\n",
       "         traffic_volume_counted_after_0100_to_0200  \\\n",
       "7052181                                        317   \n",
       "1046231                                         76   \n",
       "5029291                                        258   \n",
       "4964924                                         26   \n",
       "3023772                                         27   \n",
       "\n",
       "         traffic_volume_counted_after_0200_to_0300  \\\n",
       "7052181                                        210   \n",
       "1046231                                         85   \n",
       "5029291                                        205   \n",
       "4964924                                         24   \n",
       "3023772                                         23   \n",
       "\n",
       "         traffic_volume_counted_after_0300_to_0400  ...  \\\n",
       "7052181                                        202  ...   \n",
       "1046231                                         64  ...   \n",
       "5029291                                        233  ...   \n",
       "4964924                                         10  ...   \n",
       "3023772                                         26  ...   \n",
       "\n",
       "         traffic_volume_counted_after_1500_to_1600  \\\n",
       "7052181                                       1790   \n",
       "1046231                                        738   \n",
       "5029291                                       1112   \n",
       "4964924                                        173   \n",
       "3023772                                        359   \n",
       "\n",
       "         traffic_volume_counted_after_1600_to_1700  \\\n",
       "7052181                                       1858   \n",
       "1046231                                        702   \n",
       "5029291                                       1164   \n",
       "4964924                                        171   \n",
       "3023772                                        338   \n",
       "\n",
       "         traffic_volume_counted_after_1700_to_1800  \\\n",
       "7052181                                       1724   \n",
       "1046231                                        659   \n",
       "5029291                                       1189   \n",
       "4964924                                        173   \n",
       "3023772                                        338   \n",
       "\n",
       "         traffic_volume_counted_after_1800_to_1900  \\\n",
       "7052181                                       1611   \n",
       "1046231                                        601   \n",
       "5029291                                       1018   \n",
       "4964924                                        190   \n",
       "3023772                                        224   \n",
       "\n",
       "         traffic_volume_counted_after_1900_to_2000  \\\n",
       "7052181                                       1416   \n",
       "1046231                                        548   \n",
       "5029291                                        983   \n",
       "4964924                                        171   \n",
       "3023772                                        166   \n",
       "\n",
       "         traffic_volume_counted_after_2000_to_2100  \\\n",
       "7052181                                       1192   \n",
       "1046231                                        440   \n",
       "5029291                                        807   \n",
       "4964924                                        148   \n",
       "3023772                                        140   \n",
       "\n",
       "         traffic_volume_counted_after_2100_to_2200  \\\n",
       "7052181                                       1147   \n",
       "1046231                                        356   \n",
       "5029291                                        693   \n",
       "4964924                                         91   \n",
       "3023772                                         93   \n",
       "\n",
       "         traffic_volume_counted_after_2200_to_2300  \\\n",
       "7052181                                        960   \n",
       "1046231                                        324   \n",
       "5029291                                        556   \n",
       "4964924                                         81   \n",
       "3023772                                         57   \n",
       "\n",
       "         traffic_volume_counted_after_2300_to_2400  year_of_data  \n",
       "7052181                                        826            15  \n",
       "1046231                                        233            15  \n",
       "5029291                                        429            15  \n",
       "4964924                                         61            15  \n",
       "3023772                                         53            15  \n",
       "\n",
       "[5 rows x 31 columns]"
      ]
     },
     "execution_count": 54,
     "metadata": {},
     "output_type": "execute_result"
    }
   ],
   "source": [
    "# Xtrain.info()\n",
    "# Xtrain.loc[Xtrain.station_id =='LC0200', ]\n",
    "Xtrain.head()"
   ]
  },
  {
   "cell_type": "code",
   "execution_count": 60,
   "metadata": {},
   "outputs": [],
   "source": [
    "clf = tree.DecisionTreeClassifier()\n",
    "clf = clf.fit(Xtrain, ytrain)"
   ]
  },
  {
   "cell_type": "code",
   "execution_count": 61,
   "metadata": {},
   "outputs": [],
   "source": [
    "# Predicting the output using our trained model\n",
    "Output = clf.predict(Xtest)"
   ]
  },
  {
   "cell_type": "code",
   "execution_count": 153,
   "metadata": {},
   "outputs": [
    {
     "name": "stdout",
     "output_type": "stream",
     "text": [
      "Decision Tree Accuracy Score :  69.72 %\n"
     ]
    }
   ],
   "source": [
    "Output\n",
    "accuracy_train = round(clf.score(Xtest, ytest)*100,2)\n",
    "\n",
    "print(\"Decision Tree Accuracy Score : \", round(accuracy_train,2),'%')"
   ]
  },
  {
   "cell_type": "code",
   "execution_count": 151,
   "metadata": {},
   "outputs": [],
   "source": [
    "# mean_squared_error(ytest, Output)"
   ]
  },
  {
   "cell_type": "code",
   "execution_count": 118,
   "metadata": {},
   "outputs": [],
   "source": [
    "# Output"
   ]
  },
  {
   "cell_type": "markdown",
   "metadata": {},
   "source": [
    "### CNN model"
   ]
  },
  {
   "cell_type": "code",
   "execution_count": 66,
   "metadata": {},
   "outputs": [
    {
     "name": "stdout",
     "output_type": "stream",
     "text": [
      "Collecting tensorflow\n",
      "  Downloading tensorflow-2.7.0-cp38-cp38-win_amd64.whl (430.8 MB)\n",
      "Requirement already satisfied: six>=1.12.0 in c:\\users\\solai\\anaconda3\\lib\\site-packages (from tensorflow) (1.16.0)\n",
      "Collecting termcolor>=1.1.0\n",
      "  Downloading termcolor-1.1.0.tar.gz (3.9 kB)\n",
      "Requirement already satisfied: protobuf>=3.9.2 in c:\\users\\solai\\anaconda3\\lib\\site-packages (from tensorflow) (3.18.0)\n",
      "Collecting typing-extensions>=3.6.6\n",
      "  Downloading typing_extensions-3.10.0.2-py3-none-any.whl (26 kB)\n",
      "Requirement already satisfied: wheel<1.0,>=0.32.0 in c:\\users\\solai\\anaconda3\\lib\\site-packages (from tensorflow) (0.36.2)\n",
      "Collecting grpcio<2.0,>=1.24.3\n",
      "  Downloading grpcio-1.41.1-cp38-cp38-win_amd64.whl (3.2 MB)\n",
      "Collecting gast<0.5.0,>=0.2.1\n",
      "  Downloading gast-0.4.0-py3-none-any.whl (9.8 kB)\n",
      "Collecting keras-preprocessing>=1.1.1\n",
      "  Downloading Keras_Preprocessing-1.1.2-py2.py3-none-any.whl (42 kB)\n",
      "Requirement already satisfied: absl-py>=0.4.0 in c:\\users\\solai\\anaconda3\\lib\\site-packages (from tensorflow) (0.15.0)\n",
      "Collecting tensorboard~=2.6\n",
      "  Downloading tensorboard-2.7.0-py3-none-any.whl (5.8 MB)\n",
      "Collecting wrapt>=1.11.0\n",
      "  Downloading wrapt-1.13.3-cp38-cp38-win_amd64.whl (34 kB)\n",
      "Collecting tensorflow-io-gcs-filesystem>=0.21.0\n",
      "  Downloading tensorflow_io_gcs_filesystem-0.21.0-cp38-cp38-win_amd64.whl (1.5 MB)\n",
      "Collecting tensorflow-estimator<2.8,~=2.7.0rc0\n",
      "  Downloading tensorflow_estimator-2.7.0-py2.py3-none-any.whl (463 kB)\n",
      "Collecting astunparse>=1.6.0\n",
      "  Downloading astunparse-1.6.3-py2.py3-none-any.whl (12 kB)\n",
      "Collecting h5py>=2.9.0\n",
      "  Downloading h5py-3.5.0-cp38-cp38-win_amd64.whl (2.8 MB)\n",
      "Collecting keras<2.8,>=2.7.0rc0\n",
      "  Downloading keras-2.7.0-py2.py3-none-any.whl (1.3 MB)\n",
      "Collecting flatbuffers<3.0,>=1.12\n",
      "  Downloading flatbuffers-2.0-py2.py3-none-any.whl (26 kB)\n",
      "Requirement already satisfied: numpy>=1.14.5 in c:\\users\\solai\\anaconda3\\lib\\site-packages (from tensorflow) (1.21.1)\n",
      "Collecting opt-einsum>=2.3.2\n",
      "  Downloading opt_einsum-3.3.0-py3-none-any.whl (65 kB)\n",
      "Collecting google-pasta>=0.1.1\n",
      "  Downloading google_pasta-0.2.0-py3-none-any.whl (57 kB)\n",
      "Collecting libclang>=9.0.1\n",
      "  Downloading libclang-12.0.0-py2.py3-none-win_amd64.whl (13.1 MB)\n",
      "Requirement already satisfied: requests<3,>=2.21.0 in c:\\users\\solai\\anaconda3\\lib\\site-packages (from tensorboard~=2.6->tensorflow) (2.25.1)\n",
      "Collecting tensorboard-plugin-wit>=1.6.0\n",
      "  Downloading tensorboard_plugin_wit-1.8.0-py3-none-any.whl (781 kB)\n",
      "Requirement already satisfied: setuptools>=41.0.0 in c:\\users\\solai\\anaconda3\\lib\\site-packages (from tensorboard~=2.6->tensorflow) (52.0.0.post20210125)\n",
      "Collecting google-auth-oauthlib<0.5,>=0.4.1\n",
      "  Downloading google_auth_oauthlib-0.4.6-py2.py3-none-any.whl (18 kB)\n",
      "Collecting google-auth<3,>=1.6.3\n",
      "  Downloading google_auth-2.3.3-py2.py3-none-any.whl (155 kB)\n",
      "Collecting tensorboard-data-server<0.7.0,>=0.6.0\n",
      "  Downloading tensorboard_data_server-0.6.1-py3-none-any.whl (2.4 kB)\n",
      "Collecting markdown>=2.6.8\n",
      "  Downloading Markdown-3.3.4-py3-none-any.whl (97 kB)\n",
      "Collecting werkzeug>=0.11.15\n",
      "  Downloading Werkzeug-2.0.2-py3-none-any.whl (288 kB)\n",
      "Requirement already satisfied: rsa<5,>=3.1.4 in c:\\users\\solai\\anaconda3\\lib\\site-packages (from google-auth<3,>=1.6.3->tensorboard~=2.6->tensorflow) (4.7.2)\n",
      "Requirement already satisfied: cachetools<5.0,>=2.0.0 in c:\\users\\solai\\anaconda3\\lib\\site-packages (from google-auth<3,>=1.6.3->tensorboard~=2.6->tensorflow) (4.2.1)\n",
      "Requirement already satisfied: pyasn1-modules>=0.2.1 in c:\\users\\solai\\anaconda3\\lib\\site-packages (from google-auth<3,>=1.6.3->tensorboard~=2.6->tensorflow) (0.2.8)\n",
      "Collecting requests-oauthlib>=0.7.0\n",
      "  Downloading requests_oauthlib-1.3.0-py2.py3-none-any.whl (23 kB)\n",
      "Requirement already satisfied: pyasn1<0.5.0,>=0.4.6 in c:\\users\\solai\\anaconda3\\lib\\site-packages (from pyasn1-modules>=0.2.1->google-auth<3,>=1.6.3->tensorboard~=2.6->tensorflow) (0.4.8)\n",
      "Requirement already satisfied: urllib3<1.27,>=1.21.1 in c:\\users\\solai\\anaconda3\\lib\\site-packages (from requests<3,>=2.21.0->tensorboard~=2.6->tensorflow) (1.26.6)\n",
      "Requirement already satisfied: chardet<5,>=3.0.2 in c:\\users\\solai\\anaconda3\\lib\\site-packages (from requests<3,>=2.21.0->tensorboard~=2.6->tensorflow) (4.0.0)\n",
      "Requirement already satisfied: certifi>=2017.4.17 in c:\\users\\solai\\anaconda3\\lib\\site-packages (from requests<3,>=2.21.0->tensorboard~=2.6->tensorflow) (2021.5.30)\n",
      "Requirement already satisfied: idna<3,>=2.5 in c:\\users\\solai\\anaconda3\\lib\\site-packages (from requests<3,>=2.21.0->tensorboard~=2.6->tensorflow) (2.10)\n",
      "Collecting oauthlib>=3.0.0\n",
      "  Downloading oauthlib-3.1.1-py2.py3-none-any.whl (146 kB)\n",
      "Building wheels for collected packages: termcolor\n",
      "  Building wheel for termcolor (setup.py): started\n",
      "  Building wheel for termcolor (setup.py): finished with status 'done'\n",
      "  Created wheel for termcolor: filename=termcolor-1.1.0-py3-none-any.whl size=4829 sha256=7775be57d3fc93ecb4a39edb216587628c27994890e0fbe7496288625b51fcd4\n",
      "  Stored in directory: c:\\users\\solai\\appdata\\local\\pip\\cache\\wheels\\a0\\16\\9c\\5473df82468f958445479c59e784896fa24f4a5fc024b0f501\n",
      "Successfully built termcolor\n",
      "Installing collected packages: oauthlib, requests-oauthlib, google-auth, werkzeug, tensorboard-plugin-wit, tensorboard-data-server, markdown, grpcio, google-auth-oauthlib, wrapt, typing-extensions, termcolor, tensorflow-io-gcs-filesystem, tensorflow-estimator, tensorboard, opt-einsum, libclang, keras-preprocessing, keras, h5py, google-pasta, gast, flatbuffers, astunparse, tensorflow\n",
      "  Attempting uninstall: google-auth\n",
      "    Found existing installation: google-auth 1.4.2\n",
      "    Uninstalling google-auth-1.4.2:\n",
      "      Successfully uninstalled google-auth-1.4.2\n",
      "Successfully installed astunparse-1.6.3 flatbuffers-2.0 gast-0.4.0 google-auth-2.3.3 google-auth-oauthlib-0.4.6 google-pasta-0.2.0 grpcio-1.41.1 h5py-3.5.0 keras-2.7.0 keras-preprocessing-1.1.2 libclang-12.0.0 markdown-3.3.4 oauthlib-3.1.1 opt-einsum-3.3.0 requests-oauthlib-1.3.0 tensorboard-2.7.0 tensorboard-data-server-0.6.1 tensorboard-plugin-wit-1.8.0 tensorflow-2.7.0 tensorflow-estimator-2.7.0 tensorflow-io-gcs-filesystem-0.21.0 termcolor-1.1.0 typing-extensions-3.10.0.2 werkzeug-2.0.2 wrapt-1.13.3\n"
     ]
    }
   ],
   "source": [
    "# !pip install tensorflow"
   ]
  },
  {
   "cell_type": "code",
   "execution_count": 67,
   "metadata": {},
   "outputs": [],
   "source": [
    "import tensorflow as tf\n",
    "\n",
    "from tensorflow.keras import datasets, layers, models\n",
    "import matplotlib.pyplot as plt"
   ]
  },
  {
   "cell_type": "code",
   "execution_count": 87,
   "metadata": {},
   "outputs": [],
   "source": [
    "from keras.models import Sequential\n",
    "from keras.layers import Dense\n",
    "from keras.layers import Flatten\n",
    "from keras.layers.convolutional import Conv1D\n",
    "from keras.layers.convolutional import MaxPooling1D\n"
   ]
  },
  {
   "cell_type": "code",
   "execution_count": 128,
   "metadata": {},
   "outputs": [],
   "source": [
    "# choose a number of time steps\n",
    "n_steps = 30\n",
    "n_features = 1\n",
    "# define model\n",
    "model = Sequential()\n",
    "model.add(Conv1D(filters=64, kernel_size=2, activation='relu', input_shape=(n_steps, n_features)))\n",
    "model.add(MaxPooling1D(pool_size=2))\n",
    "model.add(Flatten())\n",
    "model.add(Dense(50, activation='relu'))\n",
    "model.add(Dense(1))\n",
    "# model.compile(optimizer='adam', loss='mse')\n",
    "\n",
    "model.compile(optimizer='adam',loss='categorical_crossentropy',metrics=['accuracy'])"
   ]
  },
  {
   "cell_type": "code",
   "execution_count": 154,
   "metadata": {},
   "outputs": [
    {
     "name": "stdout",
     "output_type": "stream",
     "text": [
      "Model: \"sequential_10\"\n",
      "_________________________________________________________________\n",
      " Layer (type)                Output Shape              Param #   \n",
      "=================================================================\n",
      " conv1d_5 (Conv1D)           (None, 29, 64)            192       \n",
      "                                                                 \n",
      " max_pooling1d_5 (MaxPooling  (None, 14, 64)           0         \n",
      " 1D)                                                             \n",
      "                                                                 \n",
      " flatten_6 (Flatten)         (None, 896)               0         \n",
      "                                                                 \n",
      " dense_18 (Dense)            (None, 50)                44850     \n",
      "                                                                 \n",
      " dense_19 (Dense)            (None, 1)                 51        \n",
      "                                                                 \n",
      "=================================================================\n",
      "Total params: 45,093\n",
      "Trainable params: 45,093\n",
      "Non-trainable params: 0\n",
      "_________________________________________________________________\n"
     ]
    }
   ],
   "source": [
    "model.summary()"
   ]
  },
  {
   "cell_type": "code",
   "execution_count": 129,
   "metadata": {},
   "outputs": [],
   "source": [
    "X = Xtrain[0:10000].values.reshape(Xtrain[0:10000].values.shape[0], Xtrain[0:10000].values.shape[1], n_features)\n",
    "# X"
   ]
  },
  {
   "cell_type": "code",
   "execution_count": 130,
   "metadata": {},
   "outputs": [
    {
     "name": "stdout",
     "output_type": "stream",
     "text": [
      "Epoch 1/10\n",
      "313/313 [==============================] - 4s 4ms/step - loss: 1.5532e-07 - accuracy: 0.2370\n",
      "Epoch 2/10\n",
      "313/313 [==============================] - 1s 3ms/step - loss: 1.5532e-07 - accuracy: 0.2370\n",
      "Epoch 3/10\n",
      "313/313 [==============================] - 1s 3ms/step - loss: 1.5532e-07 - accuracy: 0.2370\n",
      "Epoch 4/10\n",
      "313/313 [==============================] - 1s 3ms/step - loss: 1.5532e-07 - accuracy: 0.2370\n",
      "Epoch 5/10\n",
      "313/313 [==============================] - 1s 3ms/step - loss: 1.5532e-07 - accuracy: 0.2370\n",
      "Epoch 6/10\n",
      "313/313 [==============================] - 1s 3ms/step - loss: 1.5532e-07 - accuracy: 0.2370\n",
      "Epoch 7/10\n",
      "313/313 [==============================] - 1s 3ms/step - loss: 1.5532e-07 - accuracy: 0.2370\n",
      "Epoch 8/10\n",
      "313/313 [==============================] - 1s 3ms/step - loss: 1.5532e-07 - accuracy: 0.2370\n",
      "Epoch 9/10\n",
      "313/313 [==============================] - 1s 3ms/step - loss: 1.5532e-07 - accuracy: 0.2370\n",
      "Epoch 10/10\n",
      "313/313 [==============================] - 1s 4ms/step - loss: 1.5532e-07 - accuracy: 0.2370: 0s - loss: 1.5443e-07 - \n"
     ]
    },
    {
     "data": {
      "text/plain": [
       "<keras.callbacks.History at 0x16e1ca68910>"
      ]
     },
     "execution_count": 130,
     "metadata": {},
     "output_type": "execute_result"
    }
   ],
   "source": [
    "# fit model\n",
    "model.fit(X, ytrain_t[0:10000], epochs=10, verbose=1)"
   ]
  },
  {
   "cell_type": "code",
   "execution_count": 142,
   "metadata": {},
   "outputs": [
    {
     "name": "stdout",
     "output_type": "stream",
     "text": [
      "32/32 [==============================] - 0s 2ms/step\n"
     ]
    }
   ],
   "source": [
    "# demonstrate prediction\n",
    "# x_input = Xtest[0:1000].values.reshape((1, n_steps, n_features))\n",
    "X_input = Xtest[0:1000].values.reshape(Xtest[0:1000].values.shape[0], Xtest[0:1000].values.shape[1], n_features)\n",
    "\n",
    "yhat = model.predict(X_input, verbose=1)"
   ]
  },
  {
   "cell_type": "code",
   "execution_count": 144,
   "metadata": {
    "scrolled": true
   },
   "outputs": [
    {
     "data": {
      "text/plain": [
       "(1000, 1)"
      ]
     },
     "execution_count": 144,
     "metadata": {},
     "output_type": "execute_result"
    }
   ],
   "source": [
    "yhat.shape\n",
    "# yhat"
   ]
  },
  {
   "cell_type": "code",
   "execution_count": 149,
   "metadata": {},
   "outputs": [],
   "source": [
    "from sklearn.metrics import mean_squared_error, accuracy_score, confusion_matrix\n",
    "# mean_squared_error(ytest[0:1000], yhat)\n",
    "# accuracy_score(ytest[0:1000], yhat)\n",
    "cnn_score = accuracy_score(ytest[0:1000], np.round(abs(yhat)), normalize=False)*10\n",
    "# confusion_matrix(ytest[0:1000], yhat)"
   ]
  },
  {
   "cell_type": "code",
   "execution_count": 155,
   "metadata": {},
   "outputs": [
    {
     "name": "stdout",
     "output_type": "stream",
     "text": [
      "CNN Accuracy Score:  80 %\n"
     ]
    }
   ],
   "source": [
    "print(\"CNN Accuracy Score: \", cnn_score, \"%\")"
   ]
  }
 ],
 "metadata": {
  "kernelspec": {
   "display_name": "Python 3",
   "language": "python",
   "name": "python3"
  },
  "language_info": {
   "codemirror_mode": {
    "name": "ipython",
    "version": 3
   },
   "file_extension": ".py",
   "mimetype": "text/x-python",
   "name": "python",
   "nbconvert_exporter": "python",
   "pygments_lexer": "ipython3",
   "version": "3.8.5"
  }
 },
 "nbformat": 4,
 "nbformat_minor": 4
}
